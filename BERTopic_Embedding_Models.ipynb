{
  "nbformat": 4,
  "nbformat_minor": 0,
  "metadata": {
    "colab": {
      "provenance": [],
      "collapsed_sections": [],
      "toc_visible": true,
      "include_colab_link": true
    },
    "kernelspec": {
      "name": "python3",
      "display_name": "Python 3"
    },
    "accelerator": "GPU"
  },
  "cells": [
    {
      "cell_type": "markdown",
      "metadata": {
        "id": "view-in-github",
        "colab_type": "text"
      },
      "source": [
        "<a href=\"https://colab.research.google.com/github/bin-crypto-test/BERTopic/blob/master/BERTopic_Embedding_Models.ipynb\" target=\"_parent\"><img src=\"https://colab.research.google.com/assets/colab-badge.svg\" alt=\"Open In Colab\"/></a>"
      ]
    },
    {
      "cell_type": "markdown",
      "metadata": {
        "id": "AXHLDxJdRzBi"
      },
      "source": [
        "# **Tutorial** - (Custom) Embedding Models in BERTopic\n",
        "(last updated 26-04-2021)\n",
        "\n",
        "In this tutorial we will be going through the embedding models that can be used in BERTopic. Having the option to choose embedding models allow you to leverage pre-trained embeddings that suit your use-case. Moreover, it helps creating a topic when you have little data to your availability. \n",
        "\n",
        "## Embedding models\n",
        "Embedding models are used for the representation of text, such as words, sentences and documents, in the form of real-valued vectors. They typically encode the semantic meaning of text. \n",
        "\n",
        "<br>\n",
        "\n",
        "<img src=\"https://raw.githubusercontent.com/MaartenGr/BERTopic/master/images/logo.png\" width=\"40%\">"
      ]
    },
    {
      "cell_type": "markdown",
      "metadata": {
        "id": "u9Xfz5COO-5a"
      },
      "source": [
        "# Enabling the GPU\n",
        "\n",
        "First, you'll need to enable GPUs for the notebook:\n",
        "\n",
        "- Navigate to Edit→Notebook Settings\n",
        "- select GPU from the Hardware Accelerator drop-down\n",
        "\n",
        "[Reference](https://colab.research.google.com/notebooks/gpu.ipynb)"
      ]
    },
    {
      "cell_type": "markdown",
      "metadata": {
        "id": "OeFueQ8xP_7E"
      },
      "source": [
        "# Installing BERTopic\n",
        "\n",
        "We start by installing BERTopic, with all backends possible, from PyPi:"
      ]
    },
    {
      "cell_type": "code",
      "metadata": {
        "id": "SNa-KtKDRnus"
      },
      "source": [
        "%%capture\n",
        "!pip install bertopic[flair, gensim, spacy, use]"
      ],
      "execution_count": null,
      "outputs": []
    },
    {
      "cell_type": "markdown",
      "metadata": {
        "id": "wb6HEJHUj9Wn"
      },
      "source": [
        "**NOTE**: This may take a while as it needs to install Spacy, Torch, Gensim, USE, etc. \n",
        "\n",
        "**NOTE 1**: There might be dependency-conflicts if you install back-ends so it might be worthwhile to only choose one to experiment with. "
      ]
    },
    {
      "cell_type": "markdown",
      "metadata": {
        "id": "yeg8RIjrQFkE"
      },
      "source": [
        "## Restart the Notebook\n",
        "After installing BERTopic, some packages that were already loaded were updated and in order to correctly use them, we should now restart the notebook.\n",
        "\n",
        "From the Menu:\n",
        "\n",
        "Runtime → Restart Runtime"
      ]
    },
    {
      "cell_type": "markdown",
      "metadata": {
        "id": "Y3VGFZ1USMTu"
      },
      "source": [
        "# **Data**\n",
        "For this example, we use the popular 20 Newsgroups dataset which contains roughly 18000 newsgroups posts"
      ]
    },
    {
      "cell_type": "code",
      "metadata": {
        "id": "JJij3WP6SEQD"
      },
      "source": [
        "from bertopic import BERTopic\n",
        "from sklearn.datasets import fetch_20newsgroups\n",
        "docs = fetch_20newsgroups(subset='train',  remove=('headers', 'footers', 'quotes'))['data']"
      ],
      "execution_count": null,
      "outputs": []
    },
    {
      "cell_type": "code",
      "metadata": {
        "colab": {
          "base_uri": "https://localhost:8080/"
        },
        "id": "I3v3bdLERcxG",
        "outputId": "dc65573b-e724-405e-8579-cc6217b4de4e"
      },
      "source": [
        "print(docs[0])"
      ],
      "execution_count": null,
      "outputs": [
        {
          "output_type": "stream",
          "text": [
            "I was wondering if anyone out there could enlighten me on this car I saw\n",
            "the other day. It was a 2-door sports car, looked to be from the late 60s/\n",
            "early 70s. It was called a Bricklin. The doors were really small. In addition,\n",
            "the front bumper was separate from the rest of the body. This is \n",
            "all I know. If anyone can tellme a model name, engine specs, years\n",
            "of production, where this car is made, history, or whatever info you\n",
            "have on this funky looking car, please e-mail.\n"
          ],
          "name": "stdout"
        }
      ]
    },
    {
      "cell_type": "markdown",
      "metadata": {
        "id": "SBcNmZJzSTY8"
      },
      "source": [
        "# **Embedding Models**\n",
        "In this section, we will go through all embedding models and backends that are supported in BERTopic."
      ]
    },
    {
      "cell_type": "markdown",
      "metadata": {
        "id": "iNoAyX1CSHRh"
      },
      "source": [
        "## Sentence Transformers\n",
        "You can select any model from sentence-transformers [here](https://www.sbert.net/docs/pretrained_models.html) and pass it through BERTopic with `embedding_model`:"
      ]
    },
    {
      "cell_type": "code",
      "metadata": {
        "id": "TfhfzqkoSJ1I"
      },
      "source": [
        "topic_model = BERTopic(embedding_model=\"xlm-r-bert-base-nli-stsb-mean-tokens\").fit(docs)"
      ],
      "execution_count": null,
      "outputs": []
    },
    {
      "cell_type": "code",
      "metadata": {
        "colab": {
          "base_uri": "https://localhost:8080/",
          "height": 195
        },
        "id": "QK58oUIJEYYv",
        "outputId": "1c83af67-e4bb-4569-f308-2282becdf6f2"
      },
      "source": [
        "topic_model.get_topic_info().head(5)"
      ],
      "execution_count": null,
      "outputs": [
        {
          "output_type": "execute_result",
          "data": {
            "text/html": [
              "<div>\n",
              "<style scoped>\n",
              "    .dataframe tbody tr th:only-of-type {\n",
              "        vertical-align: middle;\n",
              "    }\n",
              "\n",
              "    .dataframe tbody tr th {\n",
              "        vertical-align: top;\n",
              "    }\n",
              "\n",
              "    .dataframe thead th {\n",
              "        text-align: right;\n",
              "    }\n",
              "</style>\n",
              "<table border=\"1\" class=\"dataframe\">\n",
              "  <thead>\n",
              "    <tr style=\"text-align: right;\">\n",
              "      <th></th>\n",
              "      <th>Topic</th>\n",
              "      <th>Count</th>\n",
              "      <th>Name</th>\n",
              "    </tr>\n",
              "  </thead>\n",
              "  <tbody>\n",
              "    <tr>\n",
              "      <th>0</th>\n",
              "      <td>-1</td>\n",
              "      <td>4630</td>\n",
              "      <td>-1_can_your_will_any</td>\n",
              "    </tr>\n",
              "    <tr>\n",
              "      <th>1</th>\n",
              "      <td>32</td>\n",
              "      <td>693</td>\n",
              "      <td>32_jesus_church_bible_we</td>\n",
              "    </tr>\n",
              "    <tr>\n",
              "      <th>2</th>\n",
              "      <td>49</td>\n",
              "      <td>466</td>\n",
              "      <td>49_patients_health_medical_pain</td>\n",
              "    </tr>\n",
              "    <tr>\n",
              "      <th>3</th>\n",
              "      <td>2</td>\n",
              "      <td>441</td>\n",
              "      <td>2_space_launch_orbit_lunar</td>\n",
              "    </tr>\n",
              "    <tr>\n",
              "      <th>4</th>\n",
              "      <td>22</td>\n",
              "      <td>381</td>\n",
              "      <td>22_key_encryption_keys_encrypted</td>\n",
              "    </tr>\n",
              "  </tbody>\n",
              "</table>\n",
              "</div>"
            ],
            "text/plain": [
              "   Topic  Count                              Name\n",
              "0     -1   4630              -1_can_your_will_any\n",
              "1     32    693          32_jesus_church_bible_we\n",
              "2     49    466   49_patients_health_medical_pain\n",
              "3      2    441        2_space_launch_orbit_lunar\n",
              "4     22    381  22_key_encryption_keys_encrypted"
            ]
          },
          "metadata": {
            "tags": []
          },
          "execution_count": 19
        }
      ]
    },
    {
      "cell_type": "markdown",
      "metadata": {
        "id": "0ua80usww-rj"
      },
      "source": [
        "Or we can select a SentenceTransformer model with our own parameters:\n",
        "\n"
      ]
    },
    {
      "cell_type": "code",
      "metadata": {
        "id": "VUNsYrCETNar"
      },
      "source": [
        "from sentence_transformers import SentenceTransformer\n",
        "\n",
        "sentence_model = SentenceTransformer(\"xlm-r-bert-base-nli-stsb-mean-tokens\", device=\"cuda\")\n",
        "topic_model = BERTopic(embedding_model=sentence_model).fit(docs)"
      ],
      "execution_count": null,
      "outputs": []
    },
    {
      "cell_type": "code",
      "metadata": {
        "colab": {
          "base_uri": "https://localhost:8080/",
          "height": 195
        },
        "id": "iUDXJ882EfNa",
        "outputId": "9818f09c-bfff-459f-a5ad-9d85625de4dc"
      },
      "source": [
        "topic_model.get_topic_info().head(5)"
      ],
      "execution_count": null,
      "outputs": [
        {
          "output_type": "execute_result",
          "data": {
            "text/html": [
              "<div>\n",
              "<style scoped>\n",
              "    .dataframe tbody tr th:only-of-type {\n",
              "        vertical-align: middle;\n",
              "    }\n",
              "\n",
              "    .dataframe tbody tr th {\n",
              "        vertical-align: top;\n",
              "    }\n",
              "\n",
              "    .dataframe thead th {\n",
              "        text-align: right;\n",
              "    }\n",
              "</style>\n",
              "<table border=\"1\" class=\"dataframe\">\n",
              "  <thead>\n",
              "    <tr style=\"text-align: right;\">\n",
              "      <th></th>\n",
              "      <th>Topic</th>\n",
              "      <th>Count</th>\n",
              "      <th>Name</th>\n",
              "    </tr>\n",
              "  </thead>\n",
              "  <tbody>\n",
              "    <tr>\n",
              "      <th>0</th>\n",
              "      <td>-1</td>\n",
              "      <td>4560</td>\n",
              "      <td>-1_if_can_but_any</td>\n",
              "    </tr>\n",
              "    <tr>\n",
              "      <th>1</th>\n",
              "      <td>5</td>\n",
              "      <td>934</td>\n",
              "      <td>5_team_game_hockey_season</td>\n",
              "    </tr>\n",
              "    <tr>\n",
              "      <th>2</th>\n",
              "      <td>45</td>\n",
              "      <td>510</td>\n",
              "      <td>45_jesus_bible_christian_faith</td>\n",
              "    </tr>\n",
              "    <tr>\n",
              "      <th>3</th>\n",
              "      <td>2</td>\n",
              "      <td>443</td>\n",
              "      <td>2_space_nasa_launch_orbit</td>\n",
              "    </tr>\n",
              "    <tr>\n",
              "      <th>4</th>\n",
              "      <td>29</td>\n",
              "      <td>320</td>\n",
              "      <td>29_key_encryption_keys_encrypted</td>\n",
              "    </tr>\n",
              "  </tbody>\n",
              "</table>\n",
              "</div>"
            ],
            "text/plain": [
              "   Topic  Count                              Name\n",
              "0     -1   4560                 -1_if_can_but_any\n",
              "1      5    934         5_team_game_hockey_season\n",
              "2     45    510    45_jesus_bible_christian_faith\n",
              "3      2    443         2_space_nasa_launch_orbit\n",
              "4     29    320  29_key_encryption_keys_encrypted"
            ]
          },
          "metadata": {
            "tags": []
          },
          "execution_count": 12
        }
      ]
    },
    {
      "cell_type": "markdown",
      "metadata": {
        "id": "Zxlr8riQCdxz"
      },
      "source": [
        "## Flair"
      ]
    },
    {
      "cell_type": "markdown",
      "metadata": {
        "id": "UYbCyFqKEjNK"
      },
      "source": [
        "Flair allows you to choose almost any embedding model that is publicly available.<br> Flair can be used as follows:"
      ]
    },
    {
      "cell_type": "code",
      "metadata": {
        "id": "Khqzs5D0Ejda"
      },
      "source": [
        "from flair.embeddings import TransformerDocumentEmbeddings\n",
        "\n",
        "roberta = TransformerDocumentEmbeddings('roberta-base')\n",
        "topic_model = BERTopic(embedding_model=roberta).fit(docs)"
      ],
      "execution_count": null,
      "outputs": []
    },
    {
      "cell_type": "code",
      "metadata": {
        "colab": {
          "base_uri": "https://localhost:8080/",
          "height": 195
        },
        "id": "qjY1BevyFtQO",
        "outputId": "8f401798-ce5e-4c94-9ab7-7e3e66a003a3"
      },
      "source": [
        "topic_model.get_topic_info().head(5)"
      ],
      "execution_count": null,
      "outputs": [
        {
          "output_type": "execute_result",
          "data": {
            "text/html": [
              "<div>\n",
              "<style scoped>\n",
              "    .dataframe tbody tr th:only-of-type {\n",
              "        vertical-align: middle;\n",
              "    }\n",
              "\n",
              "    .dataframe tbody tr th {\n",
              "        vertical-align: top;\n",
              "    }\n",
              "\n",
              "    .dataframe thead th {\n",
              "        text-align: right;\n",
              "    }\n",
              "</style>\n",
              "<table border=\"1\" class=\"dataframe\">\n",
              "  <thead>\n",
              "    <tr style=\"text-align: right;\">\n",
              "      <th></th>\n",
              "      <th>Topic</th>\n",
              "      <th>Count</th>\n",
              "      <th>Name</th>\n",
              "    </tr>\n",
              "  </thead>\n",
              "  <tbody>\n",
              "    <tr>\n",
              "      <th>0</th>\n",
              "      <td>-1</td>\n",
              "      <td>4063</td>\n",
              "      <td>-1_they_can_an_your</td>\n",
              "    </tr>\n",
              "    <tr>\n",
              "      <th>1</th>\n",
              "      <td>16</td>\n",
              "      <td>957</td>\n",
              "      <td>16_his_we_bible_christian</td>\n",
              "    </tr>\n",
              "    <tr>\n",
              "      <th>2</th>\n",
              "      <td>8</td>\n",
              "      <td>862</td>\n",
              "      <td>8_team_hockey_games_his</td>\n",
              "    </tr>\n",
              "    <tr>\n",
              "      <th>3</th>\n",
              "      <td>23</td>\n",
              "      <td>670</td>\n",
              "      <td>23_car_bike_cars_had</td>\n",
              "    </tr>\n",
              "    <tr>\n",
              "      <th>4</th>\n",
              "      <td>6</td>\n",
              "      <td>451</td>\n",
              "      <td>6_hiv_gordon_geb_chastity</td>\n",
              "    </tr>\n",
              "  </tbody>\n",
              "</table>\n",
              "</div>"
            ],
            "text/plain": [
              "   Topic  Count                       Name\n",
              "0     -1   4063        -1_they_can_an_your\n",
              "1     16    957  16_his_we_bible_christian\n",
              "2      8    862    8_team_hockey_games_his\n",
              "3     23    670       23_car_bike_cars_had\n",
              "4      6    451  6_hiv_gordon_geb_chastity"
            ]
          },
          "metadata": {
            "tags": []
          },
          "execution_count": 22
        }
      ]
    },
    {
      "cell_type": "markdown",
      "metadata": {
        "id": "oPbDc22-EpGS"
      },
      "source": [
        "You can select any 🤗 transformers model [here](https://huggingface.co/models).\n",
        "\n",
        "Moreover, you can also use Flair to use word embeddings and pool them to create document embeddings. Under the hood, Flair simply averages all word embeddings in a document. Then, we can easily pass it to BERTopic in order to use those word embeddings as document embeddings:"
      ]
    },
    {
      "cell_type": "code",
      "metadata": {
        "id": "wpl45ggKEtpH"
      },
      "source": [
        "from flair.embeddings import WordEmbeddings, DocumentPoolEmbeddings\n",
        "\n",
        "glove_embedding = WordEmbeddings('crawl')\n",
        "document_glove_embeddings = DocumentPoolEmbeddings([glove_embedding])\n",
        "\n",
        "topic_model = BERTopic(embedding_model=document_glove_embeddings).fit(docs)"
      ],
      "execution_count": null,
      "outputs": []
    },
    {
      "cell_type": "code",
      "metadata": {
        "colab": {
          "base_uri": "https://localhost:8080/",
          "height": 195
        },
        "id": "vcDTOBydHxEf",
        "outputId": "ac9fdd6a-0eb3-48f0-dc37-46cc17f0ebb7"
      },
      "source": [
        "topic_model.get_topic_info().head(5)"
      ],
      "execution_count": null,
      "outputs": [
        {
          "output_type": "execute_result",
          "data": {
            "text/html": [
              "<div>\n",
              "<style scoped>\n",
              "    .dataframe tbody tr th:only-of-type {\n",
              "        vertical-align: middle;\n",
              "    }\n",
              "\n",
              "    .dataframe tbody tr th {\n",
              "        vertical-align: top;\n",
              "    }\n",
              "\n",
              "    .dataframe thead th {\n",
              "        text-align: right;\n",
              "    }\n",
              "</style>\n",
              "<table border=\"1\" class=\"dataframe\">\n",
              "  <thead>\n",
              "    <tr style=\"text-align: right;\">\n",
              "      <th></th>\n",
              "      <th>Topic</th>\n",
              "      <th>Count</th>\n",
              "      <th>Name</th>\n",
              "    </tr>\n",
              "  </thead>\n",
              "  <tbody>\n",
              "    <tr>\n",
              "      <th>0</th>\n",
              "      <td>-1</td>\n",
              "      <td>4892</td>\n",
              "      <td>-1_do_any_like_just</td>\n",
              "    </tr>\n",
              "    <tr>\n",
              "      <th>1</th>\n",
              "      <td>0</td>\n",
              "      <td>300</td>\n",
              "      <td>0_disapprove_disapproves_disarm_disarmed</td>\n",
              "    </tr>\n",
              "    <tr>\n",
              "      <th>2</th>\n",
              "      <td>85</td>\n",
              "      <td>271</td>\n",
              "      <td>85_encryption_keys_government_secure</td>\n",
              "    </tr>\n",
              "    <tr>\n",
              "      <th>3</th>\n",
              "      <td>148</td>\n",
              "      <td>183</td>\n",
              "      <td>148_jesus_god_christ_lord</td>\n",
              "    </tr>\n",
              "    <tr>\n",
              "      <th>4</th>\n",
              "      <td>141</td>\n",
              "      <td>180</td>\n",
              "      <td>141_anyone_please_me_help</td>\n",
              "    </tr>\n",
              "  </tbody>\n",
              "</table>\n",
              "</div>"
            ],
            "text/plain": [
              "   Topic  Count                                      Name\n",
              "0     -1   4892                       -1_do_any_like_just\n",
              "1      0    300  0_disapprove_disapproves_disarm_disarmed\n",
              "2     85    271      85_encryption_keys_government_secure\n",
              "3    148    183                 148_jesus_god_christ_lord\n",
              "4    141    180                 141_anyone_please_me_help"
            ]
          },
          "metadata": {
            "tags": []
          },
          "execution_count": 25
        }
      ]
    },
    {
      "cell_type": "markdown",
      "metadata": {
        "id": "iaJNMON2CkAA"
      },
      "source": [
        "## Spacy\n",
        "Spacy has shown great promise over the last years and is now slowly transitioning into transformer-based techniques which makes it interesting to use in BERTopic. "
      ]
    },
    {
      "cell_type": "markdown",
      "metadata": {
        "id": "ZJITc16IKyJL"
      },
      "source": [
        "We start by using a non-transformer-based model which we will have to download first:"
      ]
    },
    {
      "cell_type": "code",
      "metadata": {
        "id": "ArkUy-yDLHTv"
      },
      "source": [
        "!python -m spacy download en_core_web_md"
      ],
      "execution_count": null,
      "outputs": []
    },
    {
      "cell_type": "markdown",
      "metadata": {
        "id": "W7K3v2ZGLbhF"
      },
      "source": [
        "Next, simply load the model into a Spacy nlp instance and pass it through BERTopic:"
      ]
    },
    {
      "cell_type": "code",
      "metadata": {
        "id": "EdBn0ZwDKoCX"
      },
      "source": [
        "import spacy\n",
        "\n",
        "nlp = spacy.load(\"en_core_web_md\", exclude=['tagger', 'parser', 'ner', 'attribute_ruler', 'lemmatizer'])\n",
        "\n",
        "topic_model = BERTopic(embedding_model=nlp, verbose=True).fit(docs)"
      ],
      "execution_count": null,
      "outputs": []
    },
    {
      "cell_type": "code",
      "metadata": {
        "colab": {
          "base_uri": "https://localhost:8080/",
          "height": 195
        },
        "id": "oTSBcvHeML30",
        "outputId": "743140b7-e5ca-42a2-8b69-20512c15ba7c"
      },
      "source": [
        "topic_model.get_topic_info().head(5)"
      ],
      "execution_count": null,
      "outputs": [
        {
          "output_type": "execute_result",
          "data": {
            "text/html": [
              "<div>\n",
              "<style scoped>\n",
              "    .dataframe tbody tr th:only-of-type {\n",
              "        vertical-align: middle;\n",
              "    }\n",
              "\n",
              "    .dataframe tbody tr th {\n",
              "        vertical-align: top;\n",
              "    }\n",
              "\n",
              "    .dataframe thead th {\n",
              "        text-align: right;\n",
              "    }\n",
              "</style>\n",
              "<table border=\"1\" class=\"dataframe\">\n",
              "  <thead>\n",
              "    <tr style=\"text-align: right;\">\n",
              "      <th></th>\n",
              "      <th>Topic</th>\n",
              "      <th>Count</th>\n",
              "      <th>Name</th>\n",
              "    </tr>\n",
              "  </thead>\n",
              "  <tbody>\n",
              "    <tr>\n",
              "      <th>0</th>\n",
              "      <td>-1</td>\n",
              "      <td>4985</td>\n",
              "      <td>-1_would_so_just_get</td>\n",
              "    </tr>\n",
              "    <tr>\n",
              "      <th>1</th>\n",
              "      <td>84</td>\n",
              "      <td>692</td>\n",
              "      <td>84_game_team_he_season</td>\n",
              "    </tr>\n",
              "    <tr>\n",
              "      <th>2</th>\n",
              "      <td>10</td>\n",
              "      <td>411</td>\n",
              "      <td>10_patients_disease_pain_doctor</td>\n",
              "    </tr>\n",
              "    <tr>\n",
              "      <th>3</th>\n",
              "      <td>0</td>\n",
              "      <td>306</td>\n",
              "      <td>0_disarray_disassociate_disaster_disasterous</td>\n",
              "    </tr>\n",
              "    <tr>\n",
              "      <th>4</th>\n",
              "      <td>88</td>\n",
              "      <td>173</td>\n",
              "      <td>88_what_why_think_hey</td>\n",
              "    </tr>\n",
              "  </tbody>\n",
              "</table>\n",
              "</div>"
            ],
            "text/plain": [
              "   Topic  Count                                          Name\n",
              "0     -1   4985                          -1_would_so_just_get\n",
              "1     84    692                        84_game_team_he_season\n",
              "2     10    411               10_patients_disease_pain_doctor\n",
              "3      0    306  0_disarray_disassociate_disaster_disasterous\n",
              "4     88    173                         88_what_why_think_hey"
            ]
          },
          "metadata": {
            "tags": []
          },
          "execution_count": 6
        }
      ]
    },
    {
      "cell_type": "markdown",
      "metadata": {
        "id": "55uszcvXLSBX"
      },
      "source": [
        "We can also use their transformer-based models which we also have to download first:"
      ]
    },
    {
      "cell_type": "code",
      "metadata": {
        "id": "ZYFi_CSyLXje"
      },
      "source": [
        "!python -m spacy download en_core_web_trf"
      ],
      "execution_count": null,
      "outputs": []
    },
    {
      "cell_type": "markdown",
      "metadata": {
        "id": "YiweZ01jLY7P"
      },
      "source": [
        "As before, we simply load the model and pass it through BERTopic. Note that we exclude a bunch of features as they are not used in BERTopic."
      ]
    },
    {
      "cell_type": "code",
      "metadata": {
        "id": "sZCSiY_03zX0"
      },
      "source": [
        "import spacy\n",
        "\n",
        "spacy.prefer_gpu()\n",
        "nlp = spacy.load(\"en_core_web_trf\", exclude=['tagger', 'parser', 'ner', 'attribute_ruler', 'lemmatizer'])\n",
        "topic_model = BERTopic(embedding_model=nlp, verbose=True, min_topic_size=5).fit(docs)"
      ],
      "execution_count": null,
      "outputs": []
    },
    {
      "cell_type": "markdown",
      "metadata": {
        "id": "lYXvdEBqLxv_"
      },
      "source": [
        "If you run into memory issues with spacy-transformer models, try:"
      ]
    },
    {
      "cell_type": "code",
      "metadata": {
        "id": "wVcvwtKfLv4c"
      },
      "source": [
        "import spacy\n",
        "from thinc.api import set_gpu_allocator, require_gpu\n",
        "\n",
        "nlp = spacy.load(\"en_core_web_trf\", exclude=['tagger', 'parser', 'ner', 'attribute_ruler', 'lemmatizer'])\n",
        "set_gpu_allocator(\"pytorch\")\n",
        "require_gpu(0)\n",
        "\n",
        "topic_model = BERTopic(embedding_model=nlp, verbose=True).fit(docs)"
      ],
      "execution_count": null,
      "outputs": []
    },
    {
      "cell_type": "markdown",
      "metadata": {
        "id": "W2AaTdNhCkGO"
      },
      "source": [
        "## Universal Sentence Encoder (USE)\n",
        "The Universal Sentence Encoder encodes text into high dimensional vectors that are used here for embedding the documents. The model is trained and optimized for greater-than-word length text, such as sentences, phrases or short paragraphs.\n",
        "\n"
      ]
    },
    {
      "cell_type": "code",
      "metadata": {
        "id": "zGAmTJp7CDHe"
      },
      "source": [
        "import tensorflow_hub\n",
        "embedding_model = tensorflow_hub.load(\"https://tfhub.dev/google/universal-sentence-encoder/4\")\n",
        "topic_model = BERTopic(verbose=True, embedding_model=embedding_model).fit(docs)"
      ],
      "execution_count": null,
      "outputs": []
    },
    {
      "cell_type": "code",
      "metadata": {
        "colab": {
          "base_uri": "https://localhost:8080/",
          "height": 195
        },
        "id": "-WJF53JsF2zb",
        "outputId": "f60a0f03-d58d-40f8-cad5-62a59be5337f"
      },
      "source": [
        "topic_model.get_topic_info().head(5)"
      ],
      "execution_count": null,
      "outputs": [
        {
          "output_type": "execute_result",
          "data": {
            "text/html": [
              "<div>\n",
              "<style scoped>\n",
              "    .dataframe tbody tr th:only-of-type {\n",
              "        vertical-align: middle;\n",
              "    }\n",
              "\n",
              "    .dataframe tbody tr th {\n",
              "        vertical-align: top;\n",
              "    }\n",
              "\n",
              "    .dataframe thead th {\n",
              "        text-align: right;\n",
              "    }\n",
              "</style>\n",
              "<table border=\"1\" class=\"dataframe\">\n",
              "  <thead>\n",
              "    <tr style=\"text-align: right;\">\n",
              "      <th></th>\n",
              "      <th>Topic</th>\n",
              "      <th>Count</th>\n",
              "      <th>Name</th>\n",
              "    </tr>\n",
              "  </thead>\n",
              "  <tbody>\n",
              "    <tr>\n",
              "      <th>0</th>\n",
              "      <td>-1</td>\n",
              "      <td>3714</td>\n",
              "      <td>-1_any_about_edu_db</td>\n",
              "    </tr>\n",
              "    <tr>\n",
              "      <th>1</th>\n",
              "      <td>3</td>\n",
              "      <td>1069</td>\n",
              "      <td>3_team_hockey_players_league</td>\n",
              "    </tr>\n",
              "    <tr>\n",
              "      <th>2</th>\n",
              "      <td>8</td>\n",
              "      <td>494</td>\n",
              "      <td>8_nasa_orbit_satellite_lunar</td>\n",
              "    </tr>\n",
              "    <tr>\n",
              "      <th>3</th>\n",
              "      <td>17</td>\n",
              "      <td>459</td>\n",
              "      <td>17_encryption_keys_privacy_security</td>\n",
              "    </tr>\n",
              "    <tr>\n",
              "      <th>4</th>\n",
              "      <td>21</td>\n",
              "      <td>290</td>\n",
              "      <td>21_car_cars_ford_toyota</td>\n",
              "    </tr>\n",
              "  </tbody>\n",
              "</table>\n",
              "</div>"
            ],
            "text/plain": [
              "   Topic  Count                                 Name\n",
              "0     -1   3714                  -1_any_about_edu_db\n",
              "1      3   1069         3_team_hockey_players_league\n",
              "2      8    494         8_nasa_orbit_satellite_lunar\n",
              "3     17    459  17_encryption_keys_privacy_security\n",
              "4     21    290              21_car_cars_ford_toyota"
            ]
          },
          "metadata": {
            "tags": []
          },
          "execution_count": 11
        }
      ]
    },
    {
      "cell_type": "markdown",
      "metadata": {
        "id": "hSegsqnUCkDH"
      },
      "source": [
        "## Gensim\n",
        "For Gensim, BERTopic supports its `gensim.downloader` module. Here, we can download any model word embedding model to be used in BERTopic. Note that Gensim is primarily used for Word Embedding models. This works typically best for short documents since the word embeddings are pooled. "
      ]
    },
    {
      "cell_type": "code",
      "metadata": {
        "id": "evwmYnNdcPSQ"
      },
      "source": [
        "import gensim.downloader as api\n",
        "ft = api.load('fasttext-wiki-news-subwords-300')\n",
        "topic_model = BERTopic(verbose=True, embedding_model=ft).fit(docs)"
      ],
      "execution_count": null,
      "outputs": []
    },
    {
      "cell_type": "markdown",
      "metadata": {
        "id": "KCBkN39qCrPt"
      },
      "source": [
        "# **Customization**\n",
        "Over the last years, many new embedding models have been released that could be interesting to use as a backend in BERTopic. It is not always feasible to implement them all as there are simply too many to follow. \n",
        "\n",
        "In order to still allow to use those embeddings, BERTopic knows several ways to add these embeddings while still allowing for full functionality of BERTopic. \n",
        "\n",
        "Moreover, there are several customization options that allow for a bit more control over which embedding to use when. "
      ]
    },
    {
      "cell_type": "markdown",
      "metadata": {
        "id": "ufgp3gi4CrSR"
      },
      "source": [
        "## Word + Document Embeddings\n",
        "You might want to be using different language models for creating document- and word-embeddings.\n",
        "For example, while SentenceTransformers might be great in embedding sentences and documents, you\n",
        "might prefer to use FastText to create the word embeddings."
      ]
    },
    {
      "cell_type": "code",
      "metadata": {
        "id": "VL8vW58bhMQl"
      },
      "source": [
        "from bertopic.backend import WordDocEmbedder\n",
        "import gensim.downloader as api\n",
        "from sentence_transformers import SentenceTransformer\n",
        "\n",
        "# Word embedding model\n",
        "ft = api.load('fasttext-wiki-news-subwords-300')\n",
        "\n",
        "# Document embedding model\n",
        "distilbert = SentenceTransformer(\"distilbert-base-nli-stsb-mean-tokens\")\n",
        "\n",
        "# Create a model that uses both language models and pass it through BERTopic\n",
        "word_doc_embedder = WordDocEmbedder(embedding_model=distilbert, word_embedding_model=ft)\n",
        "topic_model = BERTopic(verbose=True, embedding_model=word_doc_embedder).fit(docs)"
      ],
      "execution_count": null,
      "outputs": []
    },
    {
      "cell_type": "code",
      "metadata": {
        "colab": {
          "base_uri": "https://localhost:8080/",
          "height": 195
        },
        "id": "b-6-HuK8okas",
        "outputId": "c0dfddef-5e65-4aea-baf4-b2d3900ac0de"
      },
      "source": [
        "topic_model.get_topic_info().head(5)"
      ],
      "execution_count": null,
      "outputs": [
        {
          "output_type": "execute_result",
          "data": {
            "text/html": [
              "<div>\n",
              "<style scoped>\n",
              "    .dataframe tbody tr th:only-of-type {\n",
              "        vertical-align: middle;\n",
              "    }\n",
              "\n",
              "    .dataframe tbody tr th {\n",
              "        vertical-align: top;\n",
              "    }\n",
              "\n",
              "    .dataframe thead th {\n",
              "        text-align: right;\n",
              "    }\n",
              "</style>\n",
              "<table border=\"1\" class=\"dataframe\">\n",
              "  <thead>\n",
              "    <tr style=\"text-align: right;\">\n",
              "      <th></th>\n",
              "      <th>Topic</th>\n",
              "      <th>Count</th>\n",
              "      <th>Name</th>\n",
              "    </tr>\n",
              "  </thead>\n",
              "  <tbody>\n",
              "    <tr>\n",
              "      <th>0</th>\n",
              "      <td>-1</td>\n",
              "      <td>4980</td>\n",
              "      <td>-1_any_do_one_with</td>\n",
              "    </tr>\n",
              "    <tr>\n",
              "      <th>1</th>\n",
              "      <td>66</td>\n",
              "      <td>475</td>\n",
              "      <td>66_he_not_what_do</td>\n",
              "    </tr>\n",
              "    <tr>\n",
              "      <th>2</th>\n",
              "      <td>3</td>\n",
              "      <td>427</td>\n",
              "      <td>3_space_shuttle_orbit_satellite</td>\n",
              "    </tr>\n",
              "    <tr>\n",
              "      <th>3</th>\n",
              "      <td>12</td>\n",
              "      <td>427</td>\n",
              "      <td>12_game_team_players_last</td>\n",
              "    </tr>\n",
              "    <tr>\n",
              "      <th>4</th>\n",
              "      <td>17</td>\n",
              "      <td>396</td>\n",
              "      <td>17_team_game_season_players</td>\n",
              "    </tr>\n",
              "  </tbody>\n",
              "</table>\n",
              "</div>"
            ],
            "text/plain": [
              "   Topic  Count                             Name\n",
              "0     -1   4980               -1_any_do_one_with\n",
              "1     66    475                66_he_not_what_do\n",
              "2      3    427  3_space_shuttle_orbit_satellite\n",
              "3     12    427        12_game_team_players_last\n",
              "4     17    396      17_team_game_season_players"
            ]
          },
          "metadata": {
            "tags": []
          },
          "execution_count": 18
        }
      ]
    },
    {
      "cell_type": "markdown",
      "metadata": {
        "id": "3jmYK2HvCrU-"
      },
      "source": [
        "## Custom Backend\n",
        "If your backend or model cannot be found in the ones currently available, you can use the BaseEmbedder\n",
        "class to create your own backend. Below, you will find an example of creating a SentenceTransformer backend for BERTopic:\n"
      ]
    },
    {
      "cell_type": "code",
      "metadata": {
        "id": "o5zpxr31hS97"
      },
      "source": [
        "from bertopic.backend import BaseEmbedder\n",
        "from sentence_transformers import SentenceTransformer\n",
        "\n",
        "class CustomEmbedder(BaseEmbedder):\n",
        "    def __init__(self, embedding_model):\n",
        "        super().__init__()\n",
        "        self.embedding_model = embedding_model\n",
        "\n",
        "    def embed(self, documents, verbose=False):\n",
        "        embeddings = self.embedding_model.encode(documents, show_progress_bar=verbose)\n",
        "        return embeddings \n",
        "\n",
        "# Create custom backend\n",
        "distilbert = SentenceTransformer(\"distilbert-base-nli-stsb-mean-tokens\")\n",
        "custom_embedder = CustomEmbedder(embedding_model=distilbert)\n",
        "\n",
        "# Pass custom backend to bertopic\n",
        "topic_model = BERTopic(embedding_model=custom_embedder).fit(docs)"
      ],
      "execution_count": null,
      "outputs": []
    },
    {
      "cell_type": "code",
      "metadata": {
        "colab": {
          "base_uri": "https://localhost:8080/",
          "height": 195
        },
        "id": "vInh_YRJkcaq",
        "outputId": "63b72984-a35c-4a4f-8889-93a59b591f9b"
      },
      "source": [
        "topic_model.get_topic_info().head(5)"
      ],
      "execution_count": null,
      "outputs": [
        {
          "output_type": "execute_result",
          "data": {
            "text/html": [
              "<div>\n",
              "<style scoped>\n",
              "    .dataframe tbody tr th:only-of-type {\n",
              "        vertical-align: middle;\n",
              "    }\n",
              "\n",
              "    .dataframe tbody tr th {\n",
              "        vertical-align: top;\n",
              "    }\n",
              "\n",
              "    .dataframe thead th {\n",
              "        text-align: right;\n",
              "    }\n",
              "</style>\n",
              "<table border=\"1\" class=\"dataframe\">\n",
              "  <thead>\n",
              "    <tr style=\"text-align: right;\">\n",
              "      <th></th>\n",
              "      <th>Topic</th>\n",
              "      <th>Count</th>\n",
              "      <th>Name</th>\n",
              "    </tr>\n",
              "  </thead>\n",
              "  <tbody>\n",
              "    <tr>\n",
              "      <th>0</th>\n",
              "      <td>-1</td>\n",
              "      <td>5149</td>\n",
              "      <td>-1_can_any_if_all</td>\n",
              "    </tr>\n",
              "    <tr>\n",
              "      <th>1</th>\n",
              "      <td>19</td>\n",
              "      <td>459</td>\n",
              "      <td>19_02_pitching_baseball_03</td>\n",
              "    </tr>\n",
              "    <tr>\n",
              "      <th>2</th>\n",
              "      <td>17</td>\n",
              "      <td>444</td>\n",
              "      <td>17_hockey_nhl_players_leafs</td>\n",
              "    </tr>\n",
              "    <tr>\n",
              "      <th>3</th>\n",
              "      <td>15</td>\n",
              "      <td>415</td>\n",
              "      <td>15_space_nasa_lunar_orbit</td>\n",
              "    </tr>\n",
              "    <tr>\n",
              "      <th>4</th>\n",
              "      <td>4</td>\n",
              "      <td>395</td>\n",
              "      <td>4_key_chip_encryption_keys</td>\n",
              "    </tr>\n",
              "  </tbody>\n",
              "</table>\n",
              "</div>"
            ],
            "text/plain": [
              "   Topic  Count                         Name\n",
              "0     -1   5149            -1_can_any_if_all\n",
              "1     19    459   19_02_pitching_baseball_03\n",
              "2     17    444  17_hockey_nhl_players_leafs\n",
              "3     15    415    15_space_nasa_lunar_orbit\n",
              "4      4    395   4_key_chip_encryption_keys"
            ]
          },
          "metadata": {
            "tags": []
          },
          "execution_count": 4
        }
      ]
    },
    {
      "cell_type": "markdown",
      "metadata": {
        "id": "ExFOG5IDh_tk"
      },
      "source": [
        "## Custom Embeddings\n",
        "You can use any embedding that you have previously created. This can be to speed up creating topic models but also if your language model does not fit in any of the options above. \n",
        "\n",
        "Here, we will be using **TF-IDF** as the main embedder in BERTopic:"
      ]
    },
    {
      "cell_type": "code",
      "metadata": {
        "id": "fX9QFYFDh9pU"
      },
      "source": [
        "from sklearn.feature_extraction.text import TfidfVectorizer, CountVectorizer\n",
        "\n",
        "embeddings = TfidfVectorizer(min_df=5, stop_words=\"english\").fit_transform(docs)\n",
        "topic_model = BERTopic().fit(docs, embeddings)"
      ],
      "execution_count": null,
      "outputs": []
    }
  ]
}