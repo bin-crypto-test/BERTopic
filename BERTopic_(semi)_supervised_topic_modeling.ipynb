{
  "nbformat": 4,
  "nbformat_minor": 0,
  "metadata": {
    "colab": {
      "provenance": [],
      "collapsed_sections": [],
      "toc_visible": true,
      "include_colab_link": true
    },
    "kernelspec": {
      "name": "python3",
      "display_name": "Python 3"
    },
    "accelerator": "GPU",
    "widgets": {
      "application/vnd.jupyter.widget-state+json": {
        "cceb1d9854d64376940c42c10b817d17": {
          "model_module": "@jupyter-widgets/controls",
          "model_name": "HBoxModel",
          "model_module_version": "1.5.0",
          "state": {
            "_view_name": "HBoxView",
            "_dom_classes": [],
            "_model_name": "HBoxModel",
            "_view_module": "@jupyter-widgets/controls",
            "_model_module_version": "1.5.0",
            "_view_count": null,
            "_view_module_version": "1.5.0",
            "box_style": "",
            "layout": "IPY_MODEL_fff0c80ebbbf455c9e6fd055f830258b",
            "_model_module": "@jupyter-widgets/controls",
            "children": [
              "IPY_MODEL_305c43af75f5456cb698cc901732d65e",
              "IPY_MODEL_c4986325f6cb4d7bae36bd8f49847842"
            ]
          }
        },
        "fff0c80ebbbf455c9e6fd055f830258b": {
          "model_module": "@jupyter-widgets/base",
          "model_name": "LayoutModel",
          "model_module_version": "1.2.0",
          "state": {
            "_view_name": "LayoutView",
            "grid_template_rows": null,
            "right": null,
            "justify_content": null,
            "_view_module": "@jupyter-widgets/base",
            "overflow": null,
            "_model_module_version": "1.2.0",
            "_view_count": null,
            "flex_flow": null,
            "width": null,
            "min_width": null,
            "border": null,
            "align_items": null,
            "bottom": null,
            "_model_module": "@jupyter-widgets/base",
            "top": null,
            "grid_column": null,
            "overflow_y": null,
            "overflow_x": null,
            "grid_auto_flow": null,
            "grid_area": null,
            "grid_template_columns": null,
            "flex": null,
            "_model_name": "LayoutModel",
            "justify_items": null,
            "grid_row": null,
            "max_height": null,
            "align_content": null,
            "visibility": null,
            "align_self": null,
            "height": null,
            "min_height": null,
            "padding": null,
            "grid_auto_rows": null,
            "grid_gap": null,
            "max_width": null,
            "order": null,
            "_view_module_version": "1.2.0",
            "grid_template_areas": null,
            "object_position": null,
            "object_fit": null,
            "grid_auto_columns": null,
            "margin": null,
            "display": null,
            "left": null
          }
        },
        "305c43af75f5456cb698cc901732d65e": {
          "model_module": "@jupyter-widgets/controls",
          "model_name": "FloatProgressModel",
          "model_module_version": "1.5.0",
          "state": {
            "_view_name": "ProgressView",
            "style": "IPY_MODEL_d0620101a684490892159f5dee0c10bf",
            "_dom_classes": [],
            "description": "Batches: 100%",
            "_model_name": "FloatProgressModel",
            "bar_style": "success",
            "max": 589,
            "_view_module": "@jupyter-widgets/controls",
            "_model_module_version": "1.5.0",
            "value": 589,
            "_view_count": null,
            "_view_module_version": "1.5.0",
            "orientation": "horizontal",
            "min": 0,
            "description_tooltip": null,
            "_model_module": "@jupyter-widgets/controls",
            "layout": "IPY_MODEL_cf376dda5e8b4046837d7dc7f05f20d9"
          }
        },
        "c4986325f6cb4d7bae36bd8f49847842": {
          "model_module": "@jupyter-widgets/controls",
          "model_name": "HTMLModel",
          "model_module_version": "1.5.0",
          "state": {
            "_view_name": "HTMLView",
            "style": "IPY_MODEL_51734b4e1fe64ad7b24d754af2c51a50",
            "_dom_classes": [],
            "description": "",
            "_model_name": "HTMLModel",
            "placeholder": "​",
            "_view_module": "@jupyter-widgets/controls",
            "_model_module_version": "1.5.0",
            "value": " 589/589 [01:15&lt;00:00,  7.79it/s]",
            "_view_count": null,
            "_view_module_version": "1.5.0",
            "description_tooltip": null,
            "_model_module": "@jupyter-widgets/controls",
            "layout": "IPY_MODEL_5750b64cc00b4b97ba7e9cc1784dfe23"
          }
        },
        "d0620101a684490892159f5dee0c10bf": {
          "model_module": "@jupyter-widgets/controls",
          "model_name": "ProgressStyleModel",
          "model_module_version": "1.5.0",
          "state": {
            "_view_name": "StyleView",
            "_model_name": "ProgressStyleModel",
            "description_width": "initial",
            "_view_module": "@jupyter-widgets/base",
            "_model_module_version": "1.5.0",
            "_view_count": null,
            "_view_module_version": "1.2.0",
            "bar_color": null,
            "_model_module": "@jupyter-widgets/controls"
          }
        },
        "cf376dda5e8b4046837d7dc7f05f20d9": {
          "model_module": "@jupyter-widgets/base",
          "model_name": "LayoutModel",
          "model_module_version": "1.2.0",
          "state": {
            "_view_name": "LayoutView",
            "grid_template_rows": null,
            "right": null,
            "justify_content": null,
            "_view_module": "@jupyter-widgets/base",
            "overflow": null,
            "_model_module_version": "1.2.0",
            "_view_count": null,
            "flex_flow": null,
            "width": null,
            "min_width": null,
            "border": null,
            "align_items": null,
            "bottom": null,
            "_model_module": "@jupyter-widgets/base",
            "top": null,
            "grid_column": null,
            "overflow_y": null,
            "overflow_x": null,
            "grid_auto_flow": null,
            "grid_area": null,
            "grid_template_columns": null,
            "flex": null,
            "_model_name": "LayoutModel",
            "justify_items": null,
            "grid_row": null,
            "max_height": null,
            "align_content": null,
            "visibility": null,
            "align_self": null,
            "height": null,
            "min_height": null,
            "padding": null,
            "grid_auto_rows": null,
            "grid_gap": null,
            "max_width": null,
            "order": null,
            "_view_module_version": "1.2.0",
            "grid_template_areas": null,
            "object_position": null,
            "object_fit": null,
            "grid_auto_columns": null,
            "margin": null,
            "display": null,
            "left": null
          }
        },
        "51734b4e1fe64ad7b24d754af2c51a50": {
          "model_module": "@jupyter-widgets/controls",
          "model_name": "DescriptionStyleModel",
          "model_module_version": "1.5.0",
          "state": {
            "_view_name": "StyleView",
            "_model_name": "DescriptionStyleModel",
            "description_width": "",
            "_view_module": "@jupyter-widgets/base",
            "_model_module_version": "1.5.0",
            "_view_count": null,
            "_view_module_version": "1.2.0",
            "_model_module": "@jupyter-widgets/controls"
          }
        },
        "5750b64cc00b4b97ba7e9cc1784dfe23": {
          "model_module": "@jupyter-widgets/base",
          "model_name": "LayoutModel",
          "model_module_version": "1.2.0",
          "state": {
            "_view_name": "LayoutView",
            "grid_template_rows": null,
            "right": null,
            "justify_content": null,
            "_view_module": "@jupyter-widgets/base",
            "overflow": null,
            "_model_module_version": "1.2.0",
            "_view_count": null,
            "flex_flow": null,
            "width": null,
            "min_width": null,
            "border": null,
            "align_items": null,
            "bottom": null,
            "_model_module": "@jupyter-widgets/base",
            "top": null,
            "grid_column": null,
            "overflow_y": null,
            "overflow_x": null,
            "grid_auto_flow": null,
            "grid_area": null,
            "grid_template_columns": null,
            "flex": null,
            "_model_name": "LayoutModel",
            "justify_items": null,
            "grid_row": null,
            "max_height": null,
            "align_content": null,
            "visibility": null,
            "align_self": null,
            "height": null,
            "min_height": null,
            "padding": null,
            "grid_auto_rows": null,
            "grid_gap": null,
            "max_width": null,
            "order": null,
            "_view_module_version": "1.2.0",
            "grid_template_areas": null,
            "object_position": null,
            "object_fit": null,
            "grid_auto_columns": null,
            "margin": null,
            "display": null,
            "left": null
          }
        },
        "9f4d1f9f616c441aa617accbcf259ecc": {
          "model_module": "@jupyter-widgets/controls",
          "model_name": "HBoxModel",
          "model_module_version": "1.5.0",
          "state": {
            "_view_name": "HBoxView",
            "_dom_classes": [],
            "_model_name": "HBoxModel",
            "_view_module": "@jupyter-widgets/controls",
            "_model_module_version": "1.5.0",
            "_view_count": null,
            "_view_module_version": "1.5.0",
            "box_style": "",
            "layout": "IPY_MODEL_abf35b94dbca4524a6dd3d312be8e187",
            "_model_module": "@jupyter-widgets/controls",
            "children": [
              "IPY_MODEL_072b53592ce549008d4d6f4f9ca5416e",
              "IPY_MODEL_4eb36960c3fa46e4b0f57253bf96f828"
            ]
          }
        },
        "abf35b94dbca4524a6dd3d312be8e187": {
          "model_module": "@jupyter-widgets/base",
          "model_name": "LayoutModel",
          "model_module_version": "1.2.0",
          "state": {
            "_view_name": "LayoutView",
            "grid_template_rows": null,
            "right": null,
            "justify_content": null,
            "_view_module": "@jupyter-widgets/base",
            "overflow": null,
            "_model_module_version": "1.2.0",
            "_view_count": null,
            "flex_flow": null,
            "width": null,
            "min_width": null,
            "border": null,
            "align_items": null,
            "bottom": null,
            "_model_module": "@jupyter-widgets/base",
            "top": null,
            "grid_column": null,
            "overflow_y": null,
            "overflow_x": null,
            "grid_auto_flow": null,
            "grid_area": null,
            "grid_template_columns": null,
            "flex": null,
            "_model_name": "LayoutModel",
            "justify_items": null,
            "grid_row": null,
            "max_height": null,
            "align_content": null,
            "visibility": null,
            "align_self": null,
            "height": null,
            "min_height": null,
            "padding": null,
            "grid_auto_rows": null,
            "grid_gap": null,
            "max_width": null,
            "order": null,
            "_view_module_version": "1.2.0",
            "grid_template_areas": null,
            "object_position": null,
            "object_fit": null,
            "grid_auto_columns": null,
            "margin": null,
            "display": null,
            "left": null
          }
        },
        "072b53592ce549008d4d6f4f9ca5416e": {
          "model_module": "@jupyter-widgets/controls",
          "model_name": "FloatProgressModel",
          "model_module_version": "1.5.0",
          "state": {
            "_view_name": "ProgressView",
            "style": "IPY_MODEL_bc52ea83368c4228bfcb8e28d9ad128c",
            "_dom_classes": [],
            "description": "Batches: 100%",
            "_model_name": "FloatProgressModel",
            "bar_style": "success",
            "max": 589,
            "_view_module": "@jupyter-widgets/controls",
            "_model_module_version": "1.5.0",
            "value": 589,
            "_view_count": null,
            "_view_module_version": "1.5.0",
            "orientation": "horizontal",
            "min": 0,
            "description_tooltip": null,
            "_model_module": "@jupyter-widgets/controls",
            "layout": "IPY_MODEL_0c02a7194ffe402b97b4a1c0f2a5ed75"
          }
        },
        "4eb36960c3fa46e4b0f57253bf96f828": {
          "model_module": "@jupyter-widgets/controls",
          "model_name": "HTMLModel",
          "model_module_version": "1.5.0",
          "state": {
            "_view_name": "HTMLView",
            "style": "IPY_MODEL_0cd33ac02b014c79859e8cfc01d4f164",
            "_dom_classes": [],
            "description": "",
            "_model_name": "HTMLModel",
            "placeholder": "​",
            "_view_module": "@jupyter-widgets/controls",
            "_model_module_version": "1.5.0",
            "value": " 589/589 [05:12&lt;00:00,  1.88it/s]",
            "_view_count": null,
            "_view_module_version": "1.5.0",
            "description_tooltip": null,
            "_model_module": "@jupyter-widgets/controls",
            "layout": "IPY_MODEL_6ef376f3104842779a505b8fc050a3cc"
          }
        },
        "bc52ea83368c4228bfcb8e28d9ad128c": {
          "model_module": "@jupyter-widgets/controls",
          "model_name": "ProgressStyleModel",
          "model_module_version": "1.5.0",
          "state": {
            "_view_name": "StyleView",
            "_model_name": "ProgressStyleModel",
            "description_width": "initial",
            "_view_module": "@jupyter-widgets/base",
            "_model_module_version": "1.5.0",
            "_view_count": null,
            "_view_module_version": "1.2.0",
            "bar_color": null,
            "_model_module": "@jupyter-widgets/controls"
          }
        },
        "0c02a7194ffe402b97b4a1c0f2a5ed75": {
          "model_module": "@jupyter-widgets/base",
          "model_name": "LayoutModel",
          "model_module_version": "1.2.0",
          "state": {
            "_view_name": "LayoutView",
            "grid_template_rows": null,
            "right": null,
            "justify_content": null,
            "_view_module": "@jupyter-widgets/base",
            "overflow": null,
            "_model_module_version": "1.2.0",
            "_view_count": null,
            "flex_flow": null,
            "width": null,
            "min_width": null,
            "border": null,
            "align_items": null,
            "bottom": null,
            "_model_module": "@jupyter-widgets/base",
            "top": null,
            "grid_column": null,
            "overflow_y": null,
            "overflow_x": null,
            "grid_auto_flow": null,
            "grid_area": null,
            "grid_template_columns": null,
            "flex": null,
            "_model_name": "LayoutModel",
            "justify_items": null,
            "grid_row": null,
            "max_height": null,
            "align_content": null,
            "visibility": null,
            "align_self": null,
            "height": null,
            "min_height": null,
            "padding": null,
            "grid_auto_rows": null,
            "grid_gap": null,
            "max_width": null,
            "order": null,
            "_view_module_version": "1.2.0",
            "grid_template_areas": null,
            "object_position": null,
            "object_fit": null,
            "grid_auto_columns": null,
            "margin": null,
            "display": null,
            "left": null
          }
        },
        "0cd33ac02b014c79859e8cfc01d4f164": {
          "model_module": "@jupyter-widgets/controls",
          "model_name": "DescriptionStyleModel",
          "model_module_version": "1.5.0",
          "state": {
            "_view_name": "StyleView",
            "_model_name": "DescriptionStyleModel",
            "description_width": "",
            "_view_module": "@jupyter-widgets/base",
            "_model_module_version": "1.5.0",
            "_view_count": null,
            "_view_module_version": "1.2.0",
            "_model_module": "@jupyter-widgets/controls"
          }
        },
        "6ef376f3104842779a505b8fc050a3cc": {
          "model_module": "@jupyter-widgets/base",
          "model_name": "LayoutModel",
          "model_module_version": "1.2.0",
          "state": {
            "_view_name": "LayoutView",
            "grid_template_rows": null,
            "right": null,
            "justify_content": null,
            "_view_module": "@jupyter-widgets/base",
            "overflow": null,
            "_model_module_version": "1.2.0",
            "_view_count": null,
            "flex_flow": null,
            "width": null,
            "min_width": null,
            "border": null,
            "align_items": null,
            "bottom": null,
            "_model_module": "@jupyter-widgets/base",
            "top": null,
            "grid_column": null,
            "overflow_y": null,
            "overflow_x": null,
            "grid_auto_flow": null,
            "grid_area": null,
            "grid_template_columns": null,
            "flex": null,
            "_model_name": "LayoutModel",
            "justify_items": null,
            "grid_row": null,
            "max_height": null,
            "align_content": null,
            "visibility": null,
            "align_self": null,
            "height": null,
            "min_height": null,
            "padding": null,
            "grid_auto_rows": null,
            "grid_gap": null,
            "max_width": null,
            "order": null,
            "_view_module_version": "1.2.0",
            "grid_template_areas": null,
            "object_position": null,
            "object_fit": null,
            "grid_auto_columns": null,
            "margin": null,
            "display": null,
            "left": null
          }
        },
        "97f268564bae40f09991161471a26bd6": {
          "model_module": "@jupyter-widgets/controls",
          "model_name": "HBoxModel",
          "model_module_version": "1.5.0",
          "state": {
            "_view_name": "HBoxView",
            "_dom_classes": [],
            "_model_name": "HBoxModel",
            "_view_module": "@jupyter-widgets/controls",
            "_model_module_version": "1.5.0",
            "_view_count": null,
            "_view_module_version": "1.5.0",
            "box_style": "",
            "layout": "IPY_MODEL_bf0d9134a01740469908a5b5ebcb6d82",
            "_model_module": "@jupyter-widgets/controls",
            "children": [
              "IPY_MODEL_f0dd3bf68c82497187c5f2e8d28764a6",
              "IPY_MODEL_ac105bd8219045a48ba4349c29d69077"
            ]
          }
        },
        "bf0d9134a01740469908a5b5ebcb6d82": {
          "model_module": "@jupyter-widgets/base",
          "model_name": "LayoutModel",
          "model_module_version": "1.2.0",
          "state": {
            "_view_name": "LayoutView",
            "grid_template_rows": null,
            "right": null,
            "justify_content": null,
            "_view_module": "@jupyter-widgets/base",
            "overflow": null,
            "_model_module_version": "1.2.0",
            "_view_count": null,
            "flex_flow": null,
            "width": null,
            "min_width": null,
            "border": null,
            "align_items": null,
            "bottom": null,
            "_model_module": "@jupyter-widgets/base",
            "top": null,
            "grid_column": null,
            "overflow_y": null,
            "overflow_x": null,
            "grid_auto_flow": null,
            "grid_area": null,
            "grid_template_columns": null,
            "flex": null,
            "_model_name": "LayoutModel",
            "justify_items": null,
            "grid_row": null,
            "max_height": null,
            "align_content": null,
            "visibility": null,
            "align_self": null,
            "height": null,
            "min_height": null,
            "padding": null,
            "grid_auto_rows": null,
            "grid_gap": null,
            "max_width": null,
            "order": null,
            "_view_module_version": "1.2.0",
            "grid_template_areas": null,
            "object_position": null,
            "object_fit": null,
            "grid_auto_columns": null,
            "margin": null,
            "display": null,
            "left": null
          }
        },
        "f0dd3bf68c82497187c5f2e8d28764a6": {
          "model_module": "@jupyter-widgets/controls",
          "model_name": "FloatProgressModel",
          "model_module_version": "1.5.0",
          "state": {
            "_view_name": "ProgressView",
            "style": "IPY_MODEL_28719dbdb62b460c8e4d544a67f8a721",
            "_dom_classes": [],
            "description": "Batches: 100%",
            "_model_name": "FloatProgressModel",
            "bar_style": "success",
            "max": 589,
            "_view_module": "@jupyter-widgets/controls",
            "_model_module_version": "1.5.0",
            "value": 589,
            "_view_count": null,
            "_view_module_version": "1.5.0",
            "orientation": "horizontal",
            "min": 0,
            "description_tooltip": null,
            "_model_module": "@jupyter-widgets/controls",
            "layout": "IPY_MODEL_a5645161e60f4241b617b6db795c3253"
          }
        },
        "ac105bd8219045a48ba4349c29d69077": {
          "model_module": "@jupyter-widgets/controls",
          "model_name": "HTMLModel",
          "model_module_version": "1.5.0",
          "state": {
            "_view_name": "HTMLView",
            "style": "IPY_MODEL_04c60380409a4984888826c13a572df6",
            "_dom_classes": [],
            "description": "",
            "_model_name": "HTMLModel",
            "placeholder": "​",
            "_view_module": "@jupyter-widgets/controls",
            "_model_module_version": "1.5.0",
            "value": " 589/589 [01:20&lt;00:00,  7.36it/s]",
            "_view_count": null,
            "_view_module_version": "1.5.0",
            "description_tooltip": null,
            "_model_module": "@jupyter-widgets/controls",
            "layout": "IPY_MODEL_25dc01b764134c3d8fcc473866656ba0"
          }
        },
        "28719dbdb62b460c8e4d544a67f8a721": {
          "model_module": "@jupyter-widgets/controls",
          "model_name": "ProgressStyleModel",
          "model_module_version": "1.5.0",
          "state": {
            "_view_name": "StyleView",
            "_model_name": "ProgressStyleModel",
            "description_width": "initial",
            "_view_module": "@jupyter-widgets/base",
            "_model_module_version": "1.5.0",
            "_view_count": null,
            "_view_module_version": "1.2.0",
            "bar_color": null,
            "_model_module": "@jupyter-widgets/controls"
          }
        },
        "a5645161e60f4241b617b6db795c3253": {
          "model_module": "@jupyter-widgets/base",
          "model_name": "LayoutModel",
          "model_module_version": "1.2.0",
          "state": {
            "_view_name": "LayoutView",
            "grid_template_rows": null,
            "right": null,
            "justify_content": null,
            "_view_module": "@jupyter-widgets/base",
            "overflow": null,
            "_model_module_version": "1.2.0",
            "_view_count": null,
            "flex_flow": null,
            "width": null,
            "min_width": null,
            "border": null,
            "align_items": null,
            "bottom": null,
            "_model_module": "@jupyter-widgets/base",
            "top": null,
            "grid_column": null,
            "overflow_y": null,
            "overflow_x": null,
            "grid_auto_flow": null,
            "grid_area": null,
            "grid_template_columns": null,
            "flex": null,
            "_model_name": "LayoutModel",
            "justify_items": null,
            "grid_row": null,
            "max_height": null,
            "align_content": null,
            "visibility": null,
            "align_self": null,
            "height": null,
            "min_height": null,
            "padding": null,
            "grid_auto_rows": null,
            "grid_gap": null,
            "max_width": null,
            "order": null,
            "_view_module_version": "1.2.0",
            "grid_template_areas": null,
            "object_position": null,
            "object_fit": null,
            "grid_auto_columns": null,
            "margin": null,
            "display": null,
            "left": null
          }
        },
        "04c60380409a4984888826c13a572df6": {
          "model_module": "@jupyter-widgets/controls",
          "model_name": "DescriptionStyleModel",
          "model_module_version": "1.5.0",
          "state": {
            "_view_name": "StyleView",
            "_model_name": "DescriptionStyleModel",
            "description_width": "",
            "_view_module": "@jupyter-widgets/base",
            "_model_module_version": "1.5.0",
            "_view_count": null,
            "_view_module_version": "1.2.0",
            "_model_module": "@jupyter-widgets/controls"
          }
        },
        "25dc01b764134c3d8fcc473866656ba0": {
          "model_module": "@jupyter-widgets/base",
          "model_name": "LayoutModel",
          "model_module_version": "1.2.0",
          "state": {
            "_view_name": "LayoutView",
            "grid_template_rows": null,
            "right": null,
            "justify_content": null,
            "_view_module": "@jupyter-widgets/base",
            "overflow": null,
            "_model_module_version": "1.2.0",
            "_view_count": null,
            "flex_flow": null,
            "width": null,
            "min_width": null,
            "border": null,
            "align_items": null,
            "bottom": null,
            "_model_module": "@jupyter-widgets/base",
            "top": null,
            "grid_column": null,
            "overflow_y": null,
            "overflow_x": null,
            "grid_auto_flow": null,
            "grid_area": null,
            "grid_template_columns": null,
            "flex": null,
            "_model_name": "LayoutModel",
            "justify_items": null,
            "grid_row": null,
            "max_height": null,
            "align_content": null,
            "visibility": null,
            "align_self": null,
            "height": null,
            "min_height": null,
            "padding": null,
            "grid_auto_rows": null,
            "grid_gap": null,
            "max_width": null,
            "order": null,
            "_view_module_version": "1.2.0",
            "grid_template_areas": null,
            "object_position": null,
            "object_fit": null,
            "grid_auto_columns": null,
            "margin": null,
            "display": null,
            "left": null
          }
        }
      }
    }
  },
  "cells": [
    {
      "cell_type": "markdown",
      "metadata": {
        "id": "view-in-github",
        "colab_type": "text"
      },
      "source": [
        "<a href=\"https://colab.research.google.com/github/bin-crypto-test/BERTopic/blob/master/BERTopic_(semi)_supervised_topic_modeling.ipynb\" target=\"_parent\"><img src=\"https://colab.research.google.com/assets/colab-badge.svg\" alt=\"Open In Colab\"/></a>"
      ]
    },
    {
      "cell_type": "markdown",
      "metadata": {
        "id": "AXHLDxJdRzBi"
      },
      "source": [
        "# **Tutorial** - (semi)-supervised topic modeling\n",
        "(last updated 26-04-2021)\n",
        "\n",
        "In this tutorial, we will be looking at a new feature of BERTopic, namely (semi)-supervised topic modeling! This allows us to steer the dimensionality reduction of the embeddings into a space that closely follows any labels you might already have. \n",
        "\n",
        "## Semi-supervised modeling\n",
        "(semi)-supervised topic modeling is a class of methods that allows the user to perform topic modeling with previously defined labels. This might help nudge the model towards specific topics or classes for which you have labels. \n",
        "\n",
        "<br>\n",
        "\n",
        "<img src=\"https://raw.githubusercontent.com/MaartenGr/BERTopic/master/images/logo.png\" width=\"40%\">"
      ]
    },
    {
      "cell_type": "markdown",
      "metadata": {
        "id": "u9Xfz5COO-5a"
      },
      "source": [
        "# Enabling the GPU\n",
        "\n",
        "First, you'll need to enable GPUs for the notebook:\n",
        "\n",
        "- Navigate to Edit→Notebook Settings\n",
        "- select GPU from the Hardware Accelerator drop-down\n",
        "\n",
        "[Reference](https://colab.research.google.com/notebooks/gpu.ipynb)"
      ]
    },
    {
      "cell_type": "markdown",
      "metadata": {
        "id": "OeFueQ8xP_7E"
      },
      "source": [
        "# Installing BERTopic\n",
        "\n",
        "We start by installing BERTopic from PyPi:"
      ]
    },
    {
      "cell_type": "code",
      "metadata": {
        "id": "SNa-KtKDRnus"
      },
      "source": [
        "%%capture\n",
        "!pip install bertopic"
      ],
      "execution_count": null,
      "outputs": []
    },
    {
      "cell_type": "markdown",
      "metadata": {
        "id": "yeg8RIjrQFkE"
      },
      "source": [
        "## Restart the Notebook\n",
        "After installing BERTopic, some packages that were already loaded were updated and in order to correctly use them, we should now restart the notebook.\n",
        "\n",
        "From the Menu:\n",
        "\n",
        "Runtime → Restart Runtime"
      ]
    },
    {
      "cell_type": "markdown",
      "metadata": {
        "id": "Y3VGFZ1USMTu"
      },
      "source": [
        "# **Data**\n",
        "For this example, we use the popular 20 Newsgroups dataset which contains roughly 18000 newsgroups posts that each is assigned to one of 20 topics:"
      ]
    },
    {
      "cell_type": "code",
      "metadata": {
        "id": "cadvhCBTc6Zz",
        "colab": {
          "base_uri": "https://localhost:8080/"
        },
        "outputId": "01dcfa95-e06e-464f-d815-f309ead79295"
      },
      "source": [
        "import pandas as pd\n",
        "from bertopic import BERTopic\n",
        "from sklearn.datasets import fetch_20newsgroups\n",
        "\n",
        "data = fetch_20newsgroups(subset='all',  remove=('headers', 'footers', 'quotes'))\n",
        "docs = data[\"data\"]\n",
        "targets = data[\"target\"]\n",
        "target_names = data[\"target_names\"]\n",
        "classes = [data[\"target_names\"][i] for i in data[\"target\"]]"
      ],
      "execution_count": null,
      "outputs": [
        {
          "output_type": "stream",
          "name": "stderr",
          "text": [
            "Downloading 20news dataset. This may take a few minutes.\n",
            "Downloading dataset from https://ndownloader.figshare.com/files/5975967 (14 MB)\n"
          ]
        }
      ]
    },
    {
      "cell_type": "markdown",
      "metadata": {
        "id": "T1AUCzeyhl7N"
      },
      "source": [
        "Each document can be put into one of the following categories:"
      ]
    },
    {
      "cell_type": "code",
      "metadata": {
        "colab": {
          "base_uri": "https://localhost:8080/"
        },
        "id": "LcopPxhZdeOQ",
        "outputId": "b558df7d-f3a8-4fcd-b2af-cc186a08baf8"
      },
      "source": [
        "target_names"
      ],
      "execution_count": null,
      "outputs": [
        {
          "output_type": "execute_result",
          "data": {
            "text/plain": [
              "['alt.atheism',\n",
              " 'comp.graphics',\n",
              " 'comp.os.ms-windows.misc',\n",
              " 'comp.sys.ibm.pc.hardware',\n",
              " 'comp.sys.mac.hardware',\n",
              " 'comp.windows.x',\n",
              " 'misc.forsale',\n",
              " 'rec.autos',\n",
              " 'rec.motorcycles',\n",
              " 'rec.sport.baseball',\n",
              " 'rec.sport.hockey',\n",
              " 'sci.crypt',\n",
              " 'sci.electronics',\n",
              " 'sci.med',\n",
              " 'sci.space',\n",
              " 'soc.religion.christian',\n",
              " 'talk.politics.guns',\n",
              " 'talk.politics.mideast',\n",
              " 'talk.politics.misc',\n",
              " 'talk.religion.misc']"
            ]
          },
          "metadata": {
            "tags": []
          },
          "execution_count": 2
        }
      ]
    },
    {
      "cell_type": "markdown",
      "metadata": {
        "id": "SBcNmZJzSTY8"
      },
      "source": [
        "# **(semi)-Supervised modeling**\n"
      ]
    },
    {
      "cell_type": "markdown",
      "metadata": {
        "id": "SivR3PQ4gq5b"
      },
      "source": [
        "## Basic Model\n",
        "Before we start with semi-supervised modeling, let us first take a look at the output of the basic model."
      ]
    },
    {
      "cell_type": "code",
      "metadata": {
        "colab": {
          "base_uri": "https://localhost:8080/",
          "height": 119,
          "referenced_widgets": [
            "cceb1d9854d64376940c42c10b817d17",
            "fff0c80ebbbf455c9e6fd055f830258b",
            "305c43af75f5456cb698cc901732d65e",
            "c4986325f6cb4d7bae36bd8f49847842",
            "d0620101a684490892159f5dee0c10bf",
            "cf376dda5e8b4046837d7dc7f05f20d9",
            "51734b4e1fe64ad7b24d754af2c51a50",
            "5750b64cc00b4b97ba7e9cc1784dfe23"
          ]
        },
        "id": "ObH_2X8LcyNP",
        "outputId": "b706cbae-9e08-4ffd-df12-0e35948b6087"
      },
      "source": [
        "topic_model = BERTopic(verbose=True)\n",
        "topics, _ = topic_model.fit_transform(docs)"
      ],
      "execution_count": null,
      "outputs": [
        {
          "output_type": "display_data",
          "data": {
            "application/vnd.jupyter.widget-view+json": {
              "model_id": "cceb1d9854d64376940c42c10b817d17",
              "version_minor": 0,
              "version_major": 2
            },
            "text/plain": [
              "HBox(children=(FloatProgress(value=0.0, description='Batches', max=589.0, style=ProgressStyle(description_widt…"
            ]
          },
          "metadata": {
            "tags": []
          }
        },
        {
          "output_type": "stream",
          "text": [
            "2021-04-25 05:59:40,718 - BERTopic - Transformed documents to Embeddings\n"
          ],
          "name": "stderr"
        },
        {
          "output_type": "stream",
          "text": [
            "\n"
          ],
          "name": "stdout"
        },
        {
          "output_type": "stream",
          "text": [
            "2021-04-25 05:59:56,400 - BERTopic - Reduced dimensionality with UMAP\n",
            "2021-04-25 05:59:57,376 - BERTopic - Clustered UMAP embeddings with HDBSCAN\n"
          ],
          "name": "stderr"
        }
      ]
    },
    {
      "cell_type": "code",
      "metadata": {
        "colab": {
          "base_uri": "https://localhost:8080/",
          "height": 355
        },
        "id": "nE9_hBXUc8iP",
        "outputId": "89d04a9c-63eb-4cda-92e0-7b2e276b246d"
      },
      "source": [
        "topic_model.get_topic_info().head(10)"
      ],
      "execution_count": null,
      "outputs": [
        {
          "output_type": "execute_result",
          "data": {
            "text/html": [
              "<div>\n",
              "<style scoped>\n",
              "    .dataframe tbody tr th:only-of-type {\n",
              "        vertical-align: middle;\n",
              "    }\n",
              "\n",
              "    .dataframe tbody tr th {\n",
              "        vertical-align: top;\n",
              "    }\n",
              "\n",
              "    .dataframe thead th {\n",
              "        text-align: right;\n",
              "    }\n",
              "</style>\n",
              "<table border=\"1\" class=\"dataframe\">\n",
              "  <thead>\n",
              "    <tr style=\"text-align: right;\">\n",
              "      <th></th>\n",
              "      <th>Topic</th>\n",
              "      <th>Count</th>\n",
              "      <th>Name</th>\n",
              "    </tr>\n",
              "  </thead>\n",
              "  <tbody>\n",
              "    <tr>\n",
              "      <th>0</th>\n",
              "      <td>-1</td>\n",
              "      <td>8820</td>\n",
              "      <td>-1_me_god_my_do</td>\n",
              "    </tr>\n",
              "    <tr>\n",
              "      <th>1</th>\n",
              "      <td>24</td>\n",
              "      <td>864</td>\n",
              "      <td>24_game_hockey_nhl_10</td>\n",
              "    </tr>\n",
              "    <tr>\n",
              "      <th>2</th>\n",
              "      <td>4</td>\n",
              "      <td>774</td>\n",
              "      <td>4_nasa_orbit_spacecraft_moon</td>\n",
              "    </tr>\n",
              "    <tr>\n",
              "      <th>3</th>\n",
              "      <td>47</td>\n",
              "      <td>519</td>\n",
              "      <td>47_food_medical_diet_vitamin</td>\n",
              "    </tr>\n",
              "    <tr>\n",
              "      <th>4</th>\n",
              "      <td>31</td>\n",
              "      <td>500</td>\n",
              "      <td>31_hit_pitching_baseball_pitcher</td>\n",
              "    </tr>\n",
              "    <tr>\n",
              "      <th>5</th>\n",
              "      <td>21</td>\n",
              "      <td>470</td>\n",
              "      <td>21_key_encryption_keys_nsa</td>\n",
              "    </tr>\n",
              "    <tr>\n",
              "      <th>6</th>\n",
              "      <td>2</td>\n",
              "      <td>446</td>\n",
              "      <td>2_zzzzzzt_ergonomics_ergonomicallyhellish_ergo...</td>\n",
              "    </tr>\n",
              "    <tr>\n",
              "      <th>7</th>\n",
              "      <td>26</td>\n",
              "      <td>357</td>\n",
              "      <td>26_wiring_amp_wires_audio</td>\n",
              "    </tr>\n",
              "    <tr>\n",
              "      <th>8</th>\n",
              "      <td>58</td>\n",
              "      <td>332</td>\n",
              "      <td>58_bike_bikes_motorcycle_brake</td>\n",
              "    </tr>\n",
              "    <tr>\n",
              "      <th>9</th>\n",
              "      <td>93</td>\n",
              "      <td>213</td>\n",
              "      <td>93_homosexual_homosexuality_sex_homosexuals</td>\n",
              "    </tr>\n",
              "  </tbody>\n",
              "</table>\n",
              "</div>"
            ],
            "text/plain": [
              "   Topic  Count                                               Name\n",
              "0     -1   8820                                    -1_me_god_my_do\n",
              "1     24    864                              24_game_hockey_nhl_10\n",
              "2      4    774                       4_nasa_orbit_spacecraft_moon\n",
              "3     47    519                       47_food_medical_diet_vitamin\n",
              "4     31    500                   31_hit_pitching_baseball_pitcher\n",
              "5     21    470                         21_key_encryption_keys_nsa\n",
              "6      2    446  2_zzzzzzt_ergonomics_ergonomicallyhellish_ergo...\n",
              "7     26    357                          26_wiring_amp_wires_audio\n",
              "8     58    332                     58_bike_bikes_motorcycle_brake\n",
              "9     93    213        93_homosexual_homosexuality_sex_homosexuals"
            ]
          },
          "metadata": {
            "tags": []
          },
          "execution_count": 21
        }
      ]
    },
    {
      "cell_type": "markdown",
      "metadata": {
        "id": "NJkDk7bQh4H1"
      },
      "source": [
        "The topics that were created mostly make sense. There are some clearly defined topics such as \"nasa, orbit, spacecraft, moon\" but also some topics that seem mostly derived from other topics. We can visualize this by extracting the topic representations per class and see if our unsupervised model closely resembles this. \n",
        "\n",
        "**NOTE**: You can **hover** over the bars to see the representation per class!!"
      ]
    },
    {
      "cell_type": "code",
      "metadata": {
        "colab": {
          "base_uri": "https://localhost:8080/",
          "height": 935
        },
        "id": "ga4UbOYfm8Nu",
        "outputId": "8c32b298-5030-475b-d1eb-56f4d7f64d52"
      },
      "source": [
        "topics_per_class = topic_model.topics_per_class(docs, topics, classes=classes)\n",
        "fig_unsupervised = topic_model.visualize_topics_per_class(topics_per_class, top_n=10)\n",
        "fig_unsupervised"
      ],
      "execution_count": null,
      "outputs": [
        {
          "output_type": "stream",
          "text": [
            "20it [00:36,  1.84s/it]\n"
          ],
          "name": "stderr"
        },
        {
          "output_type": "display_data",
          "data": {
            "text/html": [
              "<html>\n",
              "<head><meta charset=\"utf-8\" /></head>\n",
              "<body>\n",
              "    <div>            <script src=\"https://cdnjs.cloudflare.com/ajax/libs/mathjax/2.7.5/MathJax.js?config=TeX-AMS-MML_SVG\"></script><script type=\"text/javascript\">if (window.MathJax) {MathJax.Hub.Config({SVG: {font: \"STIX-Web\"}});}</script>                <script type=\"text/javascript\">window.PlotlyConfig = {MathJaxConfig: 'local'};</script>\n",
              "        <script src=\"https://cdn.plot.ly/plotly-latest.min.js\"></script>                <div id=\"cc8021ab-d661-4729-961a-38519163f802\" class=\"plotly-graph-div\" style=\"height:900px; width:1250px;\"></div>            <script type=\"text/javascript\">                                    window.PLOTLYENV=window.PLOTLYENV || {};                                    if (document.getElementById(\"cc8021ab-d661-4729-961a-38519163f802\")) {                    Plotly.newPlot(                        \"cc8021ab-d661-4729-961a-38519163f802\",                        [{\"hoverinfo\": \"text\", \"hovertext\": [\"<b>Topic 24</b><br>Words: chicago, 2514158, 9684729, 9181231, 2749515\", \"<b>Topic 24</b><br>Words: vonnegut, wisconsin, humorist, minnesota, funeral\", \"<b>Topic 24</b><br>Words: jingle, virgin, jesus, anthonylandreneauozoneholecom, limrick\", \"<b>Topic 24</b><br>Words: 230327, compsysibmpchardwarecompsysamigahardwarecompsyssunhardware, johnneskimocoms, 4xrgbs, 13w3\", \"<b>Topic 24</b><br>Words: thermometer, mining, 1b, yoyodyne, skysweepers\", \"<b>Topic 24</b><br>Words: cobalt, refrigerator, 1213, roundtrip, hawaii\", \"<b>Topic 24</b><br>Words: blinker, brightness, electronics, leds, 120v\", \"<b>Topic 24</b><br>Words: chevrolet, gm, ottawa, buick, canada\", \"<b>Topic 24</b><br>Words: crime, canada, canadas, minorities, tories\", \"<b>Topic 24</b><br>Words: matty, jeff, red, shop, canada\", \"<b>Topic 24</b><br>Words: mattingly, toronto, don, 10, hes\", \"<b>Topic 24</b><br>Words: christie, reponded, essene, kille, andrew\", \"<b>Topic 24</b><br>Words: 5600, 743621, 5102262365, bwisenyxcsduedu, dewinterprlphilipsnl\", \"<b>Topic 24</b><br>Words: guns, selfdefence, gun, homicides, crime\", \"<b>Topic 24</b><br>Words: canada, marc, license, patents, rsacom\", \"<b>Topic 24</b><br>Words: game, hockey, nhl, goal, teams\", \"<b>Topic 24</b><br>Words: canada, holocaust, naziman, elias, israel\", \"<b>Topic 24</b><br>Words: canada, canadian, palmer, chemistry, scientist\"], \"marker\": {\"color\": \"#E69F00\"}, \"name\": \"24_game_hockey_nhl_10\", \"orientation\": \"h\", \"type\": \"bar\", \"visible\": true, \"x\": [3, 5, 2, 3, 5, 4, 10, 7, 7, 14, 49, 1, 5, 7, 8, 720, 10, 4], \"y\": [\"comp.sys.mac.hardware\", \"alt.atheism\", \"talk.religion.misc\", \"comp.sys.ibm.pc.hardware\", \"sci.space\", \"misc.forsale\", \"sci.electronics\", \"rec.autos\", \"talk.politics.misc\", \"rec.motorcycles\", \"rec.sport.baseball\", \"soc.religion.christian\", \"comp.os.ms-windows.misc\", \"talk.politics.guns\", \"sci.crypt\", \"rec.sport.hockey\", \"talk.politics.mideast\", \"sci.med\"]}, {\"hoverinfo\": \"text\", \"hovertext\": [\"<b>Topic 4</b><br>Words: ldsanderslarcnasagov, etherlan, apple, salesfolk, 236810001\", \"<b>Topic 4</b><br>Words: fanatism, belief, irrational, rational, fanaticism\", \"<b>Topic 4</b><br>Words: lambda, upsilon, omicron, feynman, iota\", \"<b>Topic 4</b><br>Words: low, uart, heinrichheineuniversity, comapnies, emissionwise\", \"<b>Topic 4</b><br>Words: nasa, orbit, spacecraft, moon, mars\", \"<b>Topic 4</b><br>Words: odyssey, aircraft, airlines, fuel, dragonslayer\", \"<b>Topic 4</b><br>Words: x100, fluxgate, phototransistor, beacons, space\", \"<b>Topic 4</b><br>Words: sphinx, space, nasa, satellite, 42\", \"<b>Topic 4</b><br>Words: prop, cylinders, tooput, radially, gaskets\", \"<b>Topic 4</b><br>Words: phd, meteorologist, atmospheric, meteorology, meteorological\", \"<b>Topic 4</b><br>Words: yammie, film, castings, magnifing, plexifairings\", \"<b>Topic 4</b><br>Words: 1993apr141755453528allegedu, radiowhat, millitsyankeeorg, recmusicdylan, reese\", \"<b>Topic 4</b><br>Words: moody, dantes, bloodyhellno, metaphoranalogy, paperbacks\", \"<b>Topic 4</b><br>Words: xibm, godzilla00, lobogsfcnasagov, xopendisplay0, maheroutlandgsfcnasagov\", \"<b>Topic 4</b><br>Words: deaf, dryden, ames, workstatons, heydo\", \"<b>Topic 4</b><br>Words: fissionable, plutonium, bomb, reactorweaponsgrade, detonator\", \"<b>Topic 4</b><br>Words: ljubljana, dollarslife, si61111, internetborutblavrencicijssi, csiamailpacoijsslavrencic\", \"<b>Topic 4</b><br>Words: ignore, testplease, ohandleybetsygsfcnasagov, ohandleybetsygsfcnasa, 1993apr21180741betsygsfcnasagov\", \"<b>Topic 4</b><br>Words: orbeli, space, armenian, armenia, vardapet\", \"<b>Topic 4</b><br>Words: cones, crew, columbus, space, aura\"], \"marker\": {\"color\": \"#56B4E9\"}, \"name\": \"4_nasa_orbit_spacecraft_moon\", \"orientation\": \"h\", \"type\": \"bar\", \"visible\": \"legendonly\", \"x\": [5, 9, 10, 6, 621, 5, 16, 17, 8, 9, 9, 4, 3, 6, 8, 6, 12, 2, 5, 13], \"y\": [\"comp.sys.mac.hardware\", \"alt.atheism\", \"talk.religion.misc\", \"comp.sys.ibm.pc.hardware\", \"sci.space\", \"misc.forsale\", \"sci.electronics\", \"comp.graphics\", \"rec.autos\", \"talk.politics.misc\", \"rec.motorcycles\", \"rec.sport.baseball\", \"soc.religion.christian\", \"comp.windows.x\", \"comp.os.ms-windows.misc\", \"talk.politics.guns\", \"sci.crypt\", \"rec.sport.hockey\", \"talk.politics.mideast\", \"sci.med\"]}, {\"hoverinfo\": \"text\", \"hovertext\": [\"<b>Topic 47</b><br>Words: b12, perfect, genetic, cooking, immune\", \"<b>Topic 47</b><br>Words: infanticide, china, abortion, thirdworld, juicy\", \"<b>Topic 47</b><br>Words: tape, backupformat, backup, backpack, aborted\", \"<b>Topic 47</b><br>Words: taste, tootsie, pennicillin, texture, candy\", \"<b>Topic 47</b><br>Words: consumer, videomaker, unsophisticated, cheap, feast\", \"<b>Topic 47</b><br>Words: dancers, adsorbed, gleam, pryoelectrics, aftershave\", \"<b>Topic 47</b><br>Words: salvageable, sexium, lars, nutshell, hurts\", \"<b>Topic 47</b><br>Words: crome, daleys, popout, yettheres, dod0710\", \"<b>Topic 47</b><br>Words: bean, eating, freemarket, dialysis, eater\", \"<b>Topic 47</b><br>Words: eating, meguires, elixir, urineproofing, pecan\", \"<b>Topic 47</b><br>Words: strained, abdominal, 423, jason, muscle\", \"<b>Topic 47</b><br>Words: vulva, fuller, texas, pasadena, austin\", \"<b>Topic 47</b><br>Words: fresco, interviews, rumblings, brad, availability\", \"<b>Topic 47</b><br>Words: consistency, patients, doctor, food, medical\", \"<b>Topic 47</b><br>Words: emergency, medical, hospital, notify, blue\", \"<b>Topic 47</b><br>Words: carl, kadie, kadiecsuiucedu, waaaaaaaaah, hawthorn\", \"<b>Topic 47</b><br>Words: dr, thousand, havai, 93at, vaccinations\", \"<b>Topic 47</b><br>Words: food, medical, vitamin, diet, aids\"], \"marker\": {\"color\": \"#009E73\"}, \"name\": \"47_food_medical_diet_vitamin\", \"orientation\": \"h\", \"type\": \"bar\", \"visible\": \"legendonly\", \"x\": [5, 2, 1, 8, 1, 3, 2, 3, 13, 8, 2, 6, 1, 1, 1, 2, 2, 458], \"y\": [\"alt.atheism\", \"talk.religion.misc\", \"comp.sys.ibm.pc.hardware\", \"sci.space\", \"misc.forsale\", \"sci.electronics\", \"comp.graphics\", \"rec.autos\", \"talk.politics.misc\", \"rec.motorcycles\", \"rec.sport.baseball\", \"soc.religion.christian\", \"comp.windows.x\", \"comp.os.ms-windows.misc\", \"talk.politics.guns\", \"sci.crypt\", \"talk.politics.mideast\", \"sci.med\"]}, {\"hoverinfo\": \"text\", \"hovertext\": [\"<b>Topic 31</b><br>Words: seth, kristen, freddie, lciii, dumb\", \"<b>Topic 31</b><br>Words: bookstores, book, books, staceys, copies\", \"<b>Topic 31</b><br>Words: discordant, 667, 666, precious, 6th\", \"<b>Topic 31</b><br>Words: clementine, 1850s, fortyniner, cavern, larrison\", \"<b>Topic 31</b><br>Words: phoenix, cassette, raquetball, sanfordtownsend, loggins\", \"<b>Topic 31</b><br>Words: norwood, airbag, inexpensive, acceleration, sensor\", \"<b>Topic 31</b><br>Words: horsepower, full, measurement, motion, manufacturers\", \"<b>Topic 31</b><br>Words: bumfk, bloomington, insurance, recourse, rack\", \"<b>Topic 31</b><br>Words: paranoiac, pathetic, chrysler, sandcastles, supplydemand\", \"<b>Topic 31</b><br>Words: 1069, mike, biker, concise, nick\", \"<b>Topic 31</b><br>Words: pitching, baseball, pitcher, cubs, braves\", \"<b>Topic 31</b><br>Words: santaw, rape, guilty, tpg, cheshire\", \"<b>Topic 31</b><br>Words: fans, ice, 50k, baseball, rinks\", \"<b>Topic 31</b><br>Words: prisoners, 45th, birthday, pitchers, ketziot\", \"<b>Topic 31</b><br>Words: workers, employees, injuries, inmates, corrections\"], \"marker\": {\"color\": \"#F0E442\"}, \"name\": \"31_hit_pitching_baseball_pitcher\", \"orientation\": \"h\", \"type\": \"bar\", \"visible\": \"legendonly\", \"x\": [2, 1, 2, 1, 3, 1, 1, 3, 5, 3, 454, 4, 14, 4, 2], \"y\": [\"comp.sys.mac.hardware\", \"alt.atheism\", \"talk.religion.misc\", \"sci.space\", \"misc.forsale\", \"sci.electronics\", \"comp.graphics\", \"rec.autos\", \"talk.politics.misc\", \"rec.motorcycles\", \"rec.sport.baseball\", \"talk.politics.guns\", \"rec.sport.hockey\", \"talk.politics.mideast\", \"sci.med\"]}, {\"hoverinfo\": \"text\", \"hovertext\": [\"<b>Topic 21</b><br>Words: hulking, tidbit, fabricated, mainframes, corrupted\", \"<b>Topic 21</b><br>Words: keys, chip, holland, patriot, scared\", \"<b>Topic 21</b><br>Words: virus, intentionality, damages, flibozity, aeroplane\", \"<b>Topic 21</b><br>Words: ns16550af, an491, poewhartonupennedu, ns16450ins8250ans16c450ins82c50a, netnewscompsysibmpchardware\", \"<b>Topic 21</b><br>Words: macelwaines, macelwaine, timbuk3, coded, 18084tmibmclmsuedu\", \"<b>Topic 21</b><br>Words: key, encryption, pirates, bti, chip\", \"<b>Topic 21</b><br>Words: ijgs, pennebaker, 0442012721, tollfree, brilliant\", \"<b>Topic 21</b><br>Words: escorts, scratching, escort, eager, submissions\", \"<b>Topic 21</b><br>Words: batf, insurance, scam, prostitution, hostages\", \"<b>Topic 21</b><br>Words: handydandy, fetchertoll, deterrents, handbent, randymegatekcom\", \"<b>Topic 21</b><br>Words: proof, proofs, evidences, axioms, initation\", \"<b>Topic 21</b><br>Words: kerberos, authentication, 6998441, xgrabxgrabsc, piscataway\", \"<b>Topic 21</b><br>Words: tests, swyattbrahmsudeledu, cards, cheating, machine\", \"<b>Topic 21</b><br>Words: militia, militias, weapons, nuclear, neutrons\", \"<b>Topic 21</b><br>Words: key, encryption, keys, nsa, algorithm\", \"<b>Topic 21</b><br>Words: thirteen, soderstrom, cage, mask, helmet\", \"<b>Topic 21</b><br>Words: forged, jews, palastenians, encryption, key\", \"<b>Topic 21</b><br>Words: magnets, twinkle, retina, radiologist, tesla\"], \"marker\": {\"color\": \"#D55E00\"}, \"name\": \"21_key_encryption_keys_nsa\", \"orientation\": \"h\", \"type\": \"bar\", \"visible\": \"legendonly\", \"x\": [1, 3, 4, 3, 1, 31, 4, 2, 9, 3, 3, 4, 1, 6, 387, 1, 5, 2], \"y\": [\"comp.sys.mac.hardware\", \"alt.atheism\", \"talk.religion.misc\", \"comp.sys.ibm.pc.hardware\", \"sci.space\", \"sci.electronics\", \"comp.graphics\", \"rec.autos\", \"talk.politics.misc\", \"rec.motorcycles\", \"soc.religion.christian\", \"comp.windows.x\", \"comp.os.ms-windows.misc\", \"talk.politics.guns\", \"sci.crypt\", \"rec.sport.hockey\", \"talk.politics.mideast\", \"sci.med\"]}, {\"hoverinfo\": \"text\", \"hovertext\": [\"<b>Topic 2</b><br>Words: zzzzzzt, ergonomics, ergonomicallyhellish, ergoplic, eredoctoraat\", \"<b>Topic 2</b><br>Words: zzzzzzt, ergonomics, ergonomicallyhellish, ergoplic, eredoctoraat\", \"<b>Topic 2</b><br>Words: zzzzzzt, ergonomics, ergonomicallyhellish, ergoplic, eredoctoraat\", \"<b>Topic 2</b><br>Words: zzzzzzt, ergonomics, ergonomicallyhellish, ergoplic, eredoctoraat\", \"<b>Topic 2</b><br>Words: zzzzzzt, ergonomics, ergonomicallyhellish, ergoplic, eredoctoraat\", \"<b>Topic 2</b><br>Words: zzzzzzt, ergonomics, ergonomicallyhellish, ergoplic, eredoctoraat\", \"<b>Topic 2</b><br>Words: zzzzzzt, ergonomics, ergonomicallyhellish, ergoplic, eredoctoraat\", \"<b>Topic 2</b><br>Words: zzzzzzt, ergonomics, ergonomicallyhellish, ergoplic, eredoctoraat\", \"<b>Topic 2</b><br>Words: zzzzzzt, ergonomics, ergonomicallyhellish, ergoplic, eredoctoraat\", \"<b>Topic 2</b><br>Words: zzzzzzt, ergonomics, ergonomicallyhellish, ergoplic, eredoctoraat\", \"<b>Topic 2</b><br>Words: zzzzzzt, ergonomics, ergonomicallyhellish, ergoplic, eredoctoraat\", \"<b>Topic 2</b><br>Words: zzzzzzt, ergonomics, ergonomicallyhellish, ergoplic, eredoctoraat\", \"<b>Topic 2</b><br>Words: zzzzzzt, ergonomics, ergonomicallyhellish, ergoplic, eredoctoraat\", \"<b>Topic 2</b><br>Words: zzzzzzt, ergonomics, ergonomicallyhellish, ergoplic, eredoctoraat\", \"<b>Topic 2</b><br>Words: zzzzzzt, ergonomics, ergonomicallyhellish, ergoplic, eredoctoraat\", \"<b>Topic 2</b><br>Words: zzzzzzt, ergonomics, ergonomicallyhellish, ergoplic, eredoctoraat\", \"<b>Topic 2</b><br>Words: zzzzzzt, ergonomics, ergonomicallyhellish, ergoplic, eredoctoraat\", \"<b>Topic 2</b><br>Words: zzzzzzt, ergonomics, ergonomicallyhellish, ergoplic, eredoctoraat\", \"<b>Topic 2</b><br>Words: zzzzzzt, ergonomics, ergonomicallyhellish, ergoplic, eredoctoraat\", \"<b>Topic 2</b><br>Words: zzzzzzt, ergonomics, ergonomicallyhellish, ergoplic, eredoctoraat\"], \"marker\": {\"color\": \"#0072B2\"}, \"name\": \"2_zzzzzzt_ergonomics_ergonomicallyhellis...\", \"orientation\": \"h\", \"type\": \"bar\", \"visible\": \"legendonly\", \"x\": [30, 18, 18, 16, 27, 12, 21, 19, 48, 14, 24, 31, 21, 4, 30, 21, 28, 19, 17, 28], \"y\": [\"comp.sys.mac.hardware\", \"alt.atheism\", \"talk.religion.misc\", \"comp.sys.ibm.pc.hardware\", \"sci.space\", \"misc.forsale\", \"sci.electronics\", \"comp.graphics\", \"rec.autos\", \"talk.politics.misc\", \"rec.motorcycles\", \"rec.sport.baseball\", \"soc.religion.christian\", \"comp.windows.x\", \"comp.os.ms-windows.misc\", \"talk.politics.guns\", \"sci.crypt\", \"rec.sport.hockey\", \"talk.politics.mideast\", \"sci.med\"]}, {\"hoverinfo\": \"text\", \"hovertext\": [\"<b>Topic 26</b><br>Words: sound, stereo, powerbook, quadra, amp\", \"<b>Topic 26</b><br>Words: flourish, righteous, tree, wiring, audio\", \"<b>Topic 26</b><br>Words: power, wires, switch, light, turbo\", \"<b>Topic 26</b><br>Words: telescope, tubes, theoretical, transistors, telescopes\", \"<b>Topic 26</b><br>Words: tuner, amp, cymbal, 82400, 1000w\", \"<b>Topic 26</b><br>Words: wire, wiring, amp, circuits, wires\", \"<b>Topic 26</b><br>Words: chromaticity, colour, sound, xyz, 3do\", \"<b>Topic 26</b><br>Words: bricklin, battery, car, mk48t02, thomsom\", \"<b>Topic 26</b><br>Words: selfreferral, surgery, seventy, doctors, mri\", \"<b>Topic 26</b><br>Words: battery, charging, horns, compressor, horn\", \"<b>Topic 26</b><br>Words: stadium, mets, multipurpose, shea, jets\", \"<b>Topic 26</b><br>Words: soundexe, sound, blaster, selfexpanding, devicexxxxxxx\", \"<b>Topic 26</b><br>Words: microwaves, electricity, engineer, wiring, wires\", \"<b>Topic 26</b><br>Words: bfalse, audio, qualcomm, btrue, gsm\", \"<b>Topic 26</b><br>Words: cheevers, stitches, painted, gerry, assists\", \"<b>Topic 26</b><br>Words: music, deaf, education, teachers, classes\", \"<b>Topic 26</b><br>Words: frequencies, hearing, ear, induce, aids\"], \"marker\": {\"color\": \"#CC79A7\"}, \"name\": \"26_wiring_amp_wires_audio\", \"orientation\": \"h\", \"type\": \"bar\", \"visible\": \"legendonly\", \"x\": [19, 1, 19, 10, 15, 234, 6, 4, 1, 6, 3, 6, 1, 18, 2, 5, 7], \"y\": [\"comp.sys.mac.hardware\", \"talk.religion.misc\", \"comp.sys.ibm.pc.hardware\", \"sci.space\", \"misc.forsale\", \"sci.electronics\", \"comp.graphics\", \"rec.autos\", \"talk.politics.misc\", \"rec.motorcycles\", \"rec.sport.baseball\", \"comp.os.ms-windows.misc\", \"talk.politics.guns\", \"sci.crypt\", \"rec.sport.hockey\", \"talk.politics.mideast\", \"sci.med\"]}, {\"hoverinfo\": \"text\", \"hovertext\": [\"<b>Topic 58</b><br>Words: clamp, bus, bike, bikes, motorcycle\", \"<b>Topic 58</b><br>Words: cretinous, cycle, drivers, bike, bikes\", \"<b>Topic 58</b><br>Words: alloys, 1000, steel, iron, isothermal\", \"<b>Topic 58</b><br>Words: speedway, cd, western, wc, 12\", \"<b>Topic 58</b><br>Words: mercury, 12, bike, bikes, motorcycle\", \"<b>Topic 58</b><br>Words: bike, tandem, frameset, wheelset, followuptokedzwpiwpiedu\", \"<b>Topic 58</b><br>Words: electricians, silicone, jack, hd110, switchmagnet\", \"<b>Topic 58</b><br>Words: brake, tires, braking, brakes, tire\", \"<b>Topic 58</b><br>Words: rjamahogany126craycom, aquittal, tamuedu, mst4298zeus, carmel\", \"<b>Topic 58</b><br>Words: bike, bikes, motorcycle, ride, tire\", \"<b>Topic 58</b><br>Words: prophesy, predicted, prophesies, erupt, volcano\", \"<b>Topic 58</b><br>Words: tanks, detroit, guns, fired, bike\", \"<b>Topic 58</b><br>Words: spasms, ankle, superglue, muscle, digitorum\"], \"marker\": {\"color\": \"#E69F00\"}, \"name\": \"58_bike_bikes_motorcycle_brake\", \"orientation\": \"h\", \"type\": \"bar\", \"visible\": \"legendonly\", \"x\": [2, 1, 1, 2, 1, 4, 5, 37, 1, 270, 1, 3, 4], \"y\": [\"comp.sys.mac.hardware\", \"alt.atheism\", \"talk.religion.misc\", \"comp.sys.ibm.pc.hardware\", \"sci.space\", \"misc.forsale\", \"sci.electronics\", \"rec.autos\", \"talk.politics.misc\", \"rec.motorcycles\", \"soc.religion.christian\", \"talk.politics.guns\", \"sci.med\"]}, {\"hoverinfo\": \"text\", \"hovertext\": [\"<b>Topic 93</b><br>Words: dick, homosexual, homosexuality, sex, homosexuals\", \"<b>Topic 93</b><br>Words: homosexuality, sex, homosexual, homosexuals, gay\", \"<b>Topic 93</b><br>Words: homosexuality, homosexual, gays, gay, sexual\", \"<b>Topic 93</b><br>Words: rephrasing, shoving, merciful, crooks, gay\", \"<b>Topic 93</b><br>Words: tickets, 4500, 421, warriors, 730\", \"<b>Topic 93</b><br>Words: comb, wallet, pen, pants, married\", \"<b>Topic 93</b><br>Words: homosexual, sex, gay, sexual, homosexuals\", \"<b>Topic 93</b><br>Words: gregs, bonded, gentlemen, rod, confused\", \"<b>Topic 93</b><br>Words: todd, baggypants, hundleys, tighter, carlton\", \"<b>Topic 93</b><br>Words: homosexual, homosexuality, sex, homosexuals, sexual\", \"<b>Topic 93</b><br>Words: gossip, copyrights, wrt, vacation, dick\", \"<b>Topic 93</b><br>Words: guys, koresh, fbi, sex, homosexuals\", \"<b>Topic 93</b><br>Words: pmetzgershearsoncom, homosexual, homosexuality, sex, homosexuals\", \"<b>Topic 93</b><br>Words: homosexual, sexual, nick, love, palestinianisrael\", \"<b>Topic 93</b><br>Words: sex, vasectomy, partner, pregnancy, homosexual\"], \"marker\": {\"color\": \"#56B4E9\"}, \"name\": \"93_homosexual_homosexuality_sex_homosexu...\", \"orientation\": \"h\", \"type\": \"bar\", \"visible\": \"legendonly\", \"x\": [1, 16, 8, 2, 1, 1, 124, 2, 1, 40, 2, 5, 1, 2, 7], \"y\": [\"comp.sys.mac.hardware\", \"alt.atheism\", \"talk.religion.misc\", \"sci.space\", \"misc.forsale\", \"rec.autos\", \"talk.politics.misc\", \"rec.motorcycles\", \"rec.sport.baseball\", \"soc.religion.christian\", \"comp.windows.x\", \"talk.politics.guns\", \"sci.crypt\", \"talk.politics.mideast\", \"sci.med\"]}, {\"hoverinfo\": \"text\", \"hovertext\": [\"<b>Topic 61</b><br>Words: datsun, hatchbak, phila, hatchback, automatic\", \"<b>Topic 61</b><br>Words: beam, 205, speedometerreading, cars, 45th\", \"<b>Topic 61</b><br>Words: car, cars, ford, mustang, toyota\", \"<b>Topic 61</b><br>Words: guilty, innocent, stacey, civil, sentencing\", \"<b>Topic 61</b><br>Words: rc31, harley, ford, engine, modified\", \"<b>Topic 61</b><br>Words: cadillac, eastwood, car, cars, ford\"], \"marker\": {\"color\": \"#009E73\"}, \"name\": \"61_car_cars_ford_mustang\", \"orientation\": \"h\", \"type\": \"bar\", \"visible\": \"legendonly\", \"x\": [1, 3, 187, 1, 10, 1], \"y\": [\"misc.forsale\", \"sci.electronics\", \"rec.autos\", \"talk.politics.misc\", \"rec.motorcycles\", \"talk.politics.guns\"]}],                        {\"height\": 900, \"hoverlabel\": {\"bgcolor\": \"white\", \"font\": {\"family\": \"Rockwell\", \"size\": 16}}, \"legend\": {\"title\": {\"text\": \"<b>Global Topic Representation\"}}, \"template\": {\"data\": {\"bar\": [{\"error_x\": {\"color\": \"rgb(36,36,36)\"}, \"error_y\": {\"color\": \"rgb(36,36,36)\"}, \"marker\": {\"line\": {\"color\": \"white\", \"width\": 0.5}}, \"type\": \"bar\"}], \"barpolar\": [{\"marker\": {\"line\": {\"color\": \"white\", \"width\": 0.5}}, \"type\": \"barpolar\"}], \"carpet\": [{\"aaxis\": {\"endlinecolor\": \"rgb(36,36,36)\", \"gridcolor\": \"white\", \"linecolor\": \"white\", \"minorgridcolor\": \"white\", \"startlinecolor\": \"rgb(36,36,36)\"}, \"baxis\": {\"endlinecolor\": \"rgb(36,36,36)\", \"gridcolor\": \"white\", \"linecolor\": \"white\", \"minorgridcolor\": \"white\", \"startlinecolor\": \"rgb(36,36,36)\"}, \"type\": \"carpet\"}], \"choropleth\": [{\"colorbar\": {\"outlinewidth\": 1, \"tickcolor\": \"rgb(36,36,36)\", \"ticks\": \"outside\"}, \"type\": \"choropleth\"}], \"contour\": [{\"colorbar\": {\"outlinewidth\": 1, \"tickcolor\": \"rgb(36,36,36)\", \"ticks\": \"outside\"}, \"colorscale\": [[0.0, \"#440154\"], [0.1111111111111111, \"#482878\"], [0.2222222222222222, \"#3e4989\"], [0.3333333333333333, \"#31688e\"], [0.4444444444444444, \"#26828e\"], [0.5555555555555556, \"#1f9e89\"], [0.6666666666666666, \"#35b779\"], [0.7777777777777778, \"#6ece58\"], [0.8888888888888888, \"#b5de2b\"], [1.0, \"#fde725\"]], \"type\": \"contour\"}], \"contourcarpet\": [{\"colorbar\": {\"outlinewidth\": 1, \"tickcolor\": \"rgb(36,36,36)\", \"ticks\": \"outside\"}, \"type\": \"contourcarpet\"}], \"heatmap\": [{\"colorbar\": {\"outlinewidth\": 1, \"tickcolor\": \"rgb(36,36,36)\", \"ticks\": \"outside\"}, \"colorscale\": [[0.0, \"#440154\"], [0.1111111111111111, \"#482878\"], [0.2222222222222222, \"#3e4989\"], [0.3333333333333333, \"#31688e\"], [0.4444444444444444, \"#26828e\"], [0.5555555555555556, \"#1f9e89\"], [0.6666666666666666, \"#35b779\"], [0.7777777777777778, \"#6ece58\"], [0.8888888888888888, \"#b5de2b\"], [1.0, \"#fde725\"]], \"type\": \"heatmap\"}], \"heatmapgl\": [{\"colorbar\": {\"outlinewidth\": 1, \"tickcolor\": \"rgb(36,36,36)\", \"ticks\": \"outside\"}, \"colorscale\": [[0.0, \"#440154\"], [0.1111111111111111, \"#482878\"], [0.2222222222222222, \"#3e4989\"], [0.3333333333333333, \"#31688e\"], [0.4444444444444444, \"#26828e\"], [0.5555555555555556, \"#1f9e89\"], [0.6666666666666666, \"#35b779\"], [0.7777777777777778, \"#6ece58\"], [0.8888888888888888, \"#b5de2b\"], [1.0, \"#fde725\"]], \"type\": \"heatmapgl\"}], \"histogram\": [{\"marker\": {\"line\": {\"color\": \"white\", \"width\": 0.6}}, \"type\": \"histogram\"}], \"histogram2d\": [{\"colorbar\": {\"outlinewidth\": 1, \"tickcolor\": \"rgb(36,36,36)\", \"ticks\": \"outside\"}, \"colorscale\": [[0.0, \"#440154\"], [0.1111111111111111, \"#482878\"], [0.2222222222222222, \"#3e4989\"], [0.3333333333333333, \"#31688e\"], [0.4444444444444444, \"#26828e\"], [0.5555555555555556, \"#1f9e89\"], [0.6666666666666666, \"#35b779\"], [0.7777777777777778, \"#6ece58\"], [0.8888888888888888, \"#b5de2b\"], [1.0, \"#fde725\"]], \"type\": \"histogram2d\"}], \"histogram2dcontour\": [{\"colorbar\": {\"outlinewidth\": 1, \"tickcolor\": \"rgb(36,36,36)\", \"ticks\": \"outside\"}, \"colorscale\": [[0.0, \"#440154\"], [0.1111111111111111, \"#482878\"], [0.2222222222222222, \"#3e4989\"], [0.3333333333333333, \"#31688e\"], [0.4444444444444444, \"#26828e\"], [0.5555555555555556, \"#1f9e89\"], [0.6666666666666666, \"#35b779\"], [0.7777777777777778, \"#6ece58\"], [0.8888888888888888, \"#b5de2b\"], [1.0, \"#fde725\"]], \"type\": \"histogram2dcontour\"}], \"mesh3d\": [{\"colorbar\": {\"outlinewidth\": 1, \"tickcolor\": \"rgb(36,36,36)\", \"ticks\": \"outside\"}, \"type\": \"mesh3d\"}], \"parcoords\": [{\"line\": {\"colorbar\": {\"outlinewidth\": 1, \"tickcolor\": \"rgb(36,36,36)\", \"ticks\": \"outside\"}}, \"type\": \"parcoords\"}], \"pie\": [{\"automargin\": true, \"type\": \"pie\"}], \"scatter\": [{\"marker\": {\"colorbar\": {\"outlinewidth\": 1, \"tickcolor\": \"rgb(36,36,36)\", \"ticks\": \"outside\"}}, \"type\": \"scatter\"}], \"scatter3d\": [{\"line\": {\"colorbar\": {\"outlinewidth\": 1, \"tickcolor\": \"rgb(36,36,36)\", \"ticks\": \"outside\"}}, \"marker\": {\"colorbar\": {\"outlinewidth\": 1, \"tickcolor\": \"rgb(36,36,36)\", \"ticks\": \"outside\"}}, \"type\": \"scatter3d\"}], \"scattercarpet\": [{\"marker\": {\"colorbar\": {\"outlinewidth\": 1, \"tickcolor\": \"rgb(36,36,36)\", \"ticks\": \"outside\"}}, \"type\": \"scattercarpet\"}], \"scattergeo\": [{\"marker\": {\"colorbar\": {\"outlinewidth\": 1, \"tickcolor\": \"rgb(36,36,36)\", \"ticks\": \"outside\"}}, \"type\": \"scattergeo\"}], \"scattergl\": [{\"marker\": {\"colorbar\": {\"outlinewidth\": 1, \"tickcolor\": \"rgb(36,36,36)\", \"ticks\": \"outside\"}}, \"type\": \"scattergl\"}], \"scattermapbox\": [{\"marker\": {\"colorbar\": {\"outlinewidth\": 1, \"tickcolor\": \"rgb(36,36,36)\", \"ticks\": \"outside\"}}, \"type\": \"scattermapbox\"}], \"scatterpolar\": [{\"marker\": {\"colorbar\": {\"outlinewidth\": 1, \"tickcolor\": \"rgb(36,36,36)\", \"ticks\": \"outside\"}}, \"type\": \"scatterpolar\"}], \"scatterpolargl\": [{\"marker\": {\"colorbar\": {\"outlinewidth\": 1, \"tickcolor\": \"rgb(36,36,36)\", \"ticks\": \"outside\"}}, \"type\": \"scatterpolargl\"}], \"scatterternary\": [{\"marker\": {\"colorbar\": {\"outlinewidth\": 1, \"tickcolor\": \"rgb(36,36,36)\", \"ticks\": \"outside\"}}, \"type\": \"scatterternary\"}], \"surface\": [{\"colorbar\": {\"outlinewidth\": 1, \"tickcolor\": \"rgb(36,36,36)\", \"ticks\": \"outside\"}, \"colorscale\": [[0.0, \"#440154\"], [0.1111111111111111, \"#482878\"], [0.2222222222222222, \"#3e4989\"], [0.3333333333333333, \"#31688e\"], [0.4444444444444444, \"#26828e\"], [0.5555555555555556, \"#1f9e89\"], [0.6666666666666666, \"#35b779\"], [0.7777777777777778, \"#6ece58\"], [0.8888888888888888, \"#b5de2b\"], [1.0, \"#fde725\"]], \"type\": \"surface\"}], \"table\": [{\"cells\": {\"fill\": {\"color\": \"rgb(237,237,237)\"}, \"line\": {\"color\": \"white\"}}, \"header\": {\"fill\": {\"color\": \"rgb(217,217,217)\"}, \"line\": {\"color\": \"white\"}}, \"type\": \"table\"}]}, \"layout\": {\"annotationdefaults\": {\"arrowhead\": 0, \"arrowwidth\": 1}, \"autotypenumbers\": \"strict\", \"coloraxis\": {\"colorbar\": {\"outlinewidth\": 1, \"tickcolor\": \"rgb(36,36,36)\", \"ticks\": \"outside\"}}, \"colorscale\": {\"diverging\": [[0.0, \"rgb(103,0,31)\"], [0.1, \"rgb(178,24,43)\"], [0.2, \"rgb(214,96,77)\"], [0.3, \"rgb(244,165,130)\"], [0.4, \"rgb(253,219,199)\"], [0.5, \"rgb(247,247,247)\"], [0.6, \"rgb(209,229,240)\"], [0.7, \"rgb(146,197,222)\"], [0.8, \"rgb(67,147,195)\"], [0.9, \"rgb(33,102,172)\"], [1.0, \"rgb(5,48,97)\"]], \"sequential\": [[0.0, \"#440154\"], [0.1111111111111111, \"#482878\"], [0.2222222222222222, \"#3e4989\"], [0.3333333333333333, \"#31688e\"], [0.4444444444444444, \"#26828e\"], [0.5555555555555556, \"#1f9e89\"], [0.6666666666666666, \"#35b779\"], [0.7777777777777778, \"#6ece58\"], [0.8888888888888888, \"#b5de2b\"], [1.0, \"#fde725\"]], \"sequentialminus\": [[0.0, \"#440154\"], [0.1111111111111111, \"#482878\"], [0.2222222222222222, \"#3e4989\"], [0.3333333333333333, \"#31688e\"], [0.4444444444444444, \"#26828e\"], [0.5555555555555556, \"#1f9e89\"], [0.6666666666666666, \"#35b779\"], [0.7777777777777778, \"#6ece58\"], [0.8888888888888888, \"#b5de2b\"], [1.0, \"#fde725\"]]}, \"colorway\": [\"#1F77B4\", \"#FF7F0E\", \"#2CA02C\", \"#D62728\", \"#9467BD\", \"#8C564B\", \"#E377C2\", \"#7F7F7F\", \"#BCBD22\", \"#17BECF\"], \"font\": {\"color\": \"rgb(36,36,36)\"}, \"geo\": {\"bgcolor\": \"white\", \"lakecolor\": \"white\", \"landcolor\": \"white\", \"showlakes\": true, \"showland\": true, \"subunitcolor\": \"white\"}, \"hoverlabel\": {\"align\": \"left\"}, \"hovermode\": \"closest\", \"mapbox\": {\"style\": \"light\"}, \"paper_bgcolor\": \"white\", \"plot_bgcolor\": \"white\", \"polar\": {\"angularaxis\": {\"gridcolor\": \"rgb(232,232,232)\", \"linecolor\": \"rgb(36,36,36)\", \"showgrid\": false, \"showline\": true, \"ticks\": \"outside\"}, \"bgcolor\": \"white\", \"radialaxis\": {\"gridcolor\": \"rgb(232,232,232)\", \"linecolor\": \"rgb(36,36,36)\", \"showgrid\": false, \"showline\": true, \"ticks\": \"outside\"}}, \"scene\": {\"xaxis\": {\"backgroundcolor\": \"white\", \"gridcolor\": \"rgb(232,232,232)\", \"gridwidth\": 2, \"linecolor\": \"rgb(36,36,36)\", \"showbackground\": true, \"showgrid\": false, \"showline\": true, \"ticks\": \"outside\", \"zeroline\": false, \"zerolinecolor\": \"rgb(36,36,36)\"}, \"yaxis\": {\"backgroundcolor\": \"white\", \"gridcolor\": \"rgb(232,232,232)\", \"gridwidth\": 2, \"linecolor\": \"rgb(36,36,36)\", \"showbackground\": true, \"showgrid\": false, \"showline\": true, \"ticks\": \"outside\", \"zeroline\": false, \"zerolinecolor\": \"rgb(36,36,36)\"}, \"zaxis\": {\"backgroundcolor\": \"white\", \"gridcolor\": \"rgb(232,232,232)\", \"gridwidth\": 2, \"linecolor\": \"rgb(36,36,36)\", \"showbackground\": true, \"showgrid\": false, \"showline\": true, \"ticks\": \"outside\", \"zeroline\": false, \"zerolinecolor\": \"rgb(36,36,36)\"}}, \"shapedefaults\": {\"fillcolor\": \"black\", \"line\": {\"width\": 0}, \"opacity\": 0.3}, \"ternary\": {\"aaxis\": {\"gridcolor\": \"rgb(232,232,232)\", \"linecolor\": \"rgb(36,36,36)\", \"showgrid\": false, \"showline\": true, \"ticks\": \"outside\"}, \"baxis\": {\"gridcolor\": \"rgb(232,232,232)\", \"linecolor\": \"rgb(36,36,36)\", \"showgrid\": false, \"showline\": true, \"ticks\": \"outside\"}, \"bgcolor\": \"white\", \"caxis\": {\"gridcolor\": \"rgb(232,232,232)\", \"linecolor\": \"rgb(36,36,36)\", \"showgrid\": false, \"showline\": true, \"ticks\": \"outside\"}}, \"title\": {\"x\": 0.05}, \"xaxis\": {\"automargin\": true, \"gridcolor\": \"rgb(232,232,232)\", \"linecolor\": \"rgb(36,36,36)\", \"showgrid\": false, \"showline\": true, \"ticks\": \"outside\", \"title\": {\"standoff\": 15}, \"zeroline\": false, \"zerolinecolor\": \"rgb(36,36,36)\"}, \"yaxis\": {\"automargin\": true, \"gridcolor\": \"rgb(232,232,232)\", \"linecolor\": \"rgb(36,36,36)\", \"showgrid\": false, \"showline\": true, \"ticks\": \"outside\", \"title\": {\"standoff\": 15}, \"zeroline\": false, \"zerolinecolor\": \"rgb(36,36,36)\"}}}, \"title\": {\"font\": {\"color\": \"Black\", \"size\": 22}, \"text\": \"<b>Topics per Class\", \"x\": 0.4, \"xanchor\": \"center\", \"y\": 0.95, \"yanchor\": \"top\"}, \"width\": 1250, \"xaxis\": {\"showgrid\": true, \"title\": {\"text\": \"Frequency\"}}, \"yaxis\": {\"showgrid\": true, \"title\": {\"text\": \"Class\"}}},                        {\"responsive\": true}                    ).then(function(){\n",
              "                            \n",
              "var gd = document.getElementById('cc8021ab-d661-4729-961a-38519163f802');\n",
              "var x = new MutationObserver(function (mutations, observer) {{\n",
              "        var display = window.getComputedStyle(gd).display;\n",
              "        if (!display || display === 'none') {{\n",
              "            console.log([gd, 'removed!']);\n",
              "            Plotly.purge(gd);\n",
              "            observer.disconnect();\n",
              "        }}\n",
              "}});\n",
              "\n",
              "// Listen for the removal of the full notebook cells\n",
              "var notebookContainer = gd.closest('#notebook-container');\n",
              "if (notebookContainer) {{\n",
              "    x.observe(notebookContainer, {childList: true});\n",
              "}}\n",
              "\n",
              "// Listen for the clearing of the current output cell\n",
              "var outputEl = gd.closest('.output');\n",
              "if (outputEl) {{\n",
              "    x.observe(outputEl, {childList: true});\n",
              "}}\n",
              "\n",
              "                        })                };                            </script>        </div>\n",
              "</body>\n",
              "</html>"
            ]
          },
          "metadata": {
            "tags": []
          }
        }
      ]
    },
    {
      "cell_type": "markdown",
      "metadata": {
        "id": "uV2wrpuWn4-K"
      },
      "source": [
        "The results do seem promising. Topics like \"nasa, space, etc\" seem to be clearly related to sci.space, but some topics were created that span many categories. For example, we expect the topic \"bike, bikes, etc\"  to only appear in rec.motorcycles.  "
      ]
    },
    {
      "cell_type": "markdown",
      "metadata": {
        "id": "5eTm6Di6dAq8"
      },
      "source": [
        "## Semi-supervised\n",
        "In the example above you might notice that some topics were somewhat smushed together. What we would like to see is a clear separation between those topics. Fortunately, we have to labels and can use them to improve the model. \n",
        "\n",
        "Since we are not interested in any other topics, this method is called semi-supervised topic modeling. In practice, this means that we have the labels of some documents but not all. \n",
        "\n",
        "For this example let's say we only have the labels of all computer-related categories:"
      ]
    },
    {
      "cell_type": "code",
      "metadata": {
        "id": "Qx8e2s0jfPbM"
      },
      "source": [
        " labels_to_add = ['comp.graphics', 'comp.os.ms-windows.misc',\n",
        "                  'comp.sys.ibm.pc.hardware', 'comp.sys.mac.hardware',\n",
        "                  'comp.windows.x',]\n",
        " indices = [target_names.index(label) for label in labels_to_add]\n",
        " new_labels = [label if label in indices else -1 for label in targets]"
      ],
      "execution_count": null,
      "outputs": []
    },
    {
      "cell_type": "markdown",
      "metadata": {
        "id": "gnizBY2JinQZ"
      },
      "source": [
        "When generating our new labels it is important to mark unknown classes as **-1**. Next, we use those newly constructed labels to again run BERTopic:"
      ]
    },
    {
      "cell_type": "code",
      "metadata": {
        "colab": {
          "base_uri": "https://localhost:8080/",
          "height": 119,
          "referenced_widgets": [
            "9f4d1f9f616c441aa617accbcf259ecc",
            "abf35b94dbca4524a6dd3d312be8e187",
            "072b53592ce549008d4d6f4f9ca5416e",
            "4eb36960c3fa46e4b0f57253bf96f828",
            "bc52ea83368c4228bfcb8e28d9ad128c",
            "0c02a7194ffe402b97b4a1c0f2a5ed75",
            "0cd33ac02b014c79859e8cfc01d4f164",
            "6ef376f3104842779a505b8fc050a3cc"
          ]
        },
        "id": "2FNFTvhadAE5",
        "outputId": "2c93c5d4-c053-411e-8248-2cbba26de3b0"
      },
      "source": [
        "topic_model = BERTopic(verbose=True)\n",
        "topics, _ = topic_model.fit_transform(docs, y=new_labels)"
      ],
      "execution_count": null,
      "outputs": [
        {
          "output_type": "display_data",
          "data": {
            "application/vnd.jupyter.widget-view+json": {
              "model_id": "9f4d1f9f616c441aa617accbcf259ecc",
              "version_minor": 0,
              "version_major": 2
            },
            "text/plain": [
              "HBox(children=(FloatProgress(value=0.0, description='Batches', max=589.0, style=ProgressStyle(description_widt…"
            ]
          },
          "metadata": {
            "tags": []
          }
        },
        {
          "output_type": "stream",
          "text": [
            "2021-04-25 05:55:43,262 - BERTopic - Transformed documents to Embeddings\n"
          ],
          "name": "stderr"
        },
        {
          "output_type": "stream",
          "text": [
            "\n"
          ],
          "name": "stdout"
        },
        {
          "output_type": "stream",
          "text": [
            "2021-04-25 05:56:03,260 - BERTopic - Reduced dimensionality with UMAP\n",
            "2021-04-25 05:56:05,695 - BERTopic - Clustered UMAP embeddings with HDBSCAN\n"
          ],
          "name": "stderr"
        }
      ]
    },
    {
      "cell_type": "code",
      "metadata": {
        "colab": {
          "base_uri": "https://localhost:8080/",
          "height": 355
        },
        "id": "VxdyTMiQc-j4",
        "outputId": "20a9f181-ed5a-4eee-9825-7f9a9c291e9b"
      },
      "source": [
        "topic_model.get_topic_info().head(10)"
      ],
      "execution_count": null,
      "outputs": [
        {
          "output_type": "execute_result",
          "data": {
            "text/html": [
              "<div>\n",
              "<style scoped>\n",
              "    .dataframe tbody tr th:only-of-type {\n",
              "        vertical-align: middle;\n",
              "    }\n",
              "\n",
              "    .dataframe tbody tr th {\n",
              "        vertical-align: top;\n",
              "    }\n",
              "\n",
              "    .dataframe thead th {\n",
              "        text-align: right;\n",
              "    }\n",
              "</style>\n",
              "<table border=\"1\" class=\"dataframe\">\n",
              "  <thead>\n",
              "    <tr style=\"text-align: right;\">\n",
              "      <th></th>\n",
              "      <th>Topic</th>\n",
              "      <th>Count</th>\n",
              "      <th>Name</th>\n",
              "    </tr>\n",
              "  </thead>\n",
              "  <tbody>\n",
              "    <tr>\n",
              "      <th>0</th>\n",
              "      <td>-1</td>\n",
              "      <td>7167</td>\n",
              "      <td>-1_my_me_all_no</td>\n",
              "    </tr>\n",
              "    <tr>\n",
              "      <th>1</th>\n",
              "      <td>24</td>\n",
              "      <td>873</td>\n",
              "      <td>24_game_hockey_550_nhl</td>\n",
              "    </tr>\n",
              "    <tr>\n",
              "      <th>2</th>\n",
              "      <td>31</td>\n",
              "      <td>804</td>\n",
              "      <td>31_window_server_widget_openwindows</td>\n",
              "    </tr>\n",
              "    <tr>\n",
              "      <th>3</th>\n",
              "      <td>9</td>\n",
              "      <td>759</td>\n",
              "      <td>9_space_nasa_orbit_spacecraft</td>\n",
              "    </tr>\n",
              "    <tr>\n",
              "      <th>4</th>\n",
              "      <td>52</td>\n",
              "      <td>739</td>\n",
              "      <td>52_jpeg_image_images_file</td>\n",
              "    </tr>\n",
              "    <tr>\n",
              "      <th>5</th>\n",
              "      <td>26</td>\n",
              "      <td>738</td>\n",
              "      <td>26_baseball_games_hit_pitching</td>\n",
              "    </tr>\n",
              "    <tr>\n",
              "      <th>6</th>\n",
              "      <td>20</td>\n",
              "      <td>613</td>\n",
              "      <td>20_food_medical_vitamin_diet</td>\n",
              "    </tr>\n",
              "    <tr>\n",
              "      <th>7</th>\n",
              "      <td>115</td>\n",
              "      <td>572</td>\n",
              "      <td>115_god_jesus_christ_church</td>\n",
              "    </tr>\n",
              "    <tr>\n",
              "      <th>8</th>\n",
              "      <td>0</td>\n",
              "      <td>517</td>\n",
              "      <td>0_zzzzzzt_ergo_ergonomicallyhellish_ergonomica...</td>\n",
              "    </tr>\n",
              "    <tr>\n",
              "      <th>9</th>\n",
              "      <td>48</td>\n",
              "      <td>506</td>\n",
              "      <td>48_key_encryption_keys_nsa</td>\n",
              "    </tr>\n",
              "  </tbody>\n",
              "</table>\n",
              "</div>"
            ],
            "text/plain": [
              "   Topic  Count                                               Name\n",
              "0     -1   7167                                    -1_my_me_all_no\n",
              "1     24    873                             24_game_hockey_550_nhl\n",
              "2     31    804                31_window_server_widget_openwindows\n",
              "3      9    759                      9_space_nasa_orbit_spacecraft\n",
              "4     52    739                          52_jpeg_image_images_file\n",
              "5     26    738                     26_baseball_games_hit_pitching\n",
              "6     20    613                       20_food_medical_vitamin_diet\n",
              "7    115    572                        115_god_jesus_christ_church\n",
              "8      0    517  0_zzzzzzt_ergo_ergonomicallyhellish_ergonomica...\n",
              "9     48    506                         48_key_encryption_keys_nsa"
            ]
          },
          "metadata": {
            "tags": []
          },
          "execution_count": 17
        }
      ]
    },
    {
      "cell_type": "markdown",
      "metadata": {
        "id": "q43S0mpbnyPX"
      },
      "source": [
        "Finally, we can again extract the topics per class to see if our semi-supervised approach had some effect:"
      ]
    },
    {
      "cell_type": "code",
      "metadata": {
        "colab": {
          "base_uri": "https://localhost:8080/",
          "height": 935
        },
        "id": "JWuZTVAQmC80",
        "outputId": "da5afcb0-ef5e-4b03-e6f8-caf0585f35bc"
      },
      "source": [
        "topics_per_class = topic_model.topics_per_class(docs, topics, classes=classes)\n",
        "fig_semi_supervised = topic_model.visualize_topics_per_class(topics_per_class, top_n_topics=10)\n",
        "fig_semi_supervised"
      ],
      "execution_count": null,
      "outputs": [
        {
          "output_type": "stream",
          "text": [
            "20it [00:28,  1.45s/it]\n"
          ],
          "name": "stderr"
        },
        {
          "output_type": "display_data",
          "data": {
            "text/html": [
              "<html>\n",
              "<head><meta charset=\"utf-8\" /></head>\n",
              "<body>\n",
              "    <div>            <script src=\"https://cdnjs.cloudflare.com/ajax/libs/mathjax/2.7.5/MathJax.js?config=TeX-AMS-MML_SVG\"></script><script type=\"text/javascript\">if (window.MathJax) {MathJax.Hub.Config({SVG: {font: \"STIX-Web\"}});}</script>                <script type=\"text/javascript\">window.PlotlyConfig = {MathJaxConfig: 'local'};</script>\n",
              "        <script src=\"https://cdn.plot.ly/plotly-latest.min.js\"></script>                <div id=\"42a56df1-3f09-41fd-8aca-618dd1e8a13f\" class=\"plotly-graph-div\" style=\"height:900px; width:1250px;\"></div>            <script type=\"text/javascript\">                                    window.PLOTLYENV=window.PLOTLYENV || {};                                    if (document.getElementById(\"42a56df1-3f09-41fd-8aca-618dd1e8a13f\")) {                    Plotly.newPlot(                        \"42a56df1-3f09-41fd-8aca-618dd1e8a13f\",                        [{\"hoverinfo\": \"text\", \"hovertext\": [\"<b>Topic 24</b><br>Words: germany, munich, 2749515, 2514158, hyerstay\", \"<b>Topic 24</b><br>Words: cruel, anthonylandreneauozoneholecom, lmher, margoliwatsonibmcom, unbelievably\", \"<b>Topic 24</b><br>Words: nanao, 13w3, c5uw1t3hieskimocom, v121, johnneskimocoms\", \"<b>Topic 24</b><br>Words: thermometer, 1b, yoyodyne, astroresearchers, skycleaning\", \"<b>Topic 24</b><br>Words: hotelco, hotel, psracsubuffaloedu, 4862, v127mhskubvmsbitnet\", \"<b>Topic 24</b><br>Words: cable, rogers, canadathe, larshenrik, manitoba\", \"<b>Topic 24</b><br>Words: 3035309000, 5052776563, numbers, game, hockey\", \"<b>Topic 24</b><br>Words: chevrolet, gm, ottawa, buick, canada\", \"<b>Topic 24</b><br>Words: crime, canada, minorities, canadian, canadas\", \"<b>Topic 24</b><br>Words: canada, gillian, bloody, red, racer\", \"<b>Topic 24</b><br>Words: mattingly, 3b, 10, toronto, hockey\", \"<b>Topic 24</b><br>Words: reponded, christie, sturm, essene, kille\", \"<b>Topic 24</b><br>Words: 5102262365, simular, mencsh, 743621, dewinterprlphilipsnl\", \"<b>Topic 24</b><br>Words: selfdefence, guns, canada, homicides, gun\", \"<b>Topic 24</b><br>Words: canada, marc, patents, rsacom, license\", \"<b>Topic 24</b><br>Words: hockey, 550, nhl, gm, players\", \"<b>Topic 24</b><br>Words: canada, holocaust, naziman, irving, iceland\", \"<b>Topic 24</b><br>Words: canada, canadian, palmer, chemistry, scientist\"], \"marker\": {\"color\": \"#E69F00\"}, \"name\": \"24_game_hockey_550_nhl\", \"orientation\": \"h\", \"type\": \"bar\", \"visible\": true, \"x\": [4, 2, 4, 5, 6, 7, 1, 9, 7, 10, 49, 2, 5, 8, 6, 736, 8, 4], \"y\": [\"comp.sys.mac.hardware\", \"talk.religion.misc\", \"comp.sys.ibm.pc.hardware\", \"sci.space\", \"misc.forsale\", \"sci.electronics\", \"comp.graphics\", \"rec.autos\", \"talk.politics.misc\", \"rec.motorcycles\", \"rec.sport.baseball\", \"soc.religion.christian\", \"comp.os.ms-windows.misc\", \"talk.politics.guns\", \"sci.crypt\", \"rec.sport.hockey\", \"talk.politics.mideast\", \"sci.med\"]}, {\"hoverinfo\": \"text\", \"hovertext\": [\"<b>Topic 31</b><br>Words: kassandrew, cmucompsysmac, compression, 5apr93, 144kbps\", \"<b>Topic 31</b><br>Words: tammy, healy, maddi, falafel, nyxcsduedu\", \"<b>Topic 31</b><br>Words: 171194, 841171194, holladay, 721051351compuservecom, watchman\", \"<b>Topic 31</b><br>Words: sampling, pcboard, beeps, generate, hanschcdc2ikphunihannoverdbpde\", \"<b>Topic 31</b><br>Words: ireland, astronomy, daylight, patrick, telescope\", \"<b>Topic 31</b><br>Words: blinker, brightness, pcboard, 120v, transparent\", \"<b>Topic 31</b><br>Words: xyzzygnuaimitedu, giftiffpcxbmpjpegetc, seenheard, sophiticated, dogfight\", \"<b>Topic 31</b><br>Words: canada, sprayedon, xthanks, sjwyricklblgov, xdennis\", \"<b>Topic 31</b><br>Words: 725173356compuservecom, terminalssheeyaahhh, fxsts, 687955hog, productsofchoice\", \"<b>Topic 31</b><br>Words: uuencoded, logos, copied, ken, permission\", \"<b>Topic 31</b><br>Words: license, jenkmicrosoftcom, jen, quotation, distorted\", \"<b>Topic 31</b><br>Words: window, server, widget, openwindows, display\", \"<b>Topic 31</b><br>Words: cliparts, 350kb, bmpfiles, 7kb, systemparametersinfofunction\", \"<b>Topic 31</b><br>Words: thomasrcpqhousehoucompaqcom, c601edcd6cpqhousehoucompaqcom, lostsa, misnomer, misclegal\", \"<b>Topic 31</b><br>Words: machines, anonymous, lisp, pcdos, macsyma\", \"<b>Topic 31</b><br>Words: stitches, painted, gerry, mask, window\", \"<b>Topic 31</b><br>Words: a11214111280, window, server, widget, openwindows\", \"<b>Topic 31</b><br>Words: resinfo, 6177323000, smileyface, danafarber, 02115\"], \"marker\": {\"color\": \"#56B4E9\"}, \"name\": \"31_window_server_widget_openwindows\", \"orientation\": \"h\", \"type\": \"bar\", \"visible\": \"legendonly\", \"x\": [1, 2, 3, 4, 10, 9, 5, 4, 2, 2, 1, 737, 2, 4, 12, 1, 1, 4], \"y\": [\"comp.sys.mac.hardware\", \"alt.atheism\", \"talk.religion.misc\", \"comp.sys.ibm.pc.hardware\", \"sci.space\", \"sci.electronics\", \"comp.graphics\", \"rec.autos\", \"rec.motorcycles\", \"rec.sport.baseball\", \"soc.religion.christian\", \"comp.windows.x\", \"comp.os.ms-windows.misc\", \"talk.politics.guns\", \"sci.crypt\", \"rec.sport.hockey\", \"talk.politics.mideast\", \"sci.med\"]}, {\"hoverinfo\": \"text\", \"hovertext\": [\"<b>Topic 9</b><br>Words: khz, ldsanderslarcnasagov, 128155444, 8647470, 236810001\", \"<b>Topic 9</b><br>Words: aliens, infinite, abducted, observer, gravity\", \"<b>Topic 9</b><br>Words: arjuna, probe, finite, space, zenos\", \"<b>Topic 9</b><br>Words: emissions, nec, vents, removed, mags\", \"<b>Topic 9</b><br>Words: space, nasa, orbit, spacecraft, moon\", \"<b>Topic 9</b><br>Words: star, odyssey, norman, aircraft, airlines\", \"<b>Topic 9</b><br>Words: precision, gps, molecules, 19, space\", \"<b>Topic 9</b><br>Words: 42, space, geosphere, alice, earth\", \"<b>Topic 9</b><br>Words: moonroof, radiation, cylinders, detector, radar\", \"<b>Topic 9</b><br>Words: billion, c5s, landlord, tenants, owners\", \"<b>Topic 9</b><br>Words: pants, suits, jacket, fit, aerostitch\", \"<b>Topic 9</b><br>Words: ackpeople, radiowhat, falconcsmcgillca, merril, witty\", \"<b>Topic 9</b><br>Words: soul, trance, space, medium, bloodyhellno\", \"<b>Topic 9</b><br>Words: davidjpldevvaxjplnasagov, 5253660, grove, pasadena, maheroutlandgsfcnasagov\", \"<b>Topic 9</b><br>Words: timcpsgcomau, deaf, dryden, ames, 6138220089\", \"<b>Topic 9</b><br>Words: fissionable, rocket, blow, nuclear, plutonium\", \"<b>Topic 9</b><br>Words: tempest, electromagnetic, directional, pmetzgershearsoncom, metzger\", \"<b>Topic 9</b><br>Words: ignore, ohandleybetsygsfcnasagov, testplease, 131202310, rocketcalvincsunbca\", \"<b>Topic 9</b><br>Words: orbeli, space, armenian, book, armenia\", \"<b>Topic 9</b><br>Words: vida, flying, kirilian, columbus, aura\"], \"marker\": {\"color\": \"#009E73\"}, \"name\": \"9_space_nasa_orbit_spacecraft\", \"orientation\": \"h\", \"type\": \"bar\", \"visible\": \"legendonly\", \"x\": [5, 9, 9, 7, 616, 5, 9, 17, 13, 4, 8, 3, 4, 7, 5, 10, 8, 3, 5, 12], \"y\": [\"comp.sys.mac.hardware\", \"alt.atheism\", \"talk.religion.misc\", \"comp.sys.ibm.pc.hardware\", \"sci.space\", \"misc.forsale\", \"sci.electronics\", \"comp.graphics\", \"rec.autos\", \"talk.politics.misc\", \"rec.motorcycles\", \"rec.sport.baseball\", \"soc.religion.christian\", \"comp.windows.x\", \"comp.os.ms-windows.misc\", \"talk.politics.guns\", \"sci.crypt\", \"rec.sport.hockey\", \"talk.politics.mideast\", \"sci.med\"]}, {\"hoverinfo\": \"text\", \"hovertext\": [\"<b>Topic 52</b><br>Words: jpeg, 21, mathematica, math, machines\", \"<b>Topic 52</b><br>Words: gipu, nanci, tailrecursive, nicknames, cycnicism\", \"<b>Topic 52</b><br>Words: torch, runs, chinmoy, join, relay\", \"<b>Topic 52</b><br>Words: photostyler, images, 3dbench, et4000w32, jpeg\", \"<b>Topic 52</b><br>Words: perth, jpeg, typo, plot, jeff\", \"<b>Topic 52</b><br>Words: thanks, 48s, viktorolesovaivalt, liquit, shanghai\", \"<b>Topic 52</b><br>Words: jpeg, anyone, schematic, appreciated, yxy4145usledu\", \"<b>Topic 52</b><br>Words: jpeg, image, images, graphics, color\", \"<b>Topic 52</b><br>Words: 24v, advicerecommendationswarningsetc, v16t, typhoon, v16\", \"<b>Topic 52</b><br>Words: cement, boomer, property, boomers, jpeg\", \"<b>Topic 52</b><br>Words: lautrec, donating, aerostitch, scarf, grin\", \"<b>Topic 52</b><br>Words: thanks, cubs, join, smithers, chuckcygnuseidanlgov\", \"<b>Topic 52</b><br>Words: abstinence, abstinencerelated, counseling, jpeg, missionary\", \"<b>Topic 52</b><br>Words: newsgroups, jpeg, devguide, opendesktop, bizscosources\", \"<b>Topic 52</b><br>Words: wordbasic, winword, rgb, email, 1bios\", \"<b>Topic 52</b><br>Words: read, netfolks, hollowpoints, lokiaccanmsuedu, taylordfucsucoloradoedu\", \"<b>Topic 52</b><br>Words: recipes, code, jpeg, coppy, email\", \"<b>Topic 52</b><br>Words: origonal, turgeon, coffey, sells, 77\", \"<b>Topic 52</b><br>Words: palestinian, educational, teachers, school, education\", \"<b>Topic 52</b><br>Words: alzheimers, jpeg, thanks, dementia, mri\"], \"marker\": {\"color\": \"#F0E442\"}, \"name\": \"52_jpeg_image_images_file\", \"orientation\": \"h\", \"type\": \"bar\", \"visible\": \"legendonly\", \"x\": [13, 7, 4, 12, 11, 8, 37, 521, 8, 7, 2, 11, 10, 19, 11, 4, 14, 5, 6, 29], \"y\": [\"comp.sys.mac.hardware\", \"alt.atheism\", \"talk.religion.misc\", \"comp.sys.ibm.pc.hardware\", \"sci.space\", \"misc.forsale\", \"sci.electronics\", \"comp.graphics\", \"rec.autos\", \"talk.politics.misc\", \"rec.motorcycles\", \"rec.sport.baseball\", \"soc.religion.christian\", \"comp.windows.x\", \"comp.os.ms-windows.misc\", \"talk.politics.guns\", \"sci.crypt\", \"rec.sport.hockey\", \"talk.politics.mideast\", \"sci.med\"]}, {\"hoverinfo\": \"text\", \"hovertext\": [\"<b>Topic 26</b><br>Words: japanese, seth, kristen, drgbiomathmdauthtmcedu, freddie\", \"<b>Topic 26</b><br>Words: fifty, theory, recipe, cookies, answers\", \"<b>Topic 26</b><br>Words: ciansc, discordant, 667, 666, precious\", \"<b>Topic 26</b><br>Words: 486dx, 50mhz, arnolm2aixrpiedu, 66mhz, dx266\", \"<b>Topic 26</b><br>Words: batse, italian, pounds, burst, detector\", \"<b>Topic 26</b><br>Words: nitendo, nephews, walterpsgcom, sanfordtownsend, loggins\", \"<b>Topic 26</b><br>Words: balls, electric, lab, illuidin, suuport\", \"<b>Topic 26</b><br>Words: quicktime, horsepower, restart, deb47099uxacsouiucedu, autotracing\", \"<b>Topic 26</b><br>Words: colt, 1992, junkyard, sunroofs, sand\", \"<b>Topic 26</b><br>Words: chrysler, corps, demographics, chorus, tom\", \"<b>Topic 26</b><br>Words: chaparral, pipe, maw, mike, countersteering\", \"<b>Topic 26</b><br>Words: baseball, hit, games, pitching, braves\", \"<b>Topic 26</b><br>Words: sophomore, caesar, herod, mexican, madman\", \"<b>Topic 26</b><br>Words: copyrights, wrt, bradley, vacation, fees\", \"<b>Topic 26</b><br>Words: profit, motivated, foxholes, 1993apr141844482331gnvifasufledu, fullautos\", \"<b>Topic 26</b><br>Words: installation, attorney, register, usc, 1801\", \"<b>Topic 26</b><br>Words: game, baseball, games, espn, tor\", \"<b>Topic 26</b><br>Words: prisoners, 45th, birthday, pitchers, bullock\", \"<b>Topic 26</b><br>Words: workers, employees, chiggers, inmates, sector\"], \"marker\": {\"color\": \"#D55E00\"}, \"name\": \"26_baseball_games_hit_pitching\", \"orientation\": \"h\", \"type\": \"bar\", \"visible\": \"legendonly\", \"x\": [3, 1, 3, 1, 6, 2, 3, 4, 8, 10, 10, 632, 2, 1, 2, 4, 34, 7, 5], \"y\": [\"comp.sys.mac.hardware\", \"alt.atheism\", \"talk.religion.misc\", \"comp.sys.ibm.pc.hardware\", \"sci.space\", \"misc.forsale\", \"sci.electronics\", \"comp.graphics\", \"rec.autos\", \"talk.politics.misc\", \"rec.motorcycles\", \"rec.sport.baseball\", \"soc.religion.christian\", \"comp.windows.x\", \"talk.politics.guns\", \"sci.crypt\", \"rec.sport.hockey\", \"talk.politics.mideast\", \"sci.med\"]}, {\"hoverinfo\": \"text\", \"hovertext\": [\"<b>Topic 20</b><br>Words: b12, genetic, diseases, cooking, immune\", \"<b>Topic 20</b><br>Words: abortion, mother, pregnancy, premiums, premium\", \"<b>Topic 20</b><br>Words: breathing, lungs, taste, oxygen, gas\", \"<b>Topic 20</b><br>Words: hawaii, cheap, edbeta, honoluluyoull, minneapolisst\", \"<b>Topic 20</b><br>Words: benzene, 805, toxic, aftershave, citrasolve\", \"<b>Topic 20</b><br>Words: managedo, pushy, pov, summer, mailing\", \"<b>Topic 20</b><br>Words: crome, extension, thewholeinternetusersguideandcatalog, xxxxeduau, dod0710\", \"<b>Topic 20</b><br>Words: panicking, garrettingrescom, garrett, bean, eater\", \"<b>Topic 20</b><br>Words: gloves, happily, cage, eating, bike\", \"<b>Topic 20</b><br>Words: onions, strained, fernandez, abdominal, joints\", \"<b>Topic 20</b><br>Words: dream, dreams, fuller, texas, fantasies\", \"<b>Topic 20</b><br>Words: pro59zip, fiskmayoedu, 2555484, 2554341, mayo\", \"<b>Topic 20</b><br>Words: medical, hospital, breathing, fire, gasalbeit\", \"<b>Topic 20</b><br>Words: cola, luminol, cyano, cyanamid, drinkers\", \"<b>Topic 20</b><br>Words: iran, dr, havai, vaccinations, 93at\", \"<b>Topic 20</b><br>Words: food, medical, hiv, vitamin, diet\"], \"marker\": {\"color\": \"#0072B2\"}, \"name\": \"20_food_medical_vitamin_diet\", \"orientation\": \"h\", \"type\": \"bar\", \"visible\": \"legendonly\", \"x\": [7, 10, 13, 2, 6, 1, 5, 17, 10, 5, 6, 2, 7, 5, 4, 513], \"y\": [\"alt.atheism\", \"talk.religion.misc\", \"sci.space\", \"misc.forsale\", \"sci.electronics\", \"comp.graphics\", \"rec.autos\", \"talk.politics.misc\", \"rec.motorcycles\", \"rec.sport.baseball\", \"soc.religion.christian\", \"comp.os.ms-windows.misc\", \"talk.politics.guns\", \"sci.crypt\", \"talk.politics.mideast\", \"sci.med\"]}, {\"hoverinfo\": \"text\", \"hovertext\": [\"<b>Topic 115</b><br>Words: god, jesus, christ, church, lord\", \"<b>Topic 115</b><br>Words: jesus, god, religion, matthew, christian\", \"<b>Topic 115</b><br>Words: god, jesus, jehovah, christ, bible\", \"<b>Topic 115</b><br>Words: god, jesus, christ, church, lord\", \"<b>Topic 115</b><br>Words: slater, cameo, colonies, besides, christian\", \"<b>Topic 115</b><br>Words: believers, religious, god, jesus, christ\", \"<b>Topic 115</b><br>Words: religious, religion, disaster, disasters, religions\", \"<b>Topic 115</b><br>Words: rusty, carpool, sunday, god, jesus\", \"<b>Topic 115</b><br>Words: god, jesus, church, christ, faith\", \"<b>Topic 115</b><br>Words: paintshop, paint, god, jesus, christ\", \"<b>Topic 115</b><br>Words: baptists, religion, cult, jesus, church\", \"<b>Topic 115</b><br>Words: john, god, jesus, christ, church\", \"<b>Topic 115</b><br>Words: antisemitic, religion, priest, bradalis, ayatollahstyle\", \"<b>Topic 115</b><br>Words: steere, ulterior, narrowmindedly, disbeliever, skeptics\"], \"marker\": {\"color\": \"#CC79A7\"}, \"name\": \"115_god_jesus_christ_church\", \"orientation\": \"h\", \"type\": \"bar\", \"visible\": \"legendonly\", \"x\": [2, 58, 135, 1, 2, 1, 4, 1, 349, 1, 10, 1, 5, 2], \"y\": [\"comp.sys.mac.hardware\", \"alt.atheism\", \"talk.religion.misc\", \"comp.sys.ibm.pc.hardware\", \"sci.space\", \"rec.autos\", \"talk.politics.misc\", \"rec.sport.baseball\", \"soc.religion.christian\", \"comp.os.ms-windows.misc\", \"talk.politics.guns\", \"sci.crypt\", \"talk.politics.mideast\", \"sci.med\"]}, {\"hoverinfo\": \"text\", \"hovertext\": [\"<b>Topic 0</b><br>Words: zzzzzzt, ergo, ergonomicallyhellish, ergonomicallycorrect, ergoplic\", \"<b>Topic 0</b><br>Words: zzzzzzt, ergo, ergonomicallyhellish, ergonomicallycorrect, ergoplic\", \"<b>Topic 0</b><br>Words: zzzzzzt, ergo, ergonomicallyhellish, ergonomicallycorrect, ergoplic\", \"<b>Topic 0</b><br>Words: zzzzzzt, ergo, ergonomicallyhellish, ergonomicallycorrect, ergoplic\", \"<b>Topic 0</b><br>Words: zzzzzzt, ergo, ergonomicallyhellish, ergonomicallycorrect, ergoplic\", \"<b>Topic 0</b><br>Words: zzzzzzt, ergo, ergonomicallyhellish, ergonomicallycorrect, ergoplic\", \"<b>Topic 0</b><br>Words: zzzzzzt, ergo, ergonomicallyhellish, ergonomicallycorrect, ergoplic\", \"<b>Topic 0</b><br>Words: zzzzzzt, ergo, ergonomicallyhellish, ergonomicallycorrect, ergoplic\", \"<b>Topic 0</b><br>Words: zzzzzzt, ergo, ergonomicallyhellish, ergonomicallycorrect, ergoplic\", \"<b>Topic 0</b><br>Words: zzzzzzt, ergo, ergonomicallyhellish, ergonomicallycorrect, ergoplic\", \"<b>Topic 0</b><br>Words: zzzzzzt, ergo, ergonomicallyhellish, ergonomicallycorrect, ergoplic\", \"<b>Topic 0</b><br>Words: zzzzzzt, ergo, ergonomicallyhellish, ergonomicallycorrect, ergoplic\", \"<b>Topic 0</b><br>Words: zzzzzzt, ergo, ergonomicallyhellish, ergonomicallycorrect, ergoplic\", \"<b>Topic 0</b><br>Words: zzzzzzt, ergo, ergonomicallyhellish, ergonomicallycorrect, ergoplic\", \"<b>Topic 0</b><br>Words: zzzzzzt, ergo, ergonomicallyhellish, ergonomicallycorrect, ergoplic\", \"<b>Topic 0</b><br>Words: zzzzzzt, ergo, ergonomicallyhellish, ergonomicallycorrect, ergoplic\", \"<b>Topic 0</b><br>Words: zzzzzzt, ergo, ergonomicallyhellish, ergonomicallycorrect, ergoplic\", \"<b>Topic 0</b><br>Words: zzzzzzt, ergo, ergonomicallyhellish, ergonomicallycorrect, ergoplic\", \"<b>Topic 0</b><br>Words: zzzzzzt, ergo, ergonomicallyhellish, ergonomicallycorrect, ergoplic\", \"<b>Topic 0</b><br>Words: zzzzzzt, ergo, ergonomicallyhellish, ergonomicallycorrect, ergoplic\"], \"marker\": {\"color\": \"#E69F00\"}, \"name\": \"0_zzzzzzt_ergo_ergonomicallyhellish_ergo...\", \"orientation\": \"h\", \"type\": \"bar\", \"visible\": \"legendonly\", \"x\": [35, 20, 22, 18, 32, 16, 26, 19, 53, 19, 27, 36, 22, 6, 38, 24, 29, 24, 21, 30], \"y\": [\"comp.sys.mac.hardware\", \"alt.atheism\", \"talk.religion.misc\", \"comp.sys.ibm.pc.hardware\", \"sci.space\", \"misc.forsale\", \"sci.electronics\", \"comp.graphics\", \"rec.autos\", \"talk.politics.misc\", \"rec.motorcycles\", \"rec.sport.baseball\", \"soc.religion.christian\", \"comp.windows.x\", \"comp.os.ms-windows.misc\", \"talk.politics.guns\", \"sci.crypt\", \"rec.sport.hockey\", \"talk.politics.mideast\", \"sci.med\"]}, {\"hoverinfo\": \"text\", \"hovertext\": [\"<b>Topic 48</b><br>Words: rom, byte, error, 16sec, romswapping\", \"<b>Topic 48</b><br>Words: keys, holland, scared, crime, wiretap\", \"<b>Topic 48</b><br>Words: virus, intentionality, damages, aeroplane, flibozity\", \"<b>Topic 48</b><br>Words: gateway, cache, hash, ns16550af, dx250\", \"<b>Topic 48</b><br>Words: macelwaines, macelwaine, intelliegence, moeny, costigan\", \"<b>Topic 48</b><br>Words: cellular, phone, carrier, hope, only\", \"<b>Topic 48</b><br>Words: key, cable, encryption, leakage, chip\", \"<b>Topic 48</b><br>Words: pennebaker, monodriver, 0442012721, 42, mpegplay\", \"<b>Topic 48</b><br>Words: 716adl, wondolowski, lynn, massachusetts, antenna\", \"<b>Topic 48</b><br>Words: appellate, embassies, wallet, plates, parking\", \"<b>Topic 48</b><br>Words: ulocks, larger, mikehux1csouiucedu, hollyman, c5quw0btqux1csouiucedu\", \"<b>Topic 48</b><br>Words: initation, secretiveness, unintentionally, demonic, secretive\", \"<b>Topic 48</b><br>Words: parser, esc, compliant, terminals, fancy\", \"<b>Topic 48</b><br>Words: bitmap, keys, ctrltest, hardcoded, chip\", \"<b>Topic 48</b><br>Words: fbi, irs, patent, nerve, patents\", \"<b>Topic 48</b><br>Words: key, encryption, keys, nsa, algorithm\", \"<b>Topic 48</b><br>Words: stupidthe, druginduced, rumori, sniders, philli\", \"<b>Topic 48</b><br>Words: jews, palastenians, palestine, palestinians, encryption\", \"<b>Topic 48</b><br>Words: cancer, moss, syringe, retracted, treatments\"], \"marker\": {\"color\": \"#56B4E9\"}, \"name\": \"48_key_encryption_keys_nsa\", \"orientation\": \"h\", \"type\": \"bar\", \"visible\": \"legendonly\", \"x\": [4, 2, 4, 7, 5, 1, 29, 7, 1, 6, 3, 2, 2, 11, 8, 407, 1, 4, 2], \"y\": [\"comp.sys.mac.hardware\", \"alt.atheism\", \"talk.religion.misc\", \"comp.sys.ibm.pc.hardware\", \"sci.space\", \"misc.forsale\", \"sci.electronics\", \"comp.graphics\", \"rec.autos\", \"talk.politics.misc\", \"rec.motorcycles\", \"soc.religion.christian\", \"comp.windows.x\", \"comp.os.ms-windows.misc\", \"talk.politics.guns\", \"sci.crypt\", \"rec.sport.hockey\", \"talk.politics.mideast\", \"sci.med\"]}, {\"hoverinfo\": \"text\", \"hovertext\": [\"<b>Topic 17</b><br>Words: roms, patch, problem, windows, microsoft\", \"<b>Topic 17</b><br>Words: cohesive, recognizes, winmarks, benchmark, 99\", \"<b>Topic 17</b><br>Words: 2190, apps, pcplusdpcplus, vs2000, windows\", \"<b>Topic 17</b><br>Words: dos5, diamond, latest, reboots, 4meg\", \"<b>Topic 17</b><br>Words: ramps, lane, dingbats, merryland, yahoos\", \"<b>Topic 17</b><br>Words: fsqueezeleft, fsqueezecenter, vtwm, add, jleft\", \"<b>Topic 17</b><br>Words: windows, 31, os2, microsoft, files\", \"<b>Topic 17</b><br>Words: k1, k2, s1, s2, fbi\", \"<b>Topic 17</b><br>Words: sciimageprocessing, thread, 31, os2, allocation\"], \"marker\": {\"color\": \"#009E73\"}, \"name\": \"17_windows_31_microsoft_apps\", \"orientation\": \"h\", \"type\": \"bar\", \"visible\": \"legendonly\", \"x\": [1, 3, 3, 2, 1, 1, 328, 2, 1], \"y\": [\"comp.sys.mac.hardware\", \"comp.sys.ibm.pc.hardware\", \"misc.forsale\", \"comp.graphics\", \"rec.autos\", \"comp.windows.x\", \"comp.os.ms-windows.misc\", \"sci.crypt\", \"sci.med\"]}],                        {\"height\": 900, \"hoverlabel\": {\"bgcolor\": \"white\", \"font\": {\"family\": \"Rockwell\", \"size\": 16}}, \"legend\": {\"title\": {\"text\": \"<b>Global Topic Representation\"}}, \"template\": {\"data\": {\"bar\": [{\"error_x\": {\"color\": \"rgb(36,36,36)\"}, \"error_y\": {\"color\": \"rgb(36,36,36)\"}, \"marker\": {\"line\": {\"color\": \"white\", \"width\": 0.5}}, \"type\": \"bar\"}], \"barpolar\": [{\"marker\": {\"line\": {\"color\": \"white\", \"width\": 0.5}}, \"type\": \"barpolar\"}], \"carpet\": [{\"aaxis\": {\"endlinecolor\": \"rgb(36,36,36)\", \"gridcolor\": \"white\", \"linecolor\": \"white\", \"minorgridcolor\": \"white\", \"startlinecolor\": \"rgb(36,36,36)\"}, \"baxis\": {\"endlinecolor\": \"rgb(36,36,36)\", \"gridcolor\": \"white\", \"linecolor\": \"white\", \"minorgridcolor\": \"white\", \"startlinecolor\": \"rgb(36,36,36)\"}, \"type\": \"carpet\"}], \"choropleth\": [{\"colorbar\": {\"outlinewidth\": 1, \"tickcolor\": \"rgb(36,36,36)\", \"ticks\": \"outside\"}, \"type\": \"choropleth\"}], \"contour\": [{\"colorbar\": {\"outlinewidth\": 1, \"tickcolor\": \"rgb(36,36,36)\", \"ticks\": \"outside\"}, \"colorscale\": [[0.0, \"#440154\"], [0.1111111111111111, \"#482878\"], [0.2222222222222222, \"#3e4989\"], [0.3333333333333333, \"#31688e\"], [0.4444444444444444, \"#26828e\"], [0.5555555555555556, \"#1f9e89\"], [0.6666666666666666, \"#35b779\"], [0.7777777777777778, \"#6ece58\"], [0.8888888888888888, \"#b5de2b\"], [1.0, \"#fde725\"]], \"type\": \"contour\"}], \"contourcarpet\": [{\"colorbar\": {\"outlinewidth\": 1, \"tickcolor\": \"rgb(36,36,36)\", \"ticks\": \"outside\"}, \"type\": \"contourcarpet\"}], \"heatmap\": [{\"colorbar\": {\"outlinewidth\": 1, \"tickcolor\": \"rgb(36,36,36)\", \"ticks\": \"outside\"}, \"colorscale\": [[0.0, \"#440154\"], [0.1111111111111111, \"#482878\"], [0.2222222222222222, \"#3e4989\"], [0.3333333333333333, \"#31688e\"], [0.4444444444444444, \"#26828e\"], [0.5555555555555556, \"#1f9e89\"], [0.6666666666666666, \"#35b779\"], [0.7777777777777778, \"#6ece58\"], [0.8888888888888888, \"#b5de2b\"], [1.0, \"#fde725\"]], \"type\": \"heatmap\"}], \"heatmapgl\": [{\"colorbar\": {\"outlinewidth\": 1, \"tickcolor\": \"rgb(36,36,36)\", \"ticks\": \"outside\"}, \"colorscale\": [[0.0, \"#440154\"], [0.1111111111111111, \"#482878\"], [0.2222222222222222, \"#3e4989\"], [0.3333333333333333, \"#31688e\"], [0.4444444444444444, \"#26828e\"], [0.5555555555555556, \"#1f9e89\"], [0.6666666666666666, \"#35b779\"], [0.7777777777777778, \"#6ece58\"], [0.8888888888888888, \"#b5de2b\"], [1.0, \"#fde725\"]], \"type\": \"heatmapgl\"}], \"histogram\": [{\"marker\": {\"line\": {\"color\": \"white\", \"width\": 0.6}}, \"type\": \"histogram\"}], \"histogram2d\": [{\"colorbar\": {\"outlinewidth\": 1, \"tickcolor\": \"rgb(36,36,36)\", \"ticks\": \"outside\"}, \"colorscale\": [[0.0, \"#440154\"], [0.1111111111111111, \"#482878\"], [0.2222222222222222, \"#3e4989\"], [0.3333333333333333, \"#31688e\"], [0.4444444444444444, \"#26828e\"], [0.5555555555555556, \"#1f9e89\"], [0.6666666666666666, \"#35b779\"], [0.7777777777777778, \"#6ece58\"], [0.8888888888888888, \"#b5de2b\"], [1.0, \"#fde725\"]], \"type\": \"histogram2d\"}], \"histogram2dcontour\": [{\"colorbar\": {\"outlinewidth\": 1, \"tickcolor\": \"rgb(36,36,36)\", \"ticks\": \"outside\"}, \"colorscale\": [[0.0, \"#440154\"], [0.1111111111111111, \"#482878\"], [0.2222222222222222, \"#3e4989\"], [0.3333333333333333, \"#31688e\"], [0.4444444444444444, \"#26828e\"], [0.5555555555555556, \"#1f9e89\"], [0.6666666666666666, \"#35b779\"], [0.7777777777777778, \"#6ece58\"], [0.8888888888888888, \"#b5de2b\"], [1.0, \"#fde725\"]], \"type\": \"histogram2dcontour\"}], \"mesh3d\": [{\"colorbar\": {\"outlinewidth\": 1, \"tickcolor\": \"rgb(36,36,36)\", \"ticks\": \"outside\"}, \"type\": \"mesh3d\"}], \"parcoords\": [{\"line\": {\"colorbar\": {\"outlinewidth\": 1, \"tickcolor\": \"rgb(36,36,36)\", \"ticks\": \"outside\"}}, \"type\": \"parcoords\"}], \"pie\": [{\"automargin\": true, \"type\": \"pie\"}], \"scatter\": [{\"marker\": {\"colorbar\": {\"outlinewidth\": 1, \"tickcolor\": \"rgb(36,36,36)\", \"ticks\": \"outside\"}}, \"type\": \"scatter\"}], \"scatter3d\": [{\"line\": {\"colorbar\": {\"outlinewidth\": 1, \"tickcolor\": \"rgb(36,36,36)\", \"ticks\": \"outside\"}}, \"marker\": {\"colorbar\": {\"outlinewidth\": 1, \"tickcolor\": \"rgb(36,36,36)\", \"ticks\": \"outside\"}}, \"type\": \"scatter3d\"}], \"scattercarpet\": [{\"marker\": {\"colorbar\": {\"outlinewidth\": 1, \"tickcolor\": \"rgb(36,36,36)\", \"ticks\": \"outside\"}}, \"type\": \"scattercarpet\"}], \"scattergeo\": [{\"marker\": {\"colorbar\": {\"outlinewidth\": 1, \"tickcolor\": \"rgb(36,36,36)\", \"ticks\": \"outside\"}}, \"type\": \"scattergeo\"}], \"scattergl\": [{\"marker\": {\"colorbar\": {\"outlinewidth\": 1, \"tickcolor\": \"rgb(36,36,36)\", \"ticks\": \"outside\"}}, \"type\": \"scattergl\"}], \"scattermapbox\": [{\"marker\": {\"colorbar\": {\"outlinewidth\": 1, \"tickcolor\": \"rgb(36,36,36)\", \"ticks\": \"outside\"}}, \"type\": \"scattermapbox\"}], \"scatterpolar\": [{\"marker\": {\"colorbar\": {\"outlinewidth\": 1, \"tickcolor\": \"rgb(36,36,36)\", \"ticks\": \"outside\"}}, \"type\": \"scatterpolar\"}], \"scatterpolargl\": [{\"marker\": {\"colorbar\": {\"outlinewidth\": 1, \"tickcolor\": \"rgb(36,36,36)\", \"ticks\": \"outside\"}}, \"type\": \"scatterpolargl\"}], \"scatterternary\": [{\"marker\": {\"colorbar\": {\"outlinewidth\": 1, \"tickcolor\": \"rgb(36,36,36)\", \"ticks\": \"outside\"}}, \"type\": \"scatterternary\"}], \"surface\": [{\"colorbar\": {\"outlinewidth\": 1, \"tickcolor\": \"rgb(36,36,36)\", \"ticks\": \"outside\"}, \"colorscale\": [[0.0, \"#440154\"], [0.1111111111111111, \"#482878\"], [0.2222222222222222, \"#3e4989\"], [0.3333333333333333, \"#31688e\"], [0.4444444444444444, \"#26828e\"], [0.5555555555555556, \"#1f9e89\"], [0.6666666666666666, \"#35b779\"], [0.7777777777777778, \"#6ece58\"], [0.8888888888888888, \"#b5de2b\"], [1.0, \"#fde725\"]], \"type\": \"surface\"}], \"table\": [{\"cells\": {\"fill\": {\"color\": \"rgb(237,237,237)\"}, \"line\": {\"color\": \"white\"}}, \"header\": {\"fill\": {\"color\": \"rgb(217,217,217)\"}, \"line\": {\"color\": \"white\"}}, \"type\": \"table\"}]}, \"layout\": {\"annotationdefaults\": {\"arrowhead\": 0, \"arrowwidth\": 1}, \"autotypenumbers\": \"strict\", \"coloraxis\": {\"colorbar\": {\"outlinewidth\": 1, \"tickcolor\": \"rgb(36,36,36)\", \"ticks\": \"outside\"}}, \"colorscale\": {\"diverging\": [[0.0, \"rgb(103,0,31)\"], [0.1, \"rgb(178,24,43)\"], [0.2, \"rgb(214,96,77)\"], [0.3, \"rgb(244,165,130)\"], [0.4, \"rgb(253,219,199)\"], [0.5, \"rgb(247,247,247)\"], [0.6, \"rgb(209,229,240)\"], [0.7, \"rgb(146,197,222)\"], [0.8, \"rgb(67,147,195)\"], [0.9, \"rgb(33,102,172)\"], [1.0, \"rgb(5,48,97)\"]], \"sequential\": [[0.0, \"#440154\"], [0.1111111111111111, \"#482878\"], [0.2222222222222222, \"#3e4989\"], [0.3333333333333333, \"#31688e\"], [0.4444444444444444, \"#26828e\"], [0.5555555555555556, \"#1f9e89\"], [0.6666666666666666, \"#35b779\"], [0.7777777777777778, \"#6ece58\"], [0.8888888888888888, \"#b5de2b\"], [1.0, \"#fde725\"]], \"sequentialminus\": [[0.0, \"#440154\"], [0.1111111111111111, \"#482878\"], [0.2222222222222222, \"#3e4989\"], [0.3333333333333333, \"#31688e\"], [0.4444444444444444, \"#26828e\"], [0.5555555555555556, \"#1f9e89\"], [0.6666666666666666, \"#35b779\"], [0.7777777777777778, \"#6ece58\"], [0.8888888888888888, \"#b5de2b\"], [1.0, \"#fde725\"]]}, \"colorway\": [\"#1F77B4\", \"#FF7F0E\", \"#2CA02C\", \"#D62728\", \"#9467BD\", \"#8C564B\", \"#E377C2\", \"#7F7F7F\", \"#BCBD22\", \"#17BECF\"], \"font\": {\"color\": \"rgb(36,36,36)\"}, \"geo\": {\"bgcolor\": \"white\", \"lakecolor\": \"white\", \"landcolor\": \"white\", \"showlakes\": true, \"showland\": true, \"subunitcolor\": \"white\"}, \"hoverlabel\": {\"align\": \"left\"}, \"hovermode\": \"closest\", \"mapbox\": {\"style\": \"light\"}, \"paper_bgcolor\": \"white\", \"plot_bgcolor\": \"white\", \"polar\": {\"angularaxis\": {\"gridcolor\": \"rgb(232,232,232)\", \"linecolor\": \"rgb(36,36,36)\", \"showgrid\": false, \"showline\": true, \"ticks\": \"outside\"}, \"bgcolor\": \"white\", \"radialaxis\": {\"gridcolor\": \"rgb(232,232,232)\", \"linecolor\": \"rgb(36,36,36)\", \"showgrid\": false, \"showline\": true, \"ticks\": \"outside\"}}, \"scene\": {\"xaxis\": {\"backgroundcolor\": \"white\", \"gridcolor\": \"rgb(232,232,232)\", \"gridwidth\": 2, \"linecolor\": \"rgb(36,36,36)\", \"showbackground\": true, \"showgrid\": false, \"showline\": true, \"ticks\": \"outside\", \"zeroline\": false, \"zerolinecolor\": \"rgb(36,36,36)\"}, \"yaxis\": {\"backgroundcolor\": \"white\", \"gridcolor\": \"rgb(232,232,232)\", \"gridwidth\": 2, \"linecolor\": \"rgb(36,36,36)\", \"showbackground\": true, \"showgrid\": false, \"showline\": true, \"ticks\": \"outside\", \"zeroline\": false, \"zerolinecolor\": \"rgb(36,36,36)\"}, \"zaxis\": {\"backgroundcolor\": \"white\", \"gridcolor\": \"rgb(232,232,232)\", \"gridwidth\": 2, \"linecolor\": \"rgb(36,36,36)\", \"showbackground\": true, \"showgrid\": false, \"showline\": true, \"ticks\": \"outside\", \"zeroline\": false, \"zerolinecolor\": \"rgb(36,36,36)\"}}, \"shapedefaults\": {\"fillcolor\": \"black\", \"line\": {\"width\": 0}, \"opacity\": 0.3}, \"ternary\": {\"aaxis\": {\"gridcolor\": \"rgb(232,232,232)\", \"linecolor\": \"rgb(36,36,36)\", \"showgrid\": false, \"showline\": true, \"ticks\": \"outside\"}, \"baxis\": {\"gridcolor\": \"rgb(232,232,232)\", \"linecolor\": \"rgb(36,36,36)\", \"showgrid\": false, \"showline\": true, \"ticks\": \"outside\"}, \"bgcolor\": \"white\", \"caxis\": {\"gridcolor\": \"rgb(232,232,232)\", \"linecolor\": \"rgb(36,36,36)\", \"showgrid\": false, \"showline\": true, \"ticks\": \"outside\"}}, \"title\": {\"x\": 0.05}, \"xaxis\": {\"automargin\": true, \"gridcolor\": \"rgb(232,232,232)\", \"linecolor\": \"rgb(36,36,36)\", \"showgrid\": false, \"showline\": true, \"ticks\": \"outside\", \"title\": {\"standoff\": 15}, \"zeroline\": false, \"zerolinecolor\": \"rgb(36,36,36)\"}, \"yaxis\": {\"automargin\": true, \"gridcolor\": \"rgb(232,232,232)\", \"linecolor\": \"rgb(36,36,36)\", \"showgrid\": false, \"showline\": true, \"ticks\": \"outside\", \"title\": {\"standoff\": 15}, \"zeroline\": false, \"zerolinecolor\": \"rgb(36,36,36)\"}}}, \"title\": {\"font\": {\"color\": \"Black\", \"size\": 22}, \"text\": \"<b>Topics per Class\", \"x\": 0.4, \"xanchor\": \"center\", \"y\": 0.95, \"yanchor\": \"top\"}, \"width\": 1250, \"xaxis\": {\"showgrid\": true, \"title\": {\"text\": \"Frequency\"}}, \"yaxis\": {\"showgrid\": true, \"title\": {\"text\": \"Class\"}}},                        {\"responsive\": true}                    ).then(function(){\n",
              "                            \n",
              "var gd = document.getElementById('42a56df1-3f09-41fd-8aca-618dd1e8a13f');\n",
              "var x = new MutationObserver(function (mutations, observer) {{\n",
              "        var display = window.getComputedStyle(gd).display;\n",
              "        if (!display || display === 'none') {{\n",
              "            console.log([gd, 'removed!']);\n",
              "            Plotly.purge(gd);\n",
              "            observer.disconnect();\n",
              "        }}\n",
              "}});\n",
              "\n",
              "// Listen for the removal of the full notebook cells\n",
              "var notebookContainer = gd.closest('#notebook-container');\n",
              "if (notebookContainer) {{\n",
              "    x.observe(notebookContainer, {childList: true});\n",
              "}}\n",
              "\n",
              "// Listen for the clearing of the current output cell\n",
              "var outputEl = gd.closest('.output');\n",
              "if (outputEl) {{\n",
              "    x.observe(outputEl, {childList: true});\n",
              "}}\n",
              "\n",
              "                        })                };                            </script>        </div>\n",
              "</body>\n",
              "</html>"
            ]
          },
          "metadata": {
            "tags": []
          }
        }
      ]
    },
    {
      "cell_type": "markdown",
      "metadata": {
        "id": "8Cyz71GmolRU"
      },
      "source": [
        "We can clearly see that many more topics about computers were created and that the seperation between those topics are solid. This indicates that even if you do not have all the labels, you can definitely improve the model!\n",
        "\n",
        "However, there are still some clusters that could be improved with the labels that we have. "
      ]
    },
    {
      "cell_type": "markdown",
      "metadata": {
        "id": "SIvqVHkgdCO3"
      },
      "source": [
        "## Supervised"
      ]
    },
    {
      "cell_type": "markdown",
      "metadata": {
        "id": "Ovx5U4IeqmRz"
      },
      "source": [
        "Finally, we are going to be using all labels. These labels help BERTopic understand where most clusters can be found. However, this does not mean that it will only find the 20 clusters that we have defined. If there are sub-clusters to be found, then there is a good chance BERTopic will find them! "
      ]
    },
    {
      "cell_type": "code",
      "metadata": {
        "colab": {
          "base_uri": "https://localhost:8080/",
          "height": 116,
          "referenced_widgets": [
            "97f268564bae40f09991161471a26bd6",
            "bf0d9134a01740469908a5b5ebcb6d82",
            "f0dd3bf68c82497187c5f2e8d28764a6",
            "ac105bd8219045a48ba4349c29d69077",
            "28719dbdb62b460c8e4d544a67f8a721",
            "a5645161e60f4241b617b6db795c3253",
            "04c60380409a4984888826c13a572df6",
            "25dc01b764134c3d8fcc473866656ba0"
          ]
        },
        "id": "s3_NfOtsc-mc",
        "outputId": "f4446e8d-6777-4e28-a478-b3ac549cbfa4"
      },
      "source": [
        "topic_model = BERTopic(verbose=True)\n",
        "topics, _ = topic_model.fit_transform(docs, y=targets)"
      ],
      "execution_count": null,
      "outputs": [
        {
          "output_type": "display_data",
          "data": {
            "application/vnd.jupyter.widget-view+json": {
              "model_id": "97f268564bae40f09991161471a26bd6",
              "version_minor": 0,
              "version_major": 2
            },
            "text/plain": [
              "HBox(children=(FloatProgress(value=0.0, description='Batches', max=589.0, style=ProgressStyle(description_widt…"
            ]
          },
          "metadata": {
            "tags": []
          }
        },
        {
          "output_type": "stream",
          "text": [
            "2021-04-19 14:08:06,932 - BERTopic - Transformed documents to Embeddings\n"
          ],
          "name": "stderr"
        },
        {
          "output_type": "stream",
          "text": [
            "\n"
          ],
          "name": "stdout"
        },
        {
          "output_type": "stream",
          "text": [
            "2021-04-19 14:08:24,945 - BERTopic - Reduced dimensionality with UMAP\n",
            "2021-04-19 14:08:25,735 - BERTopic - Clustered UMAP embeddings with HDBSCAN\n"
          ],
          "name": "stderr"
        }
      ]
    },
    {
      "cell_type": "code",
      "metadata": {
        "colab": {
          "base_uri": "https://localhost:8080/",
          "height": 355
        },
        "id": "J05ypKzhc-qG",
        "outputId": "69293507-7b44-4977-f78a-94aaa1a9da50"
      },
      "source": [
        "topic_model.get_topic_info().head(10)"
      ],
      "execution_count": null,
      "outputs": [
        {
          "output_type": "execute_result",
          "data": {
            "text/html": [
              "<div>\n",
              "<style scoped>\n",
              "    .dataframe tbody tr th:only-of-type {\n",
              "        vertical-align: middle;\n",
              "    }\n",
              "\n",
              "    .dataframe tbody tr th {\n",
              "        vertical-align: top;\n",
              "    }\n",
              "\n",
              "    .dataframe thead th {\n",
              "        text-align: right;\n",
              "    }\n",
              "</style>\n",
              "<table border=\"1\" class=\"dataframe\">\n",
              "  <thead>\n",
              "    <tr style=\"text-align: right;\">\n",
              "      <th></th>\n",
              "      <th>Topic</th>\n",
              "      <th>Count</th>\n",
              "      <th>Name</th>\n",
              "    </tr>\n",
              "  </thead>\n",
              "  <tbody>\n",
              "    <tr>\n",
              "      <th>0</th>\n",
              "      <td>-1</td>\n",
              "      <td>2917</td>\n",
              "      <td>-1_who_data_no_me</td>\n",
              "    </tr>\n",
              "    <tr>\n",
              "      <th>1</th>\n",
              "      <td>5</td>\n",
              "      <td>966</td>\n",
              "      <td>5_hockey_25_550_nhl</td>\n",
              "    </tr>\n",
              "    <tr>\n",
              "      <th>2</th>\n",
              "      <td>41</td>\n",
              "      <td>951</td>\n",
              "      <td>41_church_jesus_christ_christians</td>\n",
              "    </tr>\n",
              "    <tr>\n",
              "      <th>3</th>\n",
              "      <td>30</td>\n",
              "      <td>929</td>\n",
              "      <td>30_drive_controller_drives_bios</td>\n",
              "    </tr>\n",
              "    <tr>\n",
              "      <th>4</th>\n",
              "      <td>6</td>\n",
              "      <td>926</td>\n",
              "      <td>6_sale_price_100_sell</td>\n",
              "    </tr>\n",
              "    <tr>\n",
              "      <th>5</th>\n",
              "      <td>64</td>\n",
              "      <td>902</td>\n",
              "      <td>64_window_server_widget_display</td>\n",
              "    </tr>\n",
              "    <tr>\n",
              "      <th>6</th>\n",
              "      <td>2</td>\n",
              "      <td>878</td>\n",
              "      <td>2_game_baseball_games_last</td>\n",
              "    </tr>\n",
              "    <tr>\n",
              "      <th>7</th>\n",
              "      <td>4</td>\n",
              "      <td>841</td>\n",
              "      <td>4_space_nasa_orbit_spacecraft</td>\n",
              "    </tr>\n",
              "    <tr>\n",
              "      <th>8</th>\n",
              "      <td>57</td>\n",
              "      <td>832</td>\n",
              "      <td>57_gun_guns_firearms_fbi</td>\n",
              "    </tr>\n",
              "    <tr>\n",
              "      <th>9</th>\n",
              "      <td>13</td>\n",
              "      <td>821</td>\n",
              "      <td>13_mac_apple_monitor_disk</td>\n",
              "    </tr>\n",
              "  </tbody>\n",
              "</table>\n",
              "</div>"
            ],
            "text/plain": [
              "   Topic  Count                               Name\n",
              "0     -1   2917                  -1_who_data_no_me\n",
              "1      5    966                5_hockey_25_550_nhl\n",
              "2     41    951  41_church_jesus_christ_christians\n",
              "3     30    929    30_drive_controller_drives_bios\n",
              "4      6    926              6_sale_price_100_sell\n",
              "5     64    902    64_window_server_widget_display\n",
              "6      2    878         2_game_baseball_games_last\n",
              "7      4    841      4_space_nasa_orbit_spacecraft\n",
              "8     57    832           57_gun_guns_firearms_fbi\n",
              "9     13    821          13_mac_apple_monitor_disk"
            ]
          },
          "metadata": {
            "tags": []
          },
          "execution_count": 14
        }
      ]
    },
    {
      "cell_type": "markdown",
      "metadata": {
        "id": "dVUNZ8x6rkvI"
      },
      "source": [
        "Not only do we see a nice seperation of the topics, there are significantly less outliers which shows that BERTopic has improved in connecting the documents to topics. \n",
        "\n",
        "Let's see the results by again visualizing the topic representation per class:"
      ]
    },
    {
      "cell_type": "code",
      "metadata": {
        "colab": {
          "base_uri": "https://localhost:8080/"
        },
        "id": "xNyZk__qi5vW",
        "outputId": "fa4eafc5-8cff-45e0-e187-531f31cb72f6"
      },
      "source": [
        "topics_per_class = topic_model.topics_per_class(docs, topics, classes=classes)"
      ],
      "execution_count": null,
      "outputs": [
        {
          "output_type": "stream",
          "text": [
            "20it [00:28,  1.42s/it]\n"
          ],
          "name": "stderr"
        }
      ]
    },
    {
      "cell_type": "code",
      "metadata": {
        "colab": {
          "base_uri": "https://localhost:8080/",
          "height": 917
        },
        "id": "jsqfvmXPjLiq",
        "outputId": "8c5e2a87-a769-4336-da18-8952ab58d338"
      },
      "source": [
        "fig_supervised = topic_model.visualize_topics_per_class(topics_per_class, top_n_topics=10)\n",
        "fig_supervised"
      ],
      "execution_count": null,
      "outputs": [
        {
          "output_type": "display_data",
          "data": {
            "text/html": [
              "<html>\n",
              "<head><meta charset=\"utf-8\" /></head>\n",
              "<body>\n",
              "    <div>            <script src=\"https://cdnjs.cloudflare.com/ajax/libs/mathjax/2.7.5/MathJax.js?config=TeX-AMS-MML_SVG\"></script><script type=\"text/javascript\">if (window.MathJax) {MathJax.Hub.Config({SVG: {font: \"STIX-Web\"}});}</script>                <script type=\"text/javascript\">window.PlotlyConfig = {MathJaxConfig: 'local'};</script>\n",
              "        <script src=\"https://cdn.plot.ly/plotly-latest.min.js\"></script>                <div id=\"bc535035-3335-49aa-9abd-902e7bf18946\" class=\"plotly-graph-div\" style=\"height:900px; width:1250px;\"></div>            <script type=\"text/javascript\">                                    window.PLOTLYENV=window.PLOTLYENV || {};                                    if (document.getElementById(\"bc535035-3335-49aa-9abd-902e7bf18946\")) {                    Plotly.newPlot(                        \"bc535035-3335-49aa-9abd-902e7bf18946\",                        [{\"hoverinfo\": \"text\", \"hovertext\": [\"<b>Topic 5</b><br>Words: munich, germany, emanuelstr, probulfapplelinkapplecom, probulfinformatiktumuenchende\", \"<b>Topic 5</b><br>Words: invasion, sandinistas, hiatus, 1927, sandvik\", \"<b>Topic 5</b><br>Words: cruel, jr, anthonylandreneauozoneholecom, margoliwatsonibmcom, bob\", \"<b>Topic 5</b><br>Words: voting, ballot, composos2programmermisc, composos2bugs, composos2programmerporting\", \"<b>Topic 5</b><br>Words: russians, ussrsu, scale, theyare, puckey\", \"<b>Topic 5</b><br>Words: phoenix, 3931216, milano, refrigerator, 3600\", \"<b>Topic 5</b><br>Words: dayton, computerfest, 2324and, 2038752751, hamfest\", \"<b>Topic 5</b><br>Words: polygon, postscript, lemma, intersects, npcomplete\", \"<b>Topic 5</b><br>Words: museum, ottawa, showroom, canada, manually\", \"<b>Topic 5</b><br>Words: gubnint, reaganbush, lakes, cows, chuckmeister\", \"<b>Topic 5</b><br>Words: gillian, red, kneelength, seenbut, foriegnpolicy\", \"<b>Topic 5</b><br>Words: toronto, dickhead, gonzales, cleveland, pittsburgh\", \"<b>Topic 5</b><br>Words: christie, polkadoted, dwindles, essene, elephants\", \"<b>Topic 5</b><br>Words: irishgaelic, casady, bwisenyxcsduedu, rhiannonnetcomcom, pbryantukelelegcrcom\", \"<b>Topic 5</b><br>Words: nra, 61year, urn, ll, retired\", \"<b>Topic 5</b><br>Words: nra, objectives, marc, diffuses, kindred\", \"<b>Topic 5</b><br>Words: hockey, 25, 550, nhl, gm\", \"<b>Topic 5</b><br>Words: greece, turkey, greeks, turks, turkish\", \"<b>Topic 5</b><br>Words: karelian, switcheroo, keratostomy, lab, dialysis\"], \"marker\": {\"color\": \"#E69F00\"}, \"name\": \"5_hockey_25_550_nhl\", \"orientation\": \"h\", \"type\": \"bar\", \"visible\": true, \"x\": [1, 4, 2, 1, 6, 4, 6, 1, 5, 9, 7, 16, 4, 5, 3, 4, 878, 6, 4], \"y\": [\"comp.sys.mac.hardware\", \"alt.atheism\", \"talk.religion.misc\", \"comp.sys.ibm.pc.hardware\", \"sci.space\", \"misc.forsale\", \"sci.electronics\", \"comp.graphics\", \"rec.autos\", \"talk.politics.misc\", \"rec.motorcycles\", \"rec.sport.baseball\", \"soc.religion.christian\", \"comp.os.ms-windows.misc\", \"talk.politics.guns\", \"sci.crypt\", \"rec.sport.hockey\", \"talk.politics.mideast\", \"sci.med\"]}, {\"hoverinfo\": \"text\", \"hovertext\": [\"<b>Topic 41</b><br>Words: god, church, jesus, christ, sin\", \"<b>Topic 41</b><br>Words: vatican, christian, bible, christ, jesus\", \"<b>Topic 41</b><br>Words: christians, christian, church, bible, catholic\", \"<b>Topic 41</b><br>Words: annoying, shadowmask, c5uw1t3hieskimocom, 4xrgbs, johnneskimocoms\", \"<b>Topic 41</b><br>Words: precolumbian, continent, 1800, st6, overlybroad\", \"<b>Topic 41</b><br>Words: bummed, exxon, ferguson, engineer, engineering\", \"<b>Topic 41</b><br>Words: 25, god, church, jesus, christ\", \"<b>Topic 41</b><br>Words: sexium, sex, god, church, jesus\", \"<b>Topic 41</b><br>Words: saab, proposer, newsgroup, saabs, voting\", \"<b>Topic 41</b><br>Words: disasters, toxic, homosexuality, landfills, littlegirlisrapedbyherdaddyandisnow\", \"<b>Topic 41</b><br>Words: gregs, sold, companyowner, trailer, owns\", \"<b>Topic 41</b><br>Words: erickson, sincerely, keith, grace, thomas\", \"<b>Topic 41</b><br>Words: god, church, jesus, christ, christians\", \"<b>Topic 41</b><br>Words: jagrantemr1emrca, geophysics, god, church, jesus\", \"<b>Topic 41</b><br>Words: cult, religion, baptists, jmdhandheldcom, church\", \"<b>Topic 41</b><br>Words: serum, hodgepodge, incapacitate, incriminate, truth\", \"<b>Topic 41</b><br>Words: zionist, israeli, homosexual, wb, love\", \"<b>Topic 41</b><br>Words: choleric, semantic, scimed, emotional, physicians\"], \"marker\": {\"color\": \"#56B4E9\"}, \"name\": \"41_church_jesus_christ_christians\", \"orientation\": \"h\", \"type\": \"bar\", \"visible\": \"legendonly\", \"x\": [1, 24, 22, 6, 3, 1, 1, 1, 3, 6, 4, 2, 848, 1, 12, 2, 9, 5], \"y\": [\"comp.sys.mac.hardware\", \"alt.atheism\", \"talk.religion.misc\", \"comp.sys.ibm.pc.hardware\", \"sci.space\", \"misc.forsale\", \"sci.electronics\", \"comp.graphics\", \"rec.autos\", \"talk.politics.misc\", \"rec.motorcycles\", \"rec.sport.baseball\", \"soc.religion.christian\", \"comp.os.ms-windows.misc\", \"talk.politics.guns\", \"sci.crypt\", \"talk.politics.mideast\", \"sci.med\"]}, {\"hoverinfo\": \"text\", \"hovertext\": [\"<b>Topic 30</b><br>Words: specfp92, drives, specint92, drive, cable\", \"<b>Topic 30</b><br>Words: madmen, deleted, 198889, mathew, hooks\", \"<b>Topic 30</b><br>Words: drive, controller, drives, bios, disk\", \"<b>Topic 30</b><br>Words: condenstion, twophase, mro, receipt, keyboards\", \"<b>Topic 30</b><br>Words: card, motherboard, disk, vgawonderxl24, 256x9\", \"<b>Topic 30</b><br>Words: bus, controller, ide, bidirectional, pc\", \"<b>Topic 30</b><br>Words: screen, lcd, computer, ibm, anyone\", \"<b>Topic 30</b><br>Words: battery, fiberglass, 4runners, nvram, mk48t02\", \"<b>Topic 30</b><br>Words: 949, rounding, lsd, cocaine, 850\", \"<b>Topic 30</b><br>Words: cough, wrench, churchgoers, polysyllabic, mufflers\", \"<b>Topic 30</b><br>Words: estrada, mcnally, pappas, immensely, barber\", \"<b>Topic 30</b><br>Words: rapiers, akita, quiz, nearest, typing\", \"<b>Topic 30</b><br>Words: xfree86, xstones, 928, 386bsd, s3\", \"<b>Topic 30</b><br>Words: drive, controller, drives, disk, bios\", \"<b>Topic 30</b><br>Words: roads, drivers, unconstitutional, liability, law\", \"<b>Topic 30</b><br>Words: ibm, nicnamewhois, inventions, disks, chips\", \"<b>Topic 30</b><br>Words: intellevision, clueful, marios, error, bubble\", \"<b>Topic 30</b><br>Words: documentary, pbs, rebroadcast, camps, ksts9\", \"<b>Topic 30</b><br>Words: cancer, booklet, hiv, aids, patient\"], \"marker\": {\"color\": \"#009E73\"}, \"name\": \"30_drive_controller_drives_bios\", \"orientation\": \"h\", \"type\": \"bar\", \"visible\": \"legendonly\", \"x\": [13, 4, 788, 2, 18, 16, 20, 6, 1, 10, 4, 2, 7, 19, 4, 8, 2, 2, 3], \"y\": [\"comp.sys.mac.hardware\", \"alt.atheism\", \"comp.sys.ibm.pc.hardware\", \"sci.space\", \"misc.forsale\", \"sci.electronics\", \"comp.graphics\", \"rec.autos\", \"talk.politics.misc\", \"rec.motorcycles\", \"rec.sport.baseball\", \"soc.religion.christian\", \"comp.windows.x\", \"comp.os.ms-windows.misc\", \"talk.politics.guns\", \"sci.crypt\", \"rec.sport.hockey\", \"talk.politics.mideast\", \"sci.med\"]}, {\"hoverinfo\": \"text\", \"hovertext\": [\"<b>Topic 6</b><br>Words: applelink, 818, 805, santa, 510\", \"<b>Topic 6</b><br>Words: bang, fifty, theory, parody, recipe\", \"<b>Topic 6</b><br>Words: rama, krishna, vedas, bhagavadgita, swami\", \"<b>Topic 6</b><br>Words: courier, sale, v42, email, price\", \"<b>Topic 6</b><br>Words: antiquarian, verne, luck, book, balloon\", \"<b>Topic 6</b><br>Words: sale, price, 100, sell, wolverine\", \"<b>Topic 6</b><br>Words: ma, flea, 3776, mit, sell\", \"<b>Topic 6</b><br>Words: 50, 495, 100, 20, 500\", \"<b>Topic 6</b><br>Words: rally, joliet, 4x4s, tow, directions\", \"<b>Topic 6</b><br>Words: nuclear, georgia, naval, bolsheviks, argentine\", \"<b>Topic 6</b><br>Words: 85017, jburnsidellmitedu, 8392161, scabbard, 2691403\", \"<b>Topic 6</b><br>Words: merchandise, pirates, 18003779777, hendersons, trade\", \"<b>Topic 6</b><br>Words: pages, 3495, copyr, metacard, scripting\", \"<b>Topic 6</b><br>Words: library, mailorder, 3g, visamc, bucks\", \"<b>Topic 6</b><br>Words: segal, firearm, carry, automobile, rally\", \"<b>Topic 6</b><br>Words: columbus, jhartagoraraincom, batelle, oclc, 195721\", \"<b>Topic 6</b><br>Words: oklahoma, marc, mfostergeohubgcnuoknoredu, mfosteralliantbackboneuoknoredu, blazers\", \"<b>Topic 6</b><br>Words: neural, shergold, invader, cognitive, redirect\", \"<b>Topic 6</b><br>Words: infectious, ticks, diseases, medical, urinary\"], \"marker\": {\"color\": \"#F0E442\"}, \"name\": \"6_sale_price_100_sell\", \"orientation\": \"h\", \"type\": \"bar\", \"visible\": \"legendonly\", \"x\": [12, 3, 3, 15, 8, 822, 17, 4, 7, 8, 5, 4, 4, 6, 2, 2, 1, 2, 1], \"y\": [\"comp.sys.mac.hardware\", \"alt.atheism\", \"talk.religion.misc\", \"comp.sys.ibm.pc.hardware\", \"sci.space\", \"misc.forsale\", \"sci.electronics\", \"comp.graphics\", \"rec.autos\", \"talk.politics.misc\", \"rec.motorcycles\", \"rec.sport.baseball\", \"comp.windows.x\", \"comp.os.ms-windows.misc\", \"talk.politics.guns\", \"sci.crypt\", \"rec.sport.hockey\", \"talk.politics.mideast\", \"sci.med\"]}, {\"hoverinfo\": \"text\", \"hovertext\": [\"<b>Topic 64</b><br>Words: engineer, gmt, lang, writes, template\", \"<b>Topic 64</b><br>Words: unicorns, babble, maddi, satanic, pinkunicorns\", \"<b>Topic 64</b><br>Words: 721051351compuservecom, talkorigins, crosspost, bounced, window\", \"<b>Topic 64</b><br>Words: 3d4h, 0x27, partition, registers, labs\", \"<b>Topic 64</b><br>Words: ireland, astronomy, patrick, telescope, 2888\", \"<b>Topic 64</b><br>Words: sewing, dos6, nicenasty, kimghmentorccpurdueedu, dos60\", \"<b>Topic 64</b><br>Words: blinker, brightness, 313, 120v, 10k\", \"<b>Topic 64</b><br>Words: xyzzygnuaimitedu, memory, timeemail, 3035309000, joshuaf\", \"<b>Topic 64</b><br>Words: alfa, aircooled, vacuumboost, spiders, reliablilty\", \"<b>Topic 64</b><br>Words: savages, neighboring, food, africa, hawaiians\", \"<b>Topic 64</b><br>Words: cuddle, foodies, davedworldstdcom, st11, milford\", \"<b>Topic 64</b><br>Words: uuencoded, staub, rust, logos, copied\", \"<b>Topic 64</b><br>Words: psalms, god, prayers, christ, lord\", \"<b>Topic 64</b><br>Words: window, server, widget, motif, openwindows\", \"<b>Topic 64</b><br>Words: slip, packet, 0x60, pktmux, qvtnet\", \"<b>Topic 64</b><br>Words: mms8fku5zg8i7q2ok8ftgk8jdfckq8ncy23qy8eg, mqhrgz7q71m89g4d8lfkqc2hvzjfpsqn10oigy, m761dcbm0aql5gf78nui050, m77as97awbl, 0sg3ccq60dbqf\", \"<b>Topic 64</b><br>Words: origonal, stitches, painted, misunderstanding, gerry\", \"<b>Topic 64</b><br>Words: 6123767873, gahmetscosar1oumailotcprmdumneduadmd, cosa0001studenttcumnedu, newsgroupssoccultureturkishtalkpoliticsmideasttalkpolitics, dbdurartusdpaorg\", \"<b>Topic 64</b><br>Words: 6177323000, pheochromocytoma, nicoderm, resinfo, nicotrol\"], \"marker\": {\"color\": \"#D55E00\"}, \"name\": \"64_window_server_widget_display\", \"orientation\": \"h\", \"type\": \"bar\", \"visible\": \"legendonly\", \"x\": [10, 3, 2, 11, 5, 3, 7, 8, 3, 3, 3, 2, 2, 820, 10, 1, 2, 2, 5], \"y\": [\"comp.sys.mac.hardware\", \"alt.atheism\", \"talk.religion.misc\", \"comp.sys.ibm.pc.hardware\", \"sci.space\", \"misc.forsale\", \"sci.electronics\", \"comp.graphics\", \"rec.autos\", \"talk.politics.misc\", \"rec.motorcycles\", \"rec.sport.baseball\", \"soc.religion.christian\", \"comp.windows.x\", \"comp.os.ms-windows.misc\", \"sci.crypt\", \"rec.sport.hockey\", \"talk.politics.mideast\", \"sci.med\"]}, {\"hoverinfo\": \"text\", \"hovertext\": [\"<b>Topic 2</b><br>Words: seth, kristen, freddie, tx, dumb\", \"<b>Topic 2</b><br>Words: mohammed, sequel, sawdust, swampland, hes\", \"<b>Topic 2</b><br>Words: petition, ohare, 20054, madalyn, airways\", \"<b>Topic 2</b><br>Words: atlantaga, comdex, convention, wondering, newsgroup\", \"<b>Topic 2</b><br>Words: unionist, miners, taxes, medianews, polisci\", \"<b>Topic 2</b><br>Words: seattle, koshy, internship, omaha, restaurant\", \"<b>Topic 2</b><br>Words: airplanes, poles, electric, knicker, oscillations\", \"<b>Topic 2</b><br>Words: sand, chrysler, tools, wheel, toed\", \"<b>Topic 2</b><br>Words: chrysler, investors, rodney, tom, acquittals\", \"<b>Topic 2</b><br>Words: chaparral, sand, alpinestars, doberman, rottweiler\", \"<b>Topic 2</b><br>Words: game, baseball, games, last, pitching\", \"<b>Topic 2</b><br>Words: mexican, sandra, gonzales, mason, oakland\", \"<b>Topic 2</b><br>Words: raid, batf, duke, cigarette, cops\", \"<b>Topic 2</b><br>Words: makey, bostonian, 501, jhessenetcomcom, diminish\", \"<b>Topic 2</b><br>Words: espn, mlb, tnt, ted, tbs\", \"<b>Topic 2</b><br>Words: reporters, partying, schools, orchestrating, freedomthe\", \"<b>Topic 2</b><br>Words: crullers, crullerian, donuts, stroboscope, flutes\"], \"marker\": {\"color\": \"#0072B2\"}, \"name\": \"2_game_baseball_games_last\", \"orientation\": \"h\", \"type\": \"bar\", \"visible\": \"legendonly\", \"x\": [2, 3, 3, 1, 2, 7, 4, 4, 12, 17, 794, 2, 4, 4, 13, 4, 2], \"y\": [\"comp.sys.mac.hardware\", \"alt.atheism\", \"talk.religion.misc\", \"comp.sys.ibm.pc.hardware\", \"sci.space\", \"misc.forsale\", \"sci.electronics\", \"rec.autos\", \"talk.politics.misc\", \"rec.motorcycles\", \"rec.sport.baseball\", \"soc.religion.christian\", \"talk.politics.guns\", \"sci.crypt\", \"rec.sport.hockey\", \"talk.politics.mideast\", \"sci.med\"]}, {\"hoverinfo\": \"text\", \"hovertext\": [\"<b>Topic 4</b><br>Words: ldsanderslarcnasagov, stylewriter, 8647604, 128155444, 236810001\", \"<b>Topic 4</b><br>Words: aliens, abducted, space, galacticentric, sfnntrc00wbo43lrukandrewcmuedu\", \"<b>Topic 4</b><br>Words: lambda, upsilon, omicron, athenian, attican\", \"<b>Topic 4</b><br>Words: emissionwise, magnavox, necs, flyback, radiation\", \"<b>Topic 4</b><br>Words: nasa, orbit, spacecraft, moon, venus\", \"<b>Topic 4</b><br>Words: aircraft, airlines, cheap, fuel, videomaker\", \"<b>Topic 4</b><br>Words: copyright, patent, patents, infringement, copyrighted\", \"<b>Topic 4</b><br>Words: screen, distortion, axis, sourcescreen, metallic\", \"<b>Topic 4</b><br>Words: reflections, saab, discriminate, factory, mercury\", \"<b>Topic 4</b><br>Words: billion, mom, c5s, tammy, whites\", \"<b>Topic 4</b><br>Words: jonathan, vicariously, rentacop, jlevinerdhydroonca, magnifing\", \"<b>Topic 4</b><br>Words: davidjpldevvaxjplnasagov, 5253660, motiflobogsfcnasagov, lobogsfcnasagov, maheroutlandgsfcnasagov\", \"<b>Topic 4</b><br>Words: mathematica, notebooks, notebook, cosynotes, cosypak09tarz\", \"<b>Topic 4</b><br>Words: kruschev, homei, altfrenchcaptainborgborgborg, jrmgnvifasufledu, rotor\", \"<b>Topic 4</b><br>Words: coffee, tea, kurosawa, aarhus, japan\", \"<b>Topic 4</b><br>Words: ignore, ohandleybetsygsfcnasagov, testplease, rocketcalvincsunbca, ohandleybetsygsfcnasa\", \"<b>Topic 4</b><br>Words: orbeli, space, armenian, book, armenia\", \"<b>Topic 4</b><br>Words: sf, flying, decontaimination, notwwii, innerear\"], \"marker\": {\"color\": \"#CC79A7\"}, \"name\": \"4_space_nasa_orbit_spacecraft\", \"orientation\": \"h\", \"type\": \"bar\", \"visible\": \"legendonly\", \"x\": [1, 9, 3, 2, 771, 4, 6, 6, 3, 3, 6, 6, 2, 4, 5, 2, 6, 2], \"y\": [\"comp.sys.mac.hardware\", \"alt.atheism\", \"talk.religion.misc\", \"comp.sys.ibm.pc.hardware\", \"sci.space\", \"misc.forsale\", \"sci.electronics\", \"comp.graphics\", \"rec.autos\", \"talk.politics.misc\", \"rec.motorcycles\", \"comp.windows.x\", \"comp.os.ms-windows.misc\", \"talk.politics.guns\", \"sci.crypt\", \"rec.sport.hockey\", \"talk.politics.mideast\", \"sci.med\"]}, {\"hoverinfo\": \"text\", \"hovertext\": [\"<b>Topic 57</b><br>Words: radius, rechecked, accounting, apologies, reduction\", \"<b>Topic 57</b><br>Words: hussein, iraq, kuwait, war, guilty\", \"<b>Topic 57</b><br>Words: fbi, fire, rosicrucians, gas, fires\", \"<b>Topic 57</b><br>Words: waffle, redirected, absurd, writers, magazine\", \"<b>Topic 57</b><br>Words: oil, baseplate, relights, detonations, 30odd\", \"<b>Topic 57</b><br>Words: nolonger, rosenkranzenetdeccom, rosenkranz, desparate, markets\", \"<b>Topic 57</b><br>Words: booked, dayton, soccer, cincinnati, 28night\", \"<b>Topic 57</b><br>Words: playmation, 299, bugs, beat, price\", \"<b>Topic 57</b><br>Words: feral, dork, hose, speeds, marshattfeserveccpurdueedu\", \"<b>Topic 57</b><br>Words: gun, gas, fbi, lawmaster, guns\", \"<b>Topic 57</b><br>Words: bike, gear, gun, flame, fender\", \"<b>Topic 57</b><br>Words: flamebait, flames, austin, tickets, drools\", \"<b>Topic 57</b><br>Words: prophet, tear, gas, bulletproof, punched\", \"<b>Topic 57</b><br>Words: gossip, mb3, mailmessage, batten, hatches\", \"<b>Topic 57</b><br>Words: gun, guns, firearms, weapons, batf\", \"<b>Topic 57</b><br>Words: tap, waco, flame, shhhcoke, phosphoric\", \"<b>Topic 57</b><br>Words: announcer, foul, basketball, chauvanistic, shot\", \"<b>Topic 57</b><br>Words: jefferson, netanyahu, 41593, tounges, charismatic\", \"<b>Topic 57</b><br>Words: canada, canadian, palmer, chemistry, scientist\"], \"marker\": {\"color\": \"#E69F00\"}, \"name\": \"57_gun_guns_firearms_fbi\", \"orientation\": \"h\", \"type\": \"bar\", \"visible\": \"legendonly\", \"x\": [1, 5, 20, 2, 8, 2, 6, 1, 10, 25, 17, 4, 2, 3, 701, 7, 5, 8, 5], \"y\": [\"comp.sys.mac.hardware\", \"alt.atheism\", \"talk.religion.misc\", \"comp.sys.ibm.pc.hardware\", \"sci.space\", \"misc.forsale\", \"sci.electronics\", \"comp.graphics\", \"rec.autos\", \"talk.politics.misc\", \"rec.motorcycles\", \"rec.sport.baseball\", \"soc.religion.christian\", \"comp.windows.x\", \"talk.politics.guns\", \"sci.crypt\", \"rec.sport.hockey\", \"talk.politics.mideast\", \"sci.med\"]}, {\"hoverinfo\": \"text\", \"hovertext\": [\"<b>Topic 13</b><br>Words: mac, apple, disk, quadra, ram\", \"<b>Topic 13</b><br>Words: backwards, miracle, wellmaybe, outofthecloset, feather\", \"<b>Topic 13</b><br>Words: sandviknewtonapplecom, sandvik, religiously, ks, jews\", \"<b>Topic 13</b><br>Words: courier, v32bis, modem, apple, modems\", \"<b>Topic 13</b><br>Words: 301, compressed, cruso, 2864952, shareware\", \"<b>Topic 13</b><br>Words: jmparkinmtuedu, 7139267953, hp28s, brokersagents, hp28sx\", \"<b>Topic 13</b><br>Words: 2600, lab, computers, atari, 6502\", \"<b>Topic 13</b><br>Words: pens, 7574, apple, macintosh, card\", \"<b>Topic 13</b><br>Words: dealer, tires, 90vanagon, 90vanagonour, 20w50\", \"<b>Topic 13</b><br>Words: ohio, marysville, leeches, bled, dificult\", \"<b>Topic 13</b><br>Words: urinalisys, ucbs, rowlands, lisa, juice\", \"<b>Topic 13</b><br>Words: email, info, royals, kansas, details\", \"<b>Topic 13</b><br>Words: indianapolis, attendance, 950, church, group\", \"<b>Topic 13</b><br>Words: terminals, netfax, 96mb, fax321tarz, 3000400\", \"<b>Topic 13</b><br>Words: intel, risc, apple, 64kb, chip\", \"<b>Topic 13</b><br>Words: 100000, mac, apple, monitor, disk\", \"<b>Topic 13</b><br>Words: quieter, laptops, inaccurate, lcd, laptop\", \"<b>Topic 13</b><br>Words: geckocamelotbradleyedu, developertoner, reinhard, thankyou, allergic\"], \"marker\": {\"color\": \"#56B4E9\"}, \"name\": \"13_mac_apple_monitor_disk\", \"orientation\": \"h\", \"type\": \"bar\", \"visible\": \"legendonly\", \"x\": [744, 2, 1, 11, 1, 6, 9, 12, 7, 3, 3, 1, 1, 3, 10, 1, 3, 3], \"y\": [\"comp.sys.mac.hardware\", \"alt.atheism\", \"talk.religion.misc\", \"comp.sys.ibm.pc.hardware\", \"sci.space\", \"misc.forsale\", \"sci.electronics\", \"comp.graphics\", \"rec.autos\", \"talk.politics.misc\", \"rec.motorcycles\", \"rec.sport.baseball\", \"soc.religion.christian\", \"comp.windows.x\", \"comp.os.ms-windows.misc\", \"talk.politics.guns\", \"sci.crypt\", \"sci.med\"]}, {\"hoverinfo\": \"text\", \"hovertext\": [\"<b>Topic 3</b><br>Words: shipped, overnight, titles, cd300s, mozart\", \"<b>Topic 3</b><br>Words: intrest, tokyo, tornadoes, loans, leonard\", \"<b>Topic 3</b><br>Words: baloney, neglect, governed, maintenance, programmer\", \"<b>Topic 3</b><br>Words: fastmicro, 8008219000, financial, 800, wondering\", \"<b>Topic 3</b><br>Words: log, grb, universes, river, collission\", \"<b>Topic 3</b><br>Words: sell, mugger, mercury, big, l35aw\", \"<b>Topic 3</b><br>Words: brandmodel, sailrelated, 68hc11, sailboat, 45th\", \"<b>Topic 3</b><br>Words: horsepower, lcd, screen, santra, trevorwellsfcaus\", \"<b>Topic 3</b><br>Words: car, cars, engine, ford, brake\", \"<b>Topic 3</b><br>Words: bowl, pot, dump, screwed, tuesday\", \"<b>Topic 3</b><br>Words: 13mm, metric, car, nutbolt, weeny\", \"<b>Topic 3</b><br>Words: plummet, gloom, bankruptcies, unthinkable, alarming\", \"<b>Topic 3</b><br>Words: gnashing, fiery, hell, teeth, babies\", \"<b>Topic 3</b><br>Words: 3binaries, mechanicconstructioncadsoftware, pdsources, priceperformance, uimx\", \"<b>Topic 3</b><br>Words: uuencodemail, 800x600x16, 800x600x256, netlanders, jealous\", \"<b>Topic 3</b><br>Words: dank, steelers, desperate, hamilton, tire\", \"<b>Topic 3</b><br>Words: japanese, clubbing, pittsburgh, japan, jstmp\"], \"marker\": {\"color\": \"#009E73\"}, \"name\": \"3_car_cars_engine_ford\", \"orientation\": \"h\", \"type\": \"bar\", \"visible\": \"legendonly\", \"x\": [4, 5, 1, 2, 2, 3, 8, 3, 762, 1, 7, 3, 1, 3, 2, 2, 5], \"y\": [\"comp.sys.mac.hardware\", \"alt.atheism\", \"talk.religion.misc\", \"comp.sys.ibm.pc.hardware\", \"sci.space\", \"misc.forsale\", \"sci.electronics\", \"comp.graphics\", \"rec.autos\", \"talk.politics.misc\", \"rec.motorcycles\", \"rec.sport.baseball\", \"soc.religion.christian\", \"comp.windows.x\", \"comp.os.ms-windows.misc\", \"rec.sport.hockey\", \"sci.med\"]}],                        {\"height\": 900, \"hoverlabel\": {\"bgcolor\": \"white\", \"font\": {\"family\": \"Rockwell\", \"size\": 16}}, \"legend\": {\"title\": {\"text\": \"<b>Global Topic Representation\"}}, \"template\": {\"data\": {\"bar\": [{\"error_x\": {\"color\": \"rgb(36,36,36)\"}, \"error_y\": {\"color\": \"rgb(36,36,36)\"}, \"marker\": {\"line\": {\"color\": \"white\", \"width\": 0.5}}, \"type\": \"bar\"}], \"barpolar\": [{\"marker\": {\"line\": {\"color\": \"white\", \"width\": 0.5}}, \"type\": \"barpolar\"}], \"carpet\": [{\"aaxis\": {\"endlinecolor\": \"rgb(36,36,36)\", \"gridcolor\": \"white\", \"linecolor\": \"white\", \"minorgridcolor\": \"white\", \"startlinecolor\": \"rgb(36,36,36)\"}, \"baxis\": {\"endlinecolor\": \"rgb(36,36,36)\", \"gridcolor\": \"white\", \"linecolor\": \"white\", \"minorgridcolor\": \"white\", \"startlinecolor\": \"rgb(36,36,36)\"}, \"type\": \"carpet\"}], \"choropleth\": [{\"colorbar\": {\"outlinewidth\": 1, \"tickcolor\": \"rgb(36,36,36)\", \"ticks\": \"outside\"}, \"type\": \"choropleth\"}], \"contour\": [{\"colorbar\": {\"outlinewidth\": 1, \"tickcolor\": \"rgb(36,36,36)\", \"ticks\": \"outside\"}, \"colorscale\": [[0.0, \"#440154\"], [0.1111111111111111, \"#482878\"], [0.2222222222222222, \"#3e4989\"], [0.3333333333333333, \"#31688e\"], [0.4444444444444444, \"#26828e\"], [0.5555555555555556, \"#1f9e89\"], [0.6666666666666666, \"#35b779\"], [0.7777777777777778, \"#6ece58\"], [0.8888888888888888, \"#b5de2b\"], [1.0, \"#fde725\"]], \"type\": \"contour\"}], \"contourcarpet\": [{\"colorbar\": {\"outlinewidth\": 1, \"tickcolor\": \"rgb(36,36,36)\", \"ticks\": \"outside\"}, \"type\": \"contourcarpet\"}], \"heatmap\": [{\"colorbar\": {\"outlinewidth\": 1, \"tickcolor\": \"rgb(36,36,36)\", \"ticks\": \"outside\"}, \"colorscale\": [[0.0, \"#440154\"], [0.1111111111111111, \"#482878\"], [0.2222222222222222, \"#3e4989\"], [0.3333333333333333, \"#31688e\"], [0.4444444444444444, \"#26828e\"], [0.5555555555555556, \"#1f9e89\"], [0.6666666666666666, \"#35b779\"], [0.7777777777777778, \"#6ece58\"], [0.8888888888888888, \"#b5de2b\"], [1.0, \"#fde725\"]], \"type\": \"heatmap\"}], \"heatmapgl\": [{\"colorbar\": {\"outlinewidth\": 1, \"tickcolor\": \"rgb(36,36,36)\", \"ticks\": \"outside\"}, \"colorscale\": [[0.0, \"#440154\"], [0.1111111111111111, \"#482878\"], [0.2222222222222222, \"#3e4989\"], [0.3333333333333333, \"#31688e\"], [0.4444444444444444, \"#26828e\"], [0.5555555555555556, \"#1f9e89\"], [0.6666666666666666, \"#35b779\"], [0.7777777777777778, \"#6ece58\"], [0.8888888888888888, \"#b5de2b\"], [1.0, \"#fde725\"]], \"type\": \"heatmapgl\"}], \"histogram\": [{\"marker\": {\"line\": {\"color\": \"white\", \"width\": 0.6}}, \"type\": \"histogram\"}], \"histogram2d\": [{\"colorbar\": {\"outlinewidth\": 1, \"tickcolor\": \"rgb(36,36,36)\", \"ticks\": \"outside\"}, \"colorscale\": [[0.0, \"#440154\"], [0.1111111111111111, \"#482878\"], [0.2222222222222222, \"#3e4989\"], [0.3333333333333333, \"#31688e\"], [0.4444444444444444, \"#26828e\"], [0.5555555555555556, \"#1f9e89\"], [0.6666666666666666, \"#35b779\"], [0.7777777777777778, \"#6ece58\"], [0.8888888888888888, \"#b5de2b\"], [1.0, \"#fde725\"]], \"type\": \"histogram2d\"}], \"histogram2dcontour\": [{\"colorbar\": {\"outlinewidth\": 1, \"tickcolor\": \"rgb(36,36,36)\", \"ticks\": \"outside\"}, \"colorscale\": [[0.0, \"#440154\"], [0.1111111111111111, \"#482878\"], [0.2222222222222222, \"#3e4989\"], [0.3333333333333333, \"#31688e\"], [0.4444444444444444, \"#26828e\"], [0.5555555555555556, \"#1f9e89\"], [0.6666666666666666, \"#35b779\"], [0.7777777777777778, \"#6ece58\"], [0.8888888888888888, \"#b5de2b\"], [1.0, \"#fde725\"]], \"type\": \"histogram2dcontour\"}], \"mesh3d\": [{\"colorbar\": {\"outlinewidth\": 1, \"tickcolor\": \"rgb(36,36,36)\", \"ticks\": \"outside\"}, \"type\": \"mesh3d\"}], \"parcoords\": [{\"line\": {\"colorbar\": {\"outlinewidth\": 1, \"tickcolor\": \"rgb(36,36,36)\", \"ticks\": \"outside\"}}, \"type\": \"parcoords\"}], \"pie\": [{\"automargin\": true, \"type\": \"pie\"}], \"scatter\": [{\"marker\": {\"colorbar\": {\"outlinewidth\": 1, \"tickcolor\": \"rgb(36,36,36)\", \"ticks\": \"outside\"}}, \"type\": \"scatter\"}], \"scatter3d\": [{\"line\": {\"colorbar\": {\"outlinewidth\": 1, \"tickcolor\": \"rgb(36,36,36)\", \"ticks\": \"outside\"}}, \"marker\": {\"colorbar\": {\"outlinewidth\": 1, \"tickcolor\": \"rgb(36,36,36)\", \"ticks\": \"outside\"}}, \"type\": \"scatter3d\"}], \"scattercarpet\": [{\"marker\": {\"colorbar\": {\"outlinewidth\": 1, \"tickcolor\": \"rgb(36,36,36)\", \"ticks\": \"outside\"}}, \"type\": \"scattercarpet\"}], \"scattergeo\": [{\"marker\": {\"colorbar\": {\"outlinewidth\": 1, \"tickcolor\": \"rgb(36,36,36)\", \"ticks\": \"outside\"}}, \"type\": \"scattergeo\"}], \"scattergl\": [{\"marker\": {\"colorbar\": {\"outlinewidth\": 1, \"tickcolor\": \"rgb(36,36,36)\", \"ticks\": \"outside\"}}, \"type\": \"scattergl\"}], \"scattermapbox\": [{\"marker\": {\"colorbar\": {\"outlinewidth\": 1, \"tickcolor\": \"rgb(36,36,36)\", \"ticks\": \"outside\"}}, \"type\": \"scattermapbox\"}], \"scatterpolar\": [{\"marker\": {\"colorbar\": {\"outlinewidth\": 1, \"tickcolor\": \"rgb(36,36,36)\", \"ticks\": \"outside\"}}, \"type\": \"scatterpolar\"}], \"scatterpolargl\": [{\"marker\": {\"colorbar\": {\"outlinewidth\": 1, \"tickcolor\": \"rgb(36,36,36)\", \"ticks\": \"outside\"}}, \"type\": \"scatterpolargl\"}], \"scatterternary\": [{\"marker\": {\"colorbar\": {\"outlinewidth\": 1, \"tickcolor\": \"rgb(36,36,36)\", \"ticks\": \"outside\"}}, \"type\": \"scatterternary\"}], \"surface\": [{\"colorbar\": {\"outlinewidth\": 1, \"tickcolor\": \"rgb(36,36,36)\", \"ticks\": \"outside\"}, \"colorscale\": [[0.0, \"#440154\"], [0.1111111111111111, \"#482878\"], [0.2222222222222222, \"#3e4989\"], [0.3333333333333333, \"#31688e\"], [0.4444444444444444, \"#26828e\"], [0.5555555555555556, \"#1f9e89\"], [0.6666666666666666, \"#35b779\"], [0.7777777777777778, \"#6ece58\"], [0.8888888888888888, \"#b5de2b\"], [1.0, \"#fde725\"]], \"type\": \"surface\"}], \"table\": [{\"cells\": {\"fill\": {\"color\": \"rgb(237,237,237)\"}, \"line\": {\"color\": \"white\"}}, \"header\": {\"fill\": {\"color\": \"rgb(217,217,217)\"}, \"line\": {\"color\": \"white\"}}, \"type\": \"table\"}]}, \"layout\": {\"annotationdefaults\": {\"arrowhead\": 0, \"arrowwidth\": 1}, \"autotypenumbers\": \"strict\", \"coloraxis\": {\"colorbar\": {\"outlinewidth\": 1, \"tickcolor\": \"rgb(36,36,36)\", \"ticks\": \"outside\"}}, \"colorscale\": {\"diverging\": [[0.0, \"rgb(103,0,31)\"], [0.1, \"rgb(178,24,43)\"], [0.2, \"rgb(214,96,77)\"], [0.3, \"rgb(244,165,130)\"], [0.4, \"rgb(253,219,199)\"], [0.5, \"rgb(247,247,247)\"], [0.6, \"rgb(209,229,240)\"], [0.7, \"rgb(146,197,222)\"], [0.8, \"rgb(67,147,195)\"], [0.9, \"rgb(33,102,172)\"], [1.0, \"rgb(5,48,97)\"]], \"sequential\": [[0.0, \"#440154\"], [0.1111111111111111, \"#482878\"], [0.2222222222222222, \"#3e4989\"], [0.3333333333333333, \"#31688e\"], [0.4444444444444444, \"#26828e\"], [0.5555555555555556, \"#1f9e89\"], [0.6666666666666666, \"#35b779\"], [0.7777777777777778, \"#6ece58\"], [0.8888888888888888, \"#b5de2b\"], [1.0, \"#fde725\"]], \"sequentialminus\": [[0.0, \"#440154\"], [0.1111111111111111, \"#482878\"], [0.2222222222222222, \"#3e4989\"], [0.3333333333333333, \"#31688e\"], [0.4444444444444444, \"#26828e\"], [0.5555555555555556, \"#1f9e89\"], [0.6666666666666666, \"#35b779\"], [0.7777777777777778, \"#6ece58\"], [0.8888888888888888, \"#b5de2b\"], [1.0, \"#fde725\"]]}, \"colorway\": [\"#1F77B4\", \"#FF7F0E\", \"#2CA02C\", \"#D62728\", \"#9467BD\", \"#8C564B\", \"#E377C2\", \"#7F7F7F\", \"#BCBD22\", \"#17BECF\"], \"font\": {\"color\": \"rgb(36,36,36)\"}, \"geo\": {\"bgcolor\": \"white\", \"lakecolor\": \"white\", \"landcolor\": \"white\", \"showlakes\": true, \"showland\": true, \"subunitcolor\": \"white\"}, \"hoverlabel\": {\"align\": \"left\"}, \"hovermode\": \"closest\", \"mapbox\": {\"style\": \"light\"}, \"paper_bgcolor\": \"white\", \"plot_bgcolor\": \"white\", \"polar\": {\"angularaxis\": {\"gridcolor\": \"rgb(232,232,232)\", \"linecolor\": \"rgb(36,36,36)\", \"showgrid\": false, \"showline\": true, \"ticks\": \"outside\"}, \"bgcolor\": \"white\", \"radialaxis\": {\"gridcolor\": \"rgb(232,232,232)\", \"linecolor\": \"rgb(36,36,36)\", \"showgrid\": false, \"showline\": true, \"ticks\": \"outside\"}}, \"scene\": {\"xaxis\": {\"backgroundcolor\": \"white\", \"gridcolor\": \"rgb(232,232,232)\", \"gridwidth\": 2, \"linecolor\": \"rgb(36,36,36)\", \"showbackground\": true, \"showgrid\": false, \"showline\": true, \"ticks\": \"outside\", \"zeroline\": false, \"zerolinecolor\": \"rgb(36,36,36)\"}, \"yaxis\": {\"backgroundcolor\": \"white\", \"gridcolor\": \"rgb(232,232,232)\", \"gridwidth\": 2, \"linecolor\": \"rgb(36,36,36)\", \"showbackground\": true, \"showgrid\": false, \"showline\": true, \"ticks\": \"outside\", \"zeroline\": false, \"zerolinecolor\": \"rgb(36,36,36)\"}, \"zaxis\": {\"backgroundcolor\": \"white\", \"gridcolor\": \"rgb(232,232,232)\", \"gridwidth\": 2, \"linecolor\": \"rgb(36,36,36)\", \"showbackground\": true, \"showgrid\": false, \"showline\": true, \"ticks\": \"outside\", \"zeroline\": false, \"zerolinecolor\": \"rgb(36,36,36)\"}}, \"shapedefaults\": {\"fillcolor\": \"black\", \"line\": {\"width\": 0}, \"opacity\": 0.3}, \"ternary\": {\"aaxis\": {\"gridcolor\": \"rgb(232,232,232)\", \"linecolor\": \"rgb(36,36,36)\", \"showgrid\": false, \"showline\": true, \"ticks\": \"outside\"}, \"baxis\": {\"gridcolor\": \"rgb(232,232,232)\", \"linecolor\": \"rgb(36,36,36)\", \"showgrid\": false, \"showline\": true, \"ticks\": \"outside\"}, \"bgcolor\": \"white\", \"caxis\": {\"gridcolor\": \"rgb(232,232,232)\", \"linecolor\": \"rgb(36,36,36)\", \"showgrid\": false, \"showline\": true, \"ticks\": \"outside\"}}, \"title\": {\"x\": 0.05}, \"xaxis\": {\"automargin\": true, \"gridcolor\": \"rgb(232,232,232)\", \"linecolor\": \"rgb(36,36,36)\", \"showgrid\": false, \"showline\": true, \"ticks\": \"outside\", \"title\": {\"standoff\": 15}, \"zeroline\": false, \"zerolinecolor\": \"rgb(36,36,36)\"}, \"yaxis\": {\"automargin\": true, \"gridcolor\": \"rgb(232,232,232)\", \"linecolor\": \"rgb(36,36,36)\", \"showgrid\": false, \"showline\": true, \"ticks\": \"outside\", \"title\": {\"standoff\": 15}, \"zeroline\": false, \"zerolinecolor\": \"rgb(36,36,36)\"}}}, \"title\": {\"font\": {\"color\": \"Black\", \"size\": 22}, \"text\": \"<b>Topics per Class\", \"x\": 0.4, \"xanchor\": \"center\", \"y\": 0.95, \"yanchor\": \"top\"}, \"width\": 1250, \"xaxis\": {\"showgrid\": true, \"title\": {\"text\": \"Frequency\"}}, \"yaxis\": {\"showgrid\": true, \"title\": {\"text\": \"Class\"}}},                        {\"responsive\": true}                    ).then(function(){\n",
              "                            \n",
              "var gd = document.getElementById('bc535035-3335-49aa-9abd-902e7bf18946');\n",
              "var x = new MutationObserver(function (mutations, observer) {{\n",
              "        var display = window.getComputedStyle(gd).display;\n",
              "        if (!display || display === 'none') {{\n",
              "            console.log([gd, 'removed!']);\n",
              "            Plotly.purge(gd);\n",
              "            observer.disconnect();\n",
              "        }}\n",
              "}});\n",
              "\n",
              "// Listen for the removal of the full notebook cells\n",
              "var notebookContainer = gd.closest('#notebook-container');\n",
              "if (notebookContainer) {{\n",
              "    x.observe(notebookContainer, {childList: true});\n",
              "}}\n",
              "\n",
              "// Listen for the clearing of the current output cell\n",
              "var outputEl = gd.closest('.output');\n",
              "if (outputEl) {{\n",
              "    x.observe(outputEl, {childList: true});\n",
              "}}\n",
              "\n",
              "                        })                };                            </script>        </div>\n",
              "</body>\n",
              "</html>"
            ]
          },
          "metadata": {
            "tags": []
          }
        }
      ]
    },
    {
      "cell_type": "markdown",
      "metadata": {
        "id": "htMnQdgUo9YH"
      },
      "source": [
        "Now that we have used all labels, BERTopic seems to closely match our pre-defined labels. Moreover, it still allows to discover topics that were not previously defined. Thus, you can use this method to find unknown topics in pre-defined topics!"
      ]
    }
  ]
}